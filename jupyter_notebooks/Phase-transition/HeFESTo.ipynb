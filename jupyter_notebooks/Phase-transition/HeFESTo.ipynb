{
 "cells": [
  {
   "cell_type": "markdown",
   "metadata": {},
   "source": [
    "#### Using HeFESTo lookup table in aspect\n",
    "\n",
    "In this note book, I'll show how to:\n",
    "\n",
    "* a. Import a HeFESTo lookup table\n",
    "* b. Plot This lookup table\n",
    "* c. Estimate the amount of density change and latent heat generation on a mantle adiabat\n",
    "* d. convert to a \"perplex\" lookup table readable by aspect\n",
    "* e. Maintain a workflow using the lookup table, including how to check your implementation."
   ]
  },
  {
   "cell_type": "code",
   "execution_count": null,
   "metadata": {},
   "outputs": [],
   "source": []
  }
 ],
 "metadata": {
  "language_info": {
   "name": "python"
  },
  "orig_nbformat": 4
 },
 "nbformat": 4,
 "nbformat_minor": 2
}
