{
 "cells": [
  {
   "cell_type": "markdown",
   "metadata": {},
   "source": [
    "### Mantle rheology\n",
    "\n",
    "Adjust mantle rheology from aspect\n",
    "\n",
    "### read rheology from updated rheology\n",
    "\n",
    "For reference, look at explain_update_modHK03_rheology.pdf\n"
   ]
  },
  {
   "cell_type": "code",
   "execution_count": null,
   "metadata": {},
   "outputs": [],
   "source": [
    "# \n",
    "\n",
    "HK03 = /\n",
    "{/\n",
    "    \"dislocation_creep\":/\n",
    "    {/\n",
    "        \"A\": 90,/\n",
    "        \"p\": 0.0,/\n",
    "        \"r\": 1.2,/\n",
    "        \"n\": 3.5,/\n",
    "        \"E\": 480e3,/\n",
    "        \"V\": 11e-6,/\n",
    "        \"d\" : 1e4,/\n",
    "        \"Coh\" : 1000.0/\n",
    "    },/\n",
    "    \"diffusion_creep\":/\n",
    "    {/\n",
    "        \"A\" : 1.0e6,/\n",
    "        \"p\" : 3.0,/\n",
    "        \"r\" : 1.0,/\n",
    "        \"n\" : 1.0,/\n",
    "        \"E\" : 335e3,/\n",
    "        \"V\" : 4e-6,/\n",
    "        \"d\" : 1e4,/\n",
    "        \"Coh\" : 1000.0/\n",
    "    }/\n",
    "}"
   ]
  },
  {
   "cell_type": "markdown",
   "metadata": {},
   "source": [
    "### Read aspect depth_average file\n",
    "\n",
    "I would be called later with the class function, so the class could know about the temperature and pressure profile"
   ]
  },
  {
   "cell_type": "code",
   "execution_count": null,
   "metadata": {},
   "outputs": [],
   "source": [
    "def ReadAspectProfile(depth_average_path):\n",
    "    \"\"\"\n",
    "    read a T,P profile from aspect's depth average file\n",
    "    \"\"\"\n",
    "    # check file exist\n",
    "    assert(os.access(depth_average_path, os.R_OK))\n",
    "    # read that\n",
    "    DepthAverage = DEPTH_AVERAGE_PLOT('DepthAverage')\n",
    "    DepthAverage.ReadHeader(depth_average_path)\n",
    "    DepthAverage.ReadData(depth_average_path)\n",
    "    DepthAverage.SplitTimeStep()\n",
    "    time_step = 0\n",
    "    i0 = DepthAverage.time_step_indexes[time_step][-1] * DepthAverage.time_step_length\n",
    "    if time_step == len(DepthAverage.time_step_times) - 1:\n",
    "        # this is the last step\n",
    "        i1 = DepthAverage.data.shape[0]\n",
    "    else:\n",
    "        i1 = DepthAverage.time_step_indexes[time_step + 1][0] * DepthAverage.time_step_length\n",
    "    data = DepthAverage.data[i0:i1, :]\n",
    "    col_depth = DepthAverage.header['depth']['col']\n",
    "    col_P = DepthAverage.header['adiabatic_pressure']['col']\n",
    "    col_T = DepthAverage.header['temperature']['col']\n",
    "    depths = data[:, col_depth]\n",
    "    pressures = data[:, col_P]\n",
    "    temperatures = data[:, col_T]\n",
    "    return depths, pressures, temperatures\n"
   ]
  },
  {
   "cell_type": "markdown",
   "metadata": {},
   "source": [
    "### Class of rheology\n",
    "\n",
    "Here is a class for rheologies. For the purpose of illustrating the modified HK03 rheology, I only include this.\n",
    "\n",
    "#### MantleRheology_v0 function\n",
    "\n",
    "* Take a reference rheology(i.e. diffusion creep and dislocation creep) and apply a perturbation in E and V.\n",
    "* Compute the upper mantle rheology with the reference profile\n",
    "* Compute the lower mantle rheology(A, E) with a jump on 660 km(30.0 in default)\n",
    "* Plot whole mantle rheology profile in semilog plot and output a json file containing the values of parameters in the rheology"
   ]
  },
  {
   "cell_type": "markdown",
   "metadata": {},
   "source": [
    "### initial a class object and call member functions\n",
    "\n",
    "Here I initiate a class and call the member functions to plot the rhoelogy profile."
   ]
  },
  {
   "cell_type": "code",
   "execution_count": null,
   "metadata": {},
   "outputs": [],
   "source": [
    "Operator = RHEOLOGY_OPR()\n",
    "# read profile\n",
    "Operator.ReadProfile(file_path)\n",
    "# do a random walk\n",
    "save_profile = 1\n",
    "include_lower_mantle = 1\n",
    "version = 1\n",
    "if version == 0:\n",
    "    Operator.MantleRheology_v0(save_profile=save_profile)\n",
    "else:\n",
    "    raise CheckValueError('%d is not a valid version of Mantle Rheology' % version)"
   ]
  }
 ],
 "metadata": {
  "kernelspec": {
   "display_name": "Python (aspectLib)",
   "language": "python",
   "name": "aspectlib"
  },
  "language_info": {
   "codemirror_mode": {
    "name": "ipython",
    "version": 3
   },
   "file_extension": ".py",
   "mimetype": "text/x-python",
   "name": "python",
   "nbconvert_exporter": "python",
   "pygments_lexer": "ipython3",
   "version": "3.7.3"
  }
 },
 "nbformat": 4,
 "nbformat_minor": 2
}
