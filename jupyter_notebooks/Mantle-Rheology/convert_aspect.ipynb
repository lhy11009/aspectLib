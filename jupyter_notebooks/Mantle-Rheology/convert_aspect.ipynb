{
 "cells": [
  {
   "cell_type": "markdown",
   "metadata": {},
   "source": [
    "### Converting from a flow law to inputs in aspect\n",
    "\n",
    "The difference between a flow law and the form of rheology used in aspect's visco-plastic module is:\n",
    "\n",
    "Form of the flow law:\n",
    "\n",
    "$\\eta_{df, ds} = F \\left(\\frac{d^p}{A C^r_{OH}} \\right)^{\\frac{1}{n}}\\dot{\\epsilon_E}^{\\frac{1-n}{n}}exp\\left(\\frac{E+P_{lc}V}{nRT}\\right)$\n",
    "\n",
    "Here F is a effective coefficient to account for the differences in the conditions in experiments.\n",
    "\n",
    "Rheology module in aspect:\n",
    "\n",
    "$\\eta_{df, ds} = 0.5 A_p^{-1/n} d^{\\frac{m}{n}} \\dot{\\epsilon_E}^{\\frac{1-n}{n}} exp\\left(\\frac{E+PV}{nRT}\\right) $\n",
    "\n",
    "The main difference in equation is a 0.5 in aspect's rheology and a F in an effective flow law.\n",
    "Otherwise, We use U/I unit in aspect, so d is given in m. In a flow law, d is given in $\\mu m $\n",
    "All these differences will be incorporated into the prefactor A.\n",
    "\n",
    "$ A_p = {10}^{-6p} {10}^{-6n} {C_{oh}}^r A / F^n $\n"
   ]
  },
  {
   "cell_type": "code",
   "execution_count": 38,
   "metadata": {},
   "outputs": [],
   "source": [
    "import numpy as np\n",
    "import os\n",
    "from matplotlib import pyplot as plt\n",
    "from matplotlib import gridspec"
   ]
  },
  {
   "cell_type": "code",
   "execution_count": 39,
   "metadata": {},
   "outputs": [],
   "source": [
    "# dislocation creep in Hirth & Kohlstedt 2003\n",
    "HK03_disl = \\\n",
    "    {\n",
    "        \"A\": 90,\n",
    "        \"p\": 0.0,\n",
    "        \"r\": 1.2,\n",
    "        \"n\": 3.5,\n",
    "        \"E\": 480e3,\n",
    "        \"V\": 11e-6,\n",
    "        \"d\" : 1e4,\n",
    "        \"Coh\" : 1000.0\n",
    "    }\n",
    "\n",
    "# diffusion creep in Hirth & Kohlstedt 2003\n",
    "HK03_diff = \\\n",
    "    {\n",
    "        \"A\" : 1.0e6,\n",
    "        \"p\" : 3.0,\n",
    "        \"r\" : 1.0,\n",
    "        \"n\" : 1.0,\n",
    "        \"E\" : 335e3,\n",
    "        \"V\" : 4e-6,\n",
    "        \"d\" : 1e4,\n",
    "        \"Coh\" : 1000.0\n",
    "    }\n",
    "\n",
    "# modified creep laws from Hirth & Kohlstedt 2003\n",
    "# for detail, refer to magali's explain_update_modHK03_rheology.pdf file\n",
    "HK03_wet_mod_diff = \\\n",
    "    {\n",
    "        # \"A\" : 10**6.9,  # MPa^(-n-r)*um**p/s\n",
    "        \"A\" : 7.1768e6,  # MPa^(-n-r)*um**p/s\n",
    "        \"p\" : 3.0,\n",
    "        \"r\" : 1.0,\n",
    "        \"n\" : 1.0,\n",
    "        \"E\" : 375e3,\n",
    "        \"V\" : 23e-6,\n",
    "        \"d\" : 1e4,\n",
    "        \"Coh\" : 1000.0,\n",
    "        \"wet\": 1.0  # I use this to mark this is a wet rheology, so I need to account for V and E for water later.\n",
    "    }\n",
    "\n",
    "HK03_wet_mod_disl = \\\n",
    "    {\n",
    "        \"A\" : 10**2.65,\n",
    "        \"p\" : 0.0,\n",
    "        \"r\" : 1.0,\n",
    "        \"n\" : 3.5,\n",
    "        \"E\" : 520e3,\n",
    "        \"V\" : 24e-6,\n",
    "        \"d\" : 1e4,\n",
    "        \"Coh\" : 1000.0,\n",
    "        \"wet\" : 1.0\n",
    "    }\n",
    "\n",
    "def Convert2AspectInput(creep_type, **kwargs):\n",
    "    \"\"\"\n",
    "    Viscosity is calculated by flow law in form of (strain_rate)**(1.0 / n - 1) * (B)**(-1.0 / n) * np.exp((E + P * V) / (n * R * T)) * 1e6\n",
    "    while in aspect, flow law in form of 0.5 * A**(-1.0 / n) * d**(m / n) * (strain_rate)**(1.0 / n - 1) * np.exp((E + P * V) / (n * R * T))\n",
    "    Original Units:\n",
    "     - P: Pa\n",
    "     - T: K\n",
    "     - d: mm\n",
    "     - Coh: H / 10^6 Si\n",
    "    Original Units:\n",
    "     - P: Pa\n",
    "     - T: K\n",
    "     - d: m\n",
    "    \"\"\"\n",
    "    # read in initial value\n",
    "    A = creep_type['A']\n",
    "    p = creep_type['p']\n",
    "    r = creep_type['r']\n",
    "    n = creep_type['n']\n",
    "    E = creep_type['E']\n",
    "    V = creep_type['V']\n",
    "    d = creep_type['d']\n",
    "    Coh = creep_type['Coh']\n",
    "    # compute value of F(pre factor)\n",
    "    use_effective_strain_rate = kwargs.get('use_effective_strain_rate', False)\n",
    "    if use_effective_strain_rate:\n",
    "        F = 1 / (2**((n-1)/n)*3**((n+2)/2/n))\n",
    "    else:\n",
    "        F = 1.0\n",
    "    # prepare values for aspect\n",
    "    aspect_creep_type = {}\n",
    "    # stress in the original equation is in Mpa, grain size is in um\n",
    "    aspect_creep_type['A'] = 1e6**(-p) * (1e6)**(-n) * Coh**r * A / F**n  # F term: use effective strain rate\n",
    "    aspect_creep_type['d'] = d / 1e6\n",
    "    aspect_creep_type['n'] = n\n",
    "    aspect_creep_type['m'] = p\n",
    "    aspect_creep_type['E'] = E\n",
    "    aspect_creep_type['V'] = V\n",
    "    return aspect_creep_type"
   ]
  },
  {
   "cell_type": "markdown",
   "metadata": {},
   "source": [
    "#### Convert to aspect outputs\n",
    "\n",
    "In this part, the Convering function is called to transfer to an input in aspect.\n",
    "\n",
    "Then, I output the entries for the prm file accordingly.\n",
    "In aspect, we set the parameters with in a \"material model\".\n",
    "Here we output the entries for this \"material model\".\n",
    "For example, these outputs could be included in the \"Visco Plastic\" module"
   ]
  },
  {
   "cell_type": "code",
   "execution_count": 40,
   "metadata": {},
   "outputs": [
    {
     "name": "stdout",
     "output_type": "stream",
     "text": [
      "set Viscous flow law = composite\n",
      "set Prefactors for diffusion creep = 1.0000e-15\n",
      "set Grain size exponents for diffusion creep = 3.0000e+00\n",
      "set Activation energies for diffusion creep = 3.3500e+05\n",
      "set Activation volumes for diffusion creep = 4.0000e-06\n",
      "set Prefactors for dislocation creep = 3.5830e-16\n",
      "set Stress exponents for dislocation creep = 3.5000e+00\n",
      "set Activation energies for dislocation creep  = 4.8000e+05\n",
      "set Activation volumes for dislocation creep  = 1.1000e-05\n",
      "\n"
     ]
    }
   ],
   "source": [
    "HK03_diff_aspect = Convert2AspectInput(HK03_diff)\n",
    "HK03_disl_aspect = Convert2AspectInput(HK03_disl)\n",
    "outputs = \"\"\n",
    "outputs += \"set Viscous flow law = composite\\n\"\n",
    "outputs += \"set Prefactors for diffusion creep = %.4e\\n\" % HK03_diff_aspect['A']\n",
    "outputs += \"set Grain size exponents for diffusion creep = %.4e\\n\" % HK03_diff_aspect['m']\n",
    "outputs += \"set Activation energies for diffusion creep = %.4e\\n\" % HK03_diff_aspect['E']\n",
    "outputs += \"set Activation volumes for diffusion creep = %.4e\\n\" % HK03_diff_aspect['V']\n",
    "outputs += \"set Prefactors for dislocation creep = %.4e\\n\" % HK03_disl_aspect['A']\n",
    "outputs += \"set Stress exponents for dislocation creep = %.4e\\n\" % HK03_disl_aspect['n']\n",
    "outputs += \"set Activation energies for dislocation creep  = %.4e\\n\" % HK03_disl_aspect['E']\n",
    "outputs += \"set Activation volumes for dislocation creep  = %.4e\\n\" % HK03_disl_aspect['V']\n",
    "print(outputs)"
   ]
  },
  {
   "cell_type": "markdown",
   "metadata": {},
   "source": [
    "#### Step 2 Include a lower mantle rheology with a jump at the boundary\n",
    "\n",
    "Firstly, we need two functions to compute pressure and temperature at 660 km depth.\n",
    "\n",
    "Secondly, we will take the diffusion creep rheology in the upper mantle, compute the viscosity at 660km.\n",
    "Last, a jump is applied on the lower mantle rheology right at 660km depth by altering the value of A.\n",
    "Note that an activation volume is prescribed, due to the lack of knowledge on the lower mantle rheology.\n",
    "We will discuss the choice of that in the next section.\n",
    "\n",
    "With this, we will explain how the parameter file handles this new rheology by using a phase transition function"
   ]
  },
  {
   "cell_type": "code",
   "execution_count": 41,
   "metadata": {},
   "outputs": [],
   "source": [
    "def adiabatT(zs):\n",
    "    '''\n",
    "    compute adiabatic temperature based on depth\n",
    "    Inputs:\n",
    "    z (float or ndarray) - depth (m)\n",
    "    '''\n",
    "    Tad_surface = 1673.0 \n",
    "    mad = 0.5715  # deg/km, approximating adiabat to match T(CMB) in Aspect\n",
    "    Tads = Tad_surface + mad*(zs/1e3)\n",
    "    return Tads\n",
    "\n",
    "def pressure_from_lithostatic(z,Tad):\n",
    "    '''\n",
    "    A lithostatic pressure profile\n",
    "    Inputs:\n",
    "\tz (float) - depth in m\n",
    "\tTad (float) - adiabatic temperature\n",
    "    '''\n",
    "    # Density Profile\n",
    "    refrho = 3300  # kg/m^3\n",
    "    refT = 1673        # K\n",
    "    alpha = 3.1e-5  # 1/K\n",
    "    g = 9.81 # m/s^2\n",
    "    density = refrho*(1-alpha*(Tad-refT))\n",
    "\n",
    "    # start loop at 1 because P[0] = 0\n",
    "    dz = z[1]-z[0]\n",
    "    P = np.zeros(np.size(z))\n",
    "    for i in range(1, np.size(z)):\n",
    "        P[i] = P[i-1] + 0.5*(density[i]+density[i-1])*g*dz\n",
    "    return P"
   ]
  },
  {
   "cell_type": "markdown",
   "metadata": {},
   "source": [
    "Here, we use the phase function entries in the \"Visco plastic\" material model.\n",
    "Phase transition are set up by:\n",
    "        \n",
    "\tset Phase transition depths = background:660e3\n",
    "        set Phase transition widths = background:5e3\n",
    "        set Phase transition temperatures = background:1673.0\n",
    "        set Phase transition Clapeyron slopes = background:-2e6\n",
    "\n",
    "Here \"background\" indicates we are assigning properties to the \"background\" composition.\n",
    "As for the properties, an example is:\n",
    "\n",
    "\tset Prefactors for diffusion creep = background: 1.0000e-15| 3.3333e-17\n",
    "\n",
    "The \"|\" connects two entries for two phases, respectively.\n",
    "\n",
    "The follow section would output the settings in the prm file for the lower mantle rheology.\n",
    "Note that for the dislocation creep, we simply set the A value to be the limit of float32 value, so it wont' be activated."
   ]
  },
  {
   "cell_type": "code",
   "execution_count": 42,
   "metadata": {},
   "outputs": [
    {
     "name": "stdout",
     "output_type": "stream",
     "text": [
      "set Viscous flow law = composite\n",
      "set Prefactors for diffusion creep = background: 1.0000e-15| 3.3333e-17\n",
      "set Grain size exponents for diffusion creep = background: 3.0000e+00| 3.0000e+00\n",
      "set Activation energies for diffusion creep = background: 3.3500e+05| 3.3500e+05\n",
      "set Activation volumes for diffusion creep = background: 4.0000e-06| 4.0000e-06\n",
      "set Prefactors for dislocation creep = background: 3.5830e-16| 5.0000e-32\n",
      "set Stress exponents for dislocation creep = background: 3.5000e+00| 3.5000e+00\n",
      "set Activation energies for dislocation creep  = background: 4.8000e+05| 4.8000e+05\n",
      "set Activation volumes for dislocation creep  = background: 1.1000e-05| 1.1000e-05\n",
      "\n"
     ]
    }
   ],
   "source": [
    "jump = 30.0  # jump of viscosity at the upper / lower mantle boundary\n",
    "R = 8.314\n",
    "lm_diff_aspect = HK03_diff_aspect.copy()\n",
    "# prescribe upper mantle parameters\n",
    "A = HK03_diff_aspect['A']\n",
    "n = HK03_diff_aspect['n']\n",
    "V = HK03_diff_aspect['V']\n",
    "T = adiabatT(660e3)\n",
    "zs = np.linspace(0, 1000e3, 1001) # to compute P, we need an array of increment of depth\n",
    "Tads = adiabatT(zs)\n",
    "Ps = pressure_from_lithostatic(zs, Tads)\n",
    "P = Ps[660]\n",
    "# prescribe lower mantle activation volume, with P and T at 660 km depth\n",
    "V1 = 4e-6\n",
    "lm_diff_aspect['A'] = jump**(-n) * A * np.exp(P * (V1 - V) / (R * T))\n",
    "# outputs\n",
    "outputs = \"\"\n",
    "outputs += \"set Viscous flow law = composite\\n\"\n",
    "outputs += \"set Prefactors for diffusion creep = background: %.4e| %.4e\\n\" % (HK03_diff_aspect['A'], lm_diff_aspect['A'])\n",
    "outputs += \"set Grain size exponents for diffusion creep = background: %.4e| %.4e\\n\" % (HK03_diff_aspect['m'], lm_diff_aspect['m'])\n",
    "outputs += \"set Activation energies for diffusion creep = background: %.4e| %.4e\\n\" % (HK03_diff_aspect['E'], lm_diff_aspect['E'])\n",
    "outputs += \"set Activation volumes for diffusion creep = background: %.4e| %.4e\\n\" % (HK03_diff_aspect['V'], lm_diff_aspect['V'])\n",
    "outputs += \"set Prefactors for dislocation creep = background: %.4e| %.4e\\n\" % (HK03_disl_aspect['A'], 5e-32)\n",
    "outputs += \"set Stress exponents for dislocation creep = background: %.4e| %.4e\\n\" % (HK03_disl_aspect['n'],  HK03_disl_aspect['n'])\n",
    "outputs += \"set Activation energies for dislocation creep  = background: %.4e| %.4e\\n\" % (HK03_disl_aspect['E'], HK03_disl_aspect['E'])\n",
    "outputs += \"set Activation volumes for dislocation creep  = background: %.4e| %.4e\\n\" % (HK03_disl_aspect['V'], HK03_disl_aspect['V'])\n",
    "print(outputs)"
   ]
  },
  {
   "cell_type": "markdown",
   "metadata": {},
   "source": [
    "(todo)\n",
    "Next we plot the viscosity profile in aspect.\n",
    "We will first read in the computed temperature & pressure profile from the \"depth_average.txt\" file.\n",
    "\n",
    "For the lower mantle, note that the rheology has a large uncertainty, thus we could adjust the values by looking at the profile.\n",
    "\n",
    "(todo)\n",
    "Why we cannot just assign a constant viscosity for the lower mantle?\n"
   ]
  },
  {
   "cell_type": "code",
   "execution_count": 52,
   "metadata": {},
   "outputs": [
    {
     "data": {
      "text/plain": [
       "<matplotlib.legend.Legend at 0x7f4d547c9590>"
      ]
     },
     "execution_count": 52,
     "metadata": {},
     "output_type": "execute_result"
    },
    {
     "data": {
      "image/png": "[encoded data removed]",
      "text/plain": [
       "<Figure size 1440x1440 with 2 Axes>"
      ]
     },
     "metadata": {
      "needs_background": "light"
     },
     "output_type": "display_data"
    }
   ],
   "source": [
    "# (todo) Read a temperature profile from aspect\n",
    "depth_avg_file=\"./depth_average.txt\"\n",
    "assert(os.path.isfile(depth_avg_file))\n",
    "data = np.genfromtxt(depth_avg_file, comments='#', filling_values=0.0)\n",
    "zs = data[:, 1]\n",
    "Ts = data[:, 2]\n",
    "Ps = data[:, 8]\n",
    "# interpolate to more points\n",
    "zNs = np.linspace(0, 2800e3, 200)\n",
    "TNs = np.interp(zNs, zs, Ts)\n",
    "PNs = np.interp(zNs, zs, Ps)\n",
    "# Plot the profile\n",
    "fig = plt.figure(figsize=(20,20))\n",
    "gs = gridspec.GridSpec(2, 2)\n",
    "ax = fig.add_subplot(gs[0, 0]) # plot temperature & pressure\n",
    "lns1 = ax.plot(TNs, zNs/1e3, 'r-', label = \"Temperature\")  \n",
    "ax.set_xlabel(\"Temperature (K)\")\n",
    "ax.set_ylabel(\"Depth (km)\")\n",
    "ax.invert_yaxis()\n",
    "ax_p = ax.twiny()\n",
    "lns2 = ax_p.plot(PNs/1e9, zNs/1e3, 'b-', label = \"Pressure\")\n",
    "ax_p.set_xlabel(\"Pressure (GPa)\")\n",
    "lns = lns1 + lns2\n",
    "labs = [I.get_label() for I in lns]\n",
    "ax.legend(lns, labs)"
   ]
  }
 ],
 "metadata": {
  "interpreter": {
   "hash": "31f2aee4e71d21fbe5cf8b01ff0e069b9275f58929596ceb00d14d90e3e16cd6"
  },
  "kernelspec": {
   "display_name": "Python 3.8.10 64-bit",
   "language": "python",
   "name": "python3"
  },
  "language_info": {
   "codemirror_mode": {
    "name": "ipython",
    "version": 3
   },
   "file_extension": ".py",
   "mimetype": "text/x-python",
   "name": "python",
   "nbconvert_exporter": "python",
   "pygments_lexer": "ipython3",
   "version": "3.7.10"
  },
  "orig_nbformat": 4
 },
 "nbformat": 4,
 "nbformat_minor": 2
}
