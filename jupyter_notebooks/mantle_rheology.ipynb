{
 "cells": [
  {
   "cell_type": "markdown",
   "metadata": {},
   "source": [
    "### Mantle rheology\n",
    "\n",
    "The goal of this notebook is to walk through mantle rheology if the form of dislocation and diffusion creep.\n",
    "\n",
    "These contents are included(todo):\n",
    "\n",
    "* Introduce flow law with the parameters for olivine defined in Hirth & Kohlstedt 2003\n",
    "* An update on the parameters with new results (reference: explain_update_modHK03_rheology.pdf)"
   ]
  },
  {
   "cell_type": "code",
   "execution_count": 79,
   "metadata": {},
   "outputs": [],
   "source": [
    "import numpy as np\n",
    "from scipy.special import erf\n",
    "from matplotlib import pyplot as plt\n",
    "\n",
    "R = 8.314\n",
    "year = 365.0 * 24.0 * 3600.0\n",
    "eta_min = 1e18\n",
    "eta_max = 1e25"
   ]
  },
  {
   "cell_type": "markdown",
   "metadata": {},
   "source": [
    "#### Step 1: Define the parameters in flow law and view and example\n",
    "\n",
    "##### 1.1 Form of the flow law\n",
    "\n",
    "$\\eta_{df, ds} = F \\left(\\frac{d^p}{A C^r_{OH}} \\right)\\dot{\\epsilon_E}^{\\frac{1-n}{n}}exp\\left(\\frac{E+P_{lc}V}{nRT}\\right)$\n",
    "\n",
    "Here F is a effective coefficient to account for the differences in the conditions in experiments."
   ]
  },
  {
   "cell_type": "code",
   "execution_count": 80,
   "metadata": {},
   "outputs": [],
   "source": [
    "def CreepRheology(creep_type, strain_rate, P, T, d=None, Coh=None, **kwargs):\n",
    "    \"\"\"\n",
    "    def CreepRheology(creep_type, strain_rate, P, T, d, Coh):\n",
    "\n",
    "    Calculate viscosity by flow law in form of (strain_rate)**(1.0 / n - 1) * (B)**(-1.0 / n) * np.exp((E + P * V) / (n * R * T))\n",
    "    Units:\n",
    "     - P: Pa\n",
    "     - T: K\n",
    "     - d: mu m\n",
    "     - Coh: H / 10^6 Si\n",
    "     - Return value: Pa*s\n",
    "    Pay attention to pass in the right value, this custom is inherited\n",
    "    \"\"\"\n",
    "    A = creep_type['A']\n",
    "    p = creep_type['p']\n",
    "    r = creep_type['r']\n",
    "    n = creep_type['n']\n",
    "    E = creep_type['E']\n",
    "    V = creep_type['V']\n",
    "    # compute value of F(pre factor)\n",
    "    use_effective_strain_rate = kwargs.get('use_effective_strain_rate', False)\n",
    "    if use_effective_strain_rate:\n",
    "        F = 1 / (2**((n-1)/n)*3**((n+2)/2/n))\n",
    "    else:\n",
    "        F = 1.0\n",
    "\n",
    "    if d is None:\n",
    "        d = creep_type['d']\n",
    "    if Coh is None:\n",
    "        Coh = creep_type['Coh']\n",
    "    # calculate B\n",
    "    B = A * d**(-p) * Coh**r\n",
    "    eta = 1/2.0 * F * (strain_rate)**(1.0 / n - 1) * (B)**(-1.0 / n) * np.exp((E + P * V) / (n * R * T)) * 1e6\n",
    "\n",
    "    return eta\n",
    "\n",
    "\n"
   ]
  },
  {
   "cell_type": "markdown",
   "metadata": {},
   "source": [
    "\n",
    "\n",
    "#### 1.2 The example from Hirth and Kohlstedt 2003, table 1\n",
    "\n",
    "![](./HK03_table1.png)"
   ]
  },
  {
   "cell_type": "code",
   "execution_count": 81,
   "metadata": {},
   "outputs": [],
   "source": [
    "# dislocation creep in Hirth & Kohlstedt 2003\n",
    "HK03_disl = \\\n",
    "    {\n",
    "        \"A\": 90,\n",
    "        \"p\": 0.0,\n",
    "        \"r\": 1.2,\n",
    "        \"n\": 3.5,\n",
    "        \"E\": 480e3,\n",
    "        \"V\": 11e-6,\n",
    "        \"d\" : 1e4,\n",
    "        \"Coh\" : 1000.0\n",
    "    }\n",
    "\n",
    "# diffusion creep in Hirth & Kohlstedt 2003\n",
    "HK03_diff = \\\n",
    "    {\n",
    "        \"A\" : 1.0e6,\n",
    "        \"p\" : 3.0,\n",
    "        \"r\" : 1.0,\n",
    "        \"n\" : 1.0,\n",
    "        \"E\" : 335e3,\n",
    "        \"V\" : 4e-6,\n",
    "        \"d\" : 1e4,\n",
    "        \"Coh\" : 1000.0\n",
    "    }\n",
    "\n",
    "# modified creep laws from Hirth & Kohlstedt 2003\n",
    "# for detail, refer to magali's explain_update_modHK03_rheology.pdf file\n",
    "HK03_wet_mod_diff = \\\n",
    "    {\n",
    "        # \"A\" : 10**6.9,  # MPa^(-n-r)*um**p/s\n",
    "        \"A\" : 7.1768e6,  # MPa^(-n-r)*um**p/s\n",
    "        \"p\" : 3.0,\n",
    "        \"r\" : 1.0,\n",
    "        \"n\" : 1.0,\n",
    "        \"E\" : 375e3,\n",
    "        \"V\" : 23e-6,\n",
    "        \"d\" : 1e4,\n",
    "        \"Coh\" : 1000.0,\n",
    "        \"wet\": 1.0  # I use this to mark this is a wet rheology, so I need to account for V and E for water later.\n",
    "    }\n",
    "\n",
    "HK03_wet_mod_disl = \\\n",
    "    {\n",
    "        \"A\" : 10**2.65,\n",
    "        \"p\" : 0.0,\n",
    "        \"r\" : 1.0,\n",
    "        \"n\" : 3.5,\n",
    "        \"E\" : 520e3,\n",
    "        \"V\" : 24e-6,\n",
    "        \"d\" : 1e4,\n",
    "        \"Coh\" : 1000.0,\n",
    "        \"wet\" : 1.0\n",
    "    }\n"
   ]
  },
  {
   "cell_type": "markdown",
   "metadata": {},
   "source": [
    "To make sure our computation is valid, we can calculate the two examples given under table 1 directly.\n",
    "\n",
    "The only difference is we are computing the viscosity, while the examples compute stress. In this way, we will mutiply our viscosity with 2 times the strain rate to get the stress to compare.\n",
    "\n",
    "Note that this case shows the viscosity mantle is \"highly deformed\" even under 0.3 Mpa, as the strain rate from the dislocation creep already reaches $1 \\times 10^{-12} s-1$"
   ]
  },
  {
   "cell_type": "code",
   "execution_count": 82,
   "metadata": {},
   "outputs": [
    {
     "name": "stdout",
     "output_type": "stream",
     "text": [
      "At strain rate = 7.8000e-15 s-1, diffusion creep (COH = 1000) from Hirth & Kohlstedt 2003 gives viscosity = 6.0174e+16 Pa*s, stress = 2.9977e-01 Mpa\n",
      "At strain rate = 2.5000e-12 s-1, dislocation creep (COH = 1000) from Hirth & Kohlstedt 2003 gives viscosity = 6.0174e+16 Pa*s, stress = 3.0087e-01 Mpa\n"
     ]
    }
   ],
   "source": [
    "pressure = 1e9\n",
    "temperature = 1673.0 # K\n",
    "# diffusion creep\n",
    "strain_rate = 7.8e-15\n",
    "eta_diff = CreepRheology(HK03_diff, strain_rate, pressure, temperature)\n",
    "stress = 2.0 * strain_rate * eta_diff\n",
    "print(\"At strain rate = %.4e s-1, diffusion creep (COH = 1000) from Hirth & Kohlstedt 2003 gives viscosity = %.4e Pa*s, stress = %.4e Mpa\"\\\n",
    "     % (strain_rate, eta_disl, stress/1e6))\n",
    "# dislocation creep\n",
    "strain_rate = 2.5e-12\n",
    "eta_disl = CreepRheology(HK03_disl, strain_rate, pressure, temperature)\n",
    "stress = 2.0 * strain_rate * eta_disl\n",
    "print(\"At strain rate = %.4e s-1, dislocation creep (COH = 1000) from Hirth & Kohlstedt 2003 gives viscosity = %.4e Pa*s, stress = %.4e Mpa\"\\\n",
    "     % (strain_rate, eta_disl, stress/1e6))"
   ]
  },
  {
   "cell_type": "markdown",
   "metadata": {},
   "source": [
    "##### 1.3 Plot the  mantle rheologic profile with a temperature & pressure profile\n",
    "\n",
    "Here, we first generate a temperature profile and a pressure profile.\n",
    "\n",
    "The temperature profile is generated from the Half-space cooling model and a mantle adiabat.\n",
    "\n",
    "The pressure profile, on the other hand, takes care of the density change due to thermal expansivity on the temperature profile.\n",
    "The viscosity profile, is then computed on both T and P assuming some grain size."
   ]
  },
  {
   "cell_type": "code",
   "execution_count": 84,
   "metadata": {},
   "outputs": [
    {
     "ename": "TypeError",
     "evalue": "'Text' object is not callable",
     "output_type": "error",
     "traceback": [
      "\u001b[0;31m---------------------------------------------------------------------------\u001b[0m",
      "\u001b[0;31mTypeError\u001b[0m                                 Traceback (most recent call last)",
      "\u001b[0;32m/tmp/ipykernel_3290266/813779058.py\u001b[0m in \u001b[0;36m<module>\u001b[0;34m\u001b[0m\n\u001b[1;32m     70\u001b[0m \u001b[0max\u001b[0m\u001b[0;34m.\u001b[0m\u001b[0mset_xlabel\u001b[0m\u001b[0;34m(\u001b[0m\u001b[0;34m\"viscosity (Pa*s))\"\u001b[0m\u001b[0;34m)\u001b[0m\u001b[0;34m\u001b[0m\u001b[0;34m\u001b[0m\u001b[0m\n\u001b[1;32m     71\u001b[0m \u001b[0max\u001b[0m\u001b[0;34m.\u001b[0m\u001b[0mset_ylabel\u001b[0m\u001b[0;34m(\u001b[0m\u001b[0;34m\"Depth (km)\"\u001b[0m\u001b[0;34m)\u001b[0m\u001b[0;34m\u001b[0m\u001b[0;34m\u001b[0m\u001b[0m\n\u001b[0;32m---> 72\u001b[0;31m \u001b[0max\u001b[0m\u001b[0;34m.\u001b[0m\u001b[0mtitle\u001b[0m\u001b[0;34m(\u001b[0m\u001b[0;34m\"Viscosity with limits\"\u001b[0m\u001b[0;34m)\u001b[0m\u001b[0;34m\u001b[0m\u001b[0;34m\u001b[0m\u001b[0m\n\u001b[0m\u001b[1;32m     73\u001b[0m \u001b[0max\u001b[0m\u001b[0;34m.\u001b[0m\u001b[0mlegend\u001b[0m\u001b[0;34m(\u001b[0m\u001b[0;34m)\u001b[0m\u001b[0;34m\u001b[0m\u001b[0;34m\u001b[0m\u001b[0m\n\u001b[1;32m     74\u001b[0m \u001b[0max\u001b[0m\u001b[0;34m.\u001b[0m\u001b[0minvert_yaxis\u001b[0m\u001b[0;34m(\u001b[0m\u001b[0;34m)\u001b[0m\u001b[0;34m\u001b[0m\u001b[0;34m\u001b[0m\u001b[0m\n",
      "\u001b[0;31mTypeError\u001b[0m: 'Text' object is not callable"
     ]
    },
    {
     "data": {
      "image/png": "[encoded data removed]",
      "text/plain": [
       "<Figure size 360x1080 with 3 Axes>"
      ]
     },
     "metadata": {
      "needs_background": "light"
     },
     "output_type": "display_data"
    }
   ],
   "source": [
    "\n",
    "def pressure_from_lithostatic(z,Tad):\n",
    "    '''\n",
    "    A lithostatic pressure profile\n",
    "    Inputs:\n",
    "\tz (float) - depth in m\n",
    "\tTad (float) - adiabatic temperature\n",
    "    '''\n",
    "    # Density Profile\n",
    "    refrho = 3300  # kg/m^3\n",
    "    refT = 1673        # K\n",
    "    alpha = 3.1e-5  # 1/K\n",
    "    g = 9.81 # m/s^2\n",
    "    density = refrho*(1-alpha*(Tad-refT))\n",
    "\n",
    "    # start loop at 1 because P[0] = 0\n",
    "    dz = z[1]-z[0]\n",
    "    P = np.zeros(np.size(z))\n",
    "    for i in range(1, np.size(z)):\n",
    "        P[i] = P[i-1] + 0.5*(density[i]+density[i-1])*g*dz\n",
    "    return P\n",
    "\n",
    "\n",
    "def temperature_halfspace(z, t, **kwargs):\n",
    "    '''\n",
    "    temperature from a half-space cooling model\n",
    "    Inputs:\n",
    "\tz (float) - depth (m)\n",
    "\tt - age (s)\n",
    "    kwargs (dict):\n",
    "        Tm (float) - mantle temperature\n",
    "    '''\n",
    "    # Physical constants\n",
    "    kappa = 1e-6  # thermal diffusivity (m^2/s)\n",
    "    T_s = 273  # surface temperature (K)\n",
    "    T_m = kwargs.get(\"Tm\", 1673) # mantle temperature (K)\n",
    "    T = T_s + (T_m - T_s)*erf(z/(2*np.sqrt(kappa*t)))\n",
    "    return T\n",
    "\n",
    "strain_rate = 1e-15\n",
    "zs = np.arange(0.0, 660.0, 1.0) * 1e3\n",
    "age = 80e6 * year\n",
    "Tad_surface = 1673.0 \n",
    "mad = 0.5715  # deg/km, approximating adiabat to match T(CMB) in Aspect\n",
    "Tads = Tad_surface + mad*(zs/1e3)\n",
    "Ts = np.zeros(zs.shape)  # temperature, combine HS model with adiabat\n",
    "for i in range(zs.size):\n",
    "    z = zs[i]\n",
    "    Tad = Tads[i]\n",
    "    Ts[i] = temperature_halfspace(z, age, Tm = Tad)\n",
    "Ps = pressure_from_lithostatic(zs, Ts)  # pressure, using the computed temperature\n",
    "# compute viscosities\n",
    "etas_disl = CreepRheology(HK03_disl, strain_rate, Ps, Ts)\n",
    "etas_diff = CreepRheology(HK03_diff, strain_rate, Ps, Ts)\n",
    "# plot figures\n",
    "fig = plt.figure(figsize=(5, 15))\n",
    "ax = fig.add_subplot(3, 1, 1)  # plot pressure\n",
    "ax.plot(Ps/1e9, zs/1e3, 'b')\n",
    "ax.set_xlabel(\"Pressure (GPa)\")\n",
    "ax.set_ylabel(\"Depth (km)\")\n",
    "ax.invert_yaxis()\n",
    "ax = fig.add_subplot(3, 1, 2)  # plot temperature\n",
    "ax.plot(Ts, zs/1e3, 'r')\n",
    "ax.set_xlabel(\"Temperature (K)\")\n",
    "ax.set_ylabel(\"Depth (km)\")\n",
    "ax.invert_yaxis()\n",
    "ax = fig.add_subplot(3, 1, 3)  # plot viscosity\n",
    "ax.semilogx(etas_disl, zs/1e3, 'g', label=\"dislocation creep (HK03)\")\n",
    "ax.semilogx(etas_diff, zs/1e3, 'k', label=\"diffusion creep (HK03)\")\n",
    "ax.set_xlim([eta_min, eta_max])  # set x limit\n",
    "ax.set_xlabel(\"viscosity (Pa*s))\")\n",
    "ax.set_ylabel(\"Depth (km)\")\n",
    "ax.title(\"Viscosity with limits\")\n",
    "ax.legend()\n",
    "ax.invert_yaxis()\n",
    "fig.tight_layout()"
   ]
  },
  {
   "cell_type": "markdown",
   "metadata": {},
   "source": [
    "#### Step 2: derive a upper mantle viscosity profile for geodynamics\n",
    "\n",
    "This are 2 things need to be done after Step 1 to reach a profile:\n",
    "* 1. Apply yielding in the shallower parts.\n",
    "* 2. At each depth, combine the computation of different flow laws.\n",
    "\n",
    "There are both physical reason and numerical reason to have a yielding scheme at shallower depth.\n",
    "Physically, the shallower part has much lower temperature, thus subjected to brittle deformation.\n",
    "Numerically, the variation in viscosity a numerical code could handle is always limited (at best 7-8 orders)."
   ]
  },
  {
   "cell_type": "markdown",
   "metadata": {},
   "source": [
    "### Read aspect depth_average file\n",
    "\n",
    "I would be called later with the class function, so the class could know about the temperature and pressure profile"
   ]
  },
  {
   "cell_type": "markdown",
   "metadata": {},
   "source": [
    "#### compute a lower mantle rheology for aspect"
   ]
  }
 ],
 "metadata": {
  "interpreter": {
   "hash": "04f94a466fc6855f7f994dd3204adbc7760ad767ef3aef9ead569409decf9820"
  },
  "kernelspec": {
   "display_name": "Python (aspectLib)",
   "language": "python",
   "name": "python3"
  },
  "language_info": {
   "codemirror_mode": {
    "name": "ipython",
    "version": 3
   },
   "file_extension": ".py",
   "mimetype": "text/x-python",
   "name": "python",
   "nbconvert_exporter": "python",
   "pygments_lexer": "ipython3",
   "version": "3.7.10"
  }
 },
 "nbformat": 4,
 "nbformat_minor": 2
}
