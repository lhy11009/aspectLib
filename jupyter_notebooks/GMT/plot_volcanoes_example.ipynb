{
 "cells": [
  {
   "cell_type": "code",
   "execution_count": 7,
   "metadata": {},
   "outputs": [],
   "source": [
    "#!/opt/miniconda3/bin/python\n",
    "\n",
    "import pygmt\n",
    "import json\t# for reading bird plate-boundary data\n",
    "import numpy as np\n",
    "import os\n",
    "from os.path import exists as file_exists\n",
    "#import slab2bird as sb   # loads slab2bird dictionary\n",
    "\n",
    "# directory to the aspect Lab\n",
    "ASPECT_LAB_DIR = os.environ['ASPECT_LAB_DIR']\n",
    "RESULT_DIR = os.path.join(ASPECT_LAB_DIR, 'results')\n",
    "\n",
    "sys.path.append(os.path.join(ASPECT_LAB_DIR))\n",
    "\n",
    "dir = os.path.join(ASPECT_LAB_DIR, 'tests/integration/big_fixtures/GMT')"
   ]
  },
  {
   "cell_type": "code",
   "execution_count": null,
   "metadata": {},
   "outputs": [],
   "source": [
    "# For plot read in topography for basemap and choose fonts\n",
    "pygmt.config(FONT='10p,Times-Roman,black')\n",
    "pygmt.config(FONT_LABEL='10p,Times-Roman,black')\n",
    "pygmt.config(FONT_TITLE='10p,Times-Roman,black')\n",
    "pygmt.config(MAP_TITLE_OFFSET='6.0p')\n",
    "pygmt.config(FORMAT_GEO_MAP=\"ddd\")"
   ]
  },
  {
   "cell_type": "code",
   "execution_count": null,
   "metadata": {},
   "outputs": [],
   "source": [
    "# Set Regional Map dimensions\n",
    "west = -143.0\n",
    "east = -100.0\n",
    "south = 32.0\n",
    "north = 58.0\n",
    "region_data = np.array([west, east, south, north])\n",
    "\n",
    "dlon_edge = 0.35\n",
    "dlat_edge = 1.0\n",
    "region1 = str(west) + '/' + str(east) + '/' + str(south) + '/' + str(north) \n",
    "print('Region: ', region1)\n",
    "\n",
    "# Get center position and two latitude locations to define regional projection\n",
    "clon = np.floor(region_data[0:2].mean())\n",
    "clat = np.floor(region_data[2:4].mean())\n",
    "lat1 = np.floor(0.5*(north - clat) + clat )\n",
    "lat2 = np.floor(clat - 0.5*(clat - south) )\n",
    "\n",
    "mapwidth = 4.5 # inches, sets size of figure on page\n",
    "proj1 = 'B' + str(clon) + '/' + str(clat) + '/' + str(lat1) + '/' + str(lat2) + '/' + str(mapwidth) + 'i'\n",
    "print(\"proj1: \", proj1)"
   ]
  },
  {
   "cell_type": "code",
   "execution_count": null,
   "metadata": {},
   "outputs": [],
   "source": [
    "# Start figure\n",
    "# fig.plot: sources could be plotted in different formats, given by the \"pen\" or \"style\" options\n",
    "fig = pygmt.Figure()\n",
    "fig.basemap(region=region1, projection=proj1, frame=[\"a5f2.5\", f'WSne'])\n",
    "print('Plotting topo grid')\n",
    "fig.plot(data=os.path.join(dir, 'holocene_volcano_lonlat.dat'), pen='1p,red')  # red line connecting volcanoes\n",
    "fig.plot(data=os.path.join(dir, 'holocene_volcano_lonlat.dat'),style=\"t0.2c\", pen='1p,black',fill='darkred') # volcanoes as triangles.\n",
    "\n",
    "pdffile = 'volcanos_example.pdf'\n",
    "fig.savefig(pdffile)\n",
    "fig.show()"
   ]
  }
 ],
 "metadata": {
  "interpreter": {
   "hash": "04f94a466fc6855f7f994dd3204adbc7760ad767ef3aef9ead569409decf9820"
  },
  "kernelspec": {
   "display_name": "Python 3.7.13 ('aspectLib')",
   "language": "python",
   "name": "python3"
  },
  "language_info": {
   "codemirror_mode": {
    "name": "ipython",
    "version": 3
   },
   "file_extension": ".py",
   "mimetype": "text/x-python",
   "name": "python",
   "nbconvert_exporter": "python",
   "pygments_lexer": "ipython3",
   "version": "3.12.3"
  },
  "orig_nbformat": 4
 },
 "nbformat": 4,
 "nbformat_minor": 2
}
