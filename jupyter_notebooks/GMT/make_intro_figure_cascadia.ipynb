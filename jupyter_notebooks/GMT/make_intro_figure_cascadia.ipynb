{
 "cells": [
  {
   "cell_type": "markdown",
   "metadata": {},
   "source": [
    "### make_intro_figure\n",
    "\n",
    "adapted from the pygmtexamplewitheverything/make_intro_figure.py file sent by Magali in email 04/2024\n",
    "\n",
    "note on the files:\n",
    "\n",
    "    the .txt files need to be under the local directory\n",
    "\n",
    "    the .grd files from slab2.0 is stored some elsewhere"
   ]
  },
  {
   "cell_type": "code",
   "execution_count": null,
   "metadata": {},
   "outputs": [],
   "source": [
    "#!/opt/miniconda3/bin/python\n",
    "import pygmt\n",
    "import json\t# for reading bird plate-boundary data\n",
    "import numpy as np\n",
    "import os\n",
    "import sys\n",
    "from os.path import exists as file_exists\n",
    "#import slab2bird as sb   # loads slab2bird dictionary\n",
    "\n",
    "# directory to the aspect Lab\n",
    "ASPECT_LAB_DIR = os.environ['ASPECT_LAB_DIR']\n",
    "RESULT_DIR = os.path.join(ASPECT_LAB_DIR, 'results')\n",
    "\n",
    "sys.path.append(os.path.join(ASPECT_LAB_DIR))"
   ]
  },
  {
   "cell_type": "code",
   "execution_count": null,
   "metadata": {},
   "outputs": [],
   "source": [
    "# For plot read in topography for basemap and choose fonts\n",
    "pygmt.config(FONT='10p,Times-Roman,black')\n",
    "pygmt.config(FONT_LABEL='10p,Times-Roman,black')\n",
    "pygmt.config(FONT_TITLE='10p,Times-Roman,black')\n",
    "pygmt.config(MAP_TITLE_OFFSET='6.0p')\n",
    "pygmt.config(FORMAT_GEO_MAP=\"ddd\")"
   ]
  },
  {
   "cell_type": "code",
   "execution_count": null,
   "metadata": {},
   "outputs": [],
   "source": [
    "# Read in Bird's plate boundary data from a JSON format file\n",
    "# format of json file:\n",
    "# It contains a \"feature\" field on the top level\n",
    "#   \"features\": []\n",
    "# then every \"feature\" contains\n",
    "#   \"properties\": {}\n",
    "# There are subfields like \"Name\", \"Source\", \"Type\" in the \"properties\" field\n",
    "# the other component of the \"feature\" is\n",
    "#   \"geometry\": { \"type\": \"LineString\", \"coordinates\": [ [ -0.437900, -54.851800 ], ... ]\n",
    "# this contains the specific coorinate pairs for the geometry\n",
    "dir = os.path.join(ASPECT_LAB_DIR, 'tests/integration/big_fixtures/GMT')\n",
    "boundaries_json_file = os.path.join(dir, 'PB2002_boundaries.json')\n",
    "file_object = open(boundaries_json_file,'r')\n",
    "birddata = json.load(file_object)"
   ]
  },
  {
   "cell_type": "code",
   "execution_count": null,
   "metadata": {},
   "outputs": [],
   "source": [
    "# Get GRD file for Slab2.0 depth data \n",
    "loc1 = 'cas'  # Cascadia\n",
    "slab2dir = os.path.join(ASPECT_LAB_DIR, \"Subduction-Dynamics-Tools/Jupyter-Notebooks/PyGMT-Examples/Slab2GRDFiles\")\n",
    "assert(os.path.isdir(slab2dir))\n",
    "grdfile = slab2dir + loc1 + '_slab2_dep.grd'"
   ]
  },
  {
   "cell_type": "code",
   "execution_count": null,
   "metadata": {},
   "outputs": [],
   "source": [
    "# Set Regional Map dimensions\n",
    "west = -143.0\n",
    "east = -100.25\n",
    "south = 32.0\n",
    "north = 58.0\n",
    "region_data = np.array([west, east, south, north])\n",
    "\n",
    "dlon_edge = 0.35\n",
    "dlat_edge = 1.0\n",
    "region1 = str(west) + '/' + str(east) + '/' + str(south) + '/' + str(north) \n",
    "print('Region: ', region1)"
   ]
  },
  {
   "cell_type": "code",
   "execution_count": null,
   "metadata": {},
   "outputs": [],
   "source": [
    "# Get center position and two latitude locations to define regional projection\n",
    "# this step is needed that both the centre values and the lat1, lat2 values need to be integars\n",
    "# also by mutliplying 0.5, we are getting only half the length in the latitude dimension\n",
    "clon = np.floor(region_data[0:2].mean())\n",
    "clat = np.floor(region_data[2:4].mean())\n",
    "lat1 = np.floor(0.5*(north - clat) + clat )\n",
    "lat2 = np.floor(clat - 0.5*(clat - south) )\n",
    "\n",
    "mapwidth = 4.5 # inches, sets size of figure on page\n",
    "proj1 = 'B' + str(clon) + '/' + str(clat) + '/' + str(lat1) + '/' + str(lat2) + '/' + str(mapwidth) + 'i'\n",
    "print('proj1: ', proj1)"
   ]
  },
  {
   "cell_type": "code",
   "execution_count": null,
   "metadata": {},
   "outputs": [],
   "source": [
    "# Start figure\n",
    "# the pygmt.datasets contains data to be imported directly (e.g. earth_relief, earth_age)\n",
    "# resolution: 30s (1/120 deg)\n",
    "# order of the plot: first create the basemap (fig.basemap), then specific types of plots (e.g. color map - fig.grdimage)\n",
    "fig = pygmt.Figure()\n",
    "fig.basemap(region=region1, projection=proj1, frame=[\"a5f2.5\", f'WSne'])\n",
    "print('Plotting topo grid')\n",
    "topogrid = pygmt.datasets.load_earth_relief(region=region1,resolution=\"30s\",registration=\"pixel\")\n",
    "fig.grdimage(grid=topogrid,cmap=\"gray\")\n",
    "fig.show()"
   ]
  },
  {
   "cell_type": "code",
   "execution_count": null,
   "metadata": {},
   "outputs": [],
   "source": [
    "# pygmt.grd2cpt: turns a cmap (example is roma) to a format gmt could use (age.cpt) and fits the data range\n",
    "# layers of the plot: newer plots will be on top of older plots (e.g. the age map here is on top of the relief map in the last section)\n",
    "print('Plotting age contours')\n",
    "agegrid = pygmt.datasets.load_earth_age(region=region1,resolution=\"10m\",registration=\"gridline\")\n",
    "agecptfile ='age.cpt'\n",
    "pygmt.grd2cpt(grid=agegrid,cmap='roma',output='age.cpt')\n",
    "fig.grdimage(grid=agegrid,nan_transparent=True,cmap=agecptfile)\n",
    "fig.grdcontour(grid=agegrid,interval=3,pen='0.5p,black')\n",
    "fig.colorbar(cmap=agecptfile,position=\"JML+o0.5c/1.5c+w5c/0.3c\", box=False, frame=[\"a5g5\",\"x+lAge\", \"y+lmyr\"])\n",
    "fig.show()"
   ]
  },
  {
   "cell_type": "code",
   "execution_count": null,
   "metadata": {},
   "outputs": [],
   "source": [
    "# Cascadia Terranes\n",
    "# Here, data could be directly plotted on to the map.\n",
    "# For example franciscan.txt is a .txt file containing 2 columns (lon, lat)\n",
    "fig.plot(data=os.path.join(dir, 'franciscan.txt'),fill='lightblue')\n",
    "fig.plot(data=os.path.join(dir, 'klamath.txt'),fill='darkblue')\n",
    "fig.plot(data=os.path.join(dir, 'Siletz.txt'),fill='purple')\n",
    "fig.plot(data=os.path.join(dir, 'olympic_franciscan.txt'),fill='lightbrown')\n",
    "fig.plot(data=os.path.join(dir, 'Wrangellia.txt'),fill='green2',transparency=\"80\")\n",
    "fig.show()"
   ]
  },
  {
   "cell_type": "code",
   "execution_count": null,
   "metadata": {},
   "outputs": [],
   "source": [
    "# Add the slab 2.0 data\n",
    "# pygmt.makecpt: the series=(-700,0,50) option works like the arange function in numpy\n",
    "# contour color not showing (magali: this doesn't work)\n",
    "print('Plotting slab contours')\n",
    "slabcptfile =\"slabdepth.cpt\"\n",
    "pygmt.makecpt(cmap=\"buda\",series=(-700,0,50),output=slabcptfile)\n",
    "depth_grdfile = os.path.join(slab2dir, loc1 + '_slab2_dep.grd')\n",
    "#fig.grdimage(grid=depth_grdfile,nan_transparent=True,cmap=slabcptfile)\n",
    "fig.grdcontour(grid=depth_grdfile,interval=slabcptfile,pen='0.5p,black')\n",
    "# add a colorbar for depth    \n",
    "fig.colorbar(cmap=slabcptfile, position=\"JMR+o-0.5c/2c+w4c/0.3c\", box=False, frame=[\"a100g50\",\"x+lDepth\", \"y+lkm\"])\n",
    "fig.show()"
   ]
  },
  {
   "cell_type": "code",
   "execution_count": null,
   "metadata": {},
   "outputs": [],
   "source": [
    "# Get Pacific-North America Plate boundaries that are not subduction zones\n",
    "# SAF, Queen Charlotte, Baja California.\n",
    "# the \"pen\" entry for \"plot\": adjust the color, width of line plot\n",
    "#\t139.75/53.5/9.7501 - these are the rgb colors (qs Magali)\n",
    "#   f0.2c/0.1c+r+t - this is used to make triangles \n",
    "for i in range(len(birddata[\"features\"])):\n",
    "\tif 'PA' in birddata[\"features\"][i][\"properties\"].values():\n",
    "\t\tif 'NA' in birddata[\"features\"][i][\"properties\"].values():\n",
    "\t\t\tif 'subduction' not in birddata[\"features\"][i][\"properties\"].values():\n",
    "\t\t\t\tprint('PA-NA', birddata[\"features\"][i][\"properties\"].values())\n",
    "\t\t\t\tcoords = np.array(birddata[\"features\"][i][\"geometry\"][\"coordinates\"])\n",
    "\t\t\t\tfig.plot(x=coords[:,0],y=coords[:,1], pen=\"1p,darkgreen\")\n",
    "\t# Get Juan de Fuca plate Boundaries\n",
    "\t# Not Subduction zones\n",
    "\tif 'JF' in birddata[\"features\"][i][\"properties\"].values():\n",
    "\t\tif 'subduction' not in birddata[\"features\"][i][\"properties\"].values():\n",
    "\t\t\tprint('Not Subduction', birddata[\"features\"][i][\"properties\"].values())\n",
    "\t\t\tcoords = np.array(birddata[\"features\"][i][\"geometry\"][\"coordinates\"])\n",
    "\t\t\tfig.plot(x=coords[:,0],y=coords[:,1], pen=\"1p,139.75/53.5/9.7501\")\n",
    "\t# The Subduction zone\n",
    "\tif 'JF' in birddata[\"features\"][i][\"properties\"].values():\n",
    "\t\tif 'subduction' in birddata[\"features\"][i][\"properties\"].values():\n",
    "\t\t\tprint('subduction', birddata[\"features\"][i][\"properties\"].values())\n",
    "\t\t\tcoords = np.array(birddata[\"features\"][i][\"geometry\"][\"coordinates\"])\n",
    "\t\t\tfig.plot(x=coords[:,0],y=coords[:,1], style=\"f0.2c/0.1c+r+t\", fill=\"black\")\n",
    "fig.show()"
   ]
  },
  {
   "cell_type": "code",
   "execution_count": null,
   "metadata": {},
   "outputs": [],
   "source": [
    "# plot the coast line: coast function\n",
    "fig.coast(shorelines=\"1/0.25p,white\",resolution=\"i\")\n",
    "fig.show()"
   ]
  },
  {
   "cell_type": "code",
   "execution_count": null,
   "metadata": {},
   "outputs": [],
   "source": [
    "pdffile = 'cascadia_intro_fig.pdf'\n",
    "fig.savefig(pdffile)"
   ]
  }
 ],
 "metadata": {
  "interpreter": {
   "hash": "3bf440ac1bfceefc9e673ea76b72f442bd7ffedd1701c53de96a92ecb1d51a17"
  },
  "kernelspec": {
   "display_name": "Python 3.10.5 ('pygmt')",
   "language": "python",
   "name": "python3"
  },
  "language_info": {
   "codemirror_mode": {
    "name": "ipython",
    "version": 3
   },
   "file_extension": ".py",
   "mimetype": "text/x-python",
   "name": "python",
   "nbconvert_exporter": "python",
   "pygments_lexer": "ipython3",
   "version": "3.12.3"
  },
  "orig_nbformat": 4
 },
 "nbformat": 4,
 "nbformat_minor": 2
}
