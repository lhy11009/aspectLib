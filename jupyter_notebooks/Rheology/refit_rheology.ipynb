{
 "cells": [
  {
   "cell_type": "code",
   "execution_count": null,
   "metadata": {},
   "outputs": [],
   "source": [
    "import json\n",
    "import os\n",
    "import sys\n",
    "import math\n",
    "import argparse\n",
    "import numpy as np\n",
    "from scipy.special import erf\n",
    "from scipy.interpolate import interp1d\n",
    "from mpl_toolkits.mplot3d import Axes3D\n",
    "from shutil import rmtree, copy\n",
    "from matplotlib import pyplot as plt\n",
    "from matplotlib import gridspec, cm\n",
    "from matplotlib import patches as mpatches \n",
    "\n",
    "plt.style.use('publication_lhy11009')\n",
    "\n",
    "R = 8.314\n",
    "\n",
    "# directory to the aspect Lab\n",
    "ASPECT_LAB_DIR = os.environ['ASPECT_LAB_DIR']\n",
    "RESULT_DIR = os.path.join(ASPECT_LAB_DIR, 'results')\n",
    "\n",
    "sys.path.append(os.path.join(ASPECT_LAB_DIR))\n",
    "import shilofue.PlotDepthAverage as PDAver\n",
    "import shilofue.FlowLaws as FlowLaws\n",
    "import shilofue.ParsePrm as ParsePrm\n",
    "import shilofue.ThermalModel as TModel\n",
    "import shilofue.Rheology as Rheology\n",
    "\n",
    "# import utilities in subdirectiory\n",
    "sys.path.append(os.path.join(ASPECT_LAB_DIR, 'utilities', \"python_scripts\"))\n",
    "import Utilities\n"
   ]
  },
  {
   "cell_type": "code",
   "execution_count": null,
   "metadata": {},
   "outputs": [],
   "source": [
    "# read the parameters from HK 03.\n",
    "# water is in the water fugacity\n",
    "rheology = \"HK03\"\n",
    "use_coh = True\n",
    "\n",
    "rheology_prm_dict = Rheology.RHEOLOGY_PRM()\n",
    "diffusion_creep = getattr(rheology_prm_dict, rheology + \"_diff\")\n",
    "dislocation_creep = getattr(rheology_prm_dict, rheology + \"_disl\")\n",
    "rheology_dict = {'diffusion': diffusion_creep, 'dislocation': dislocation_creep}\n",
    "\n",
    "print(\"diffusion_creep: \", diffusion_creep)\n",
    "print(\"dislocation_creep: \", dislocation_creep)"
   ]
  },
  {
   "cell_type": "code",
   "execution_count": null,
   "metadata": {},
   "outputs": [],
   "source": [
    "creep = diffusion_creep\n",
    "creep_correction = {'A': 1.0, 'p': 0.0, 'r': 0.0, 'n': 0.0, 'E': 75e3, 'V': 5e-06}\n",
    "\n",
    "n = creep['n']\n",
    "F = 1 / (2**((n-1)/n)*3**((n+1)/2/n))\n",
    "\n",
    "\n",
    "# fit new rheology\n",
    "stress_ref = 50.0 # MPa\n",
    "# strain_rate_ref = 1e-5\n",
    "P_ref = 100.0e6 # Pa\n",
    "T_ref = 1250.0 + 273.15 # K\n",
    "Coh_ref = 1000.0 # H / 10^6 Si\n",
    "d_ref = 15.0 # mu m\n",
    "\n",
    "strain_rate_correction = Rheology.CreepStrainRate(creep_correction, stress_ref, P_ref, T_ref, d_ref, Coh_ref, f_by_factor=True, F=F)\n",
    "# eta_correction = Rheology.CreepRheology(creep_correction, strain_rate_ref, P_ref, T_ref, d=d_ref, Coh=Coh_ref, f_by_factor=True, F=F)"
   ]
  },
  {
   "cell_type": "code",
   "execution_count": null,
   "metadata": {},
   "outputs": [],
   "source": []
  }
 ],
 "metadata": {
  "kernelspec": {
   "display_name": "Python (aspectLib)",
   "language": "python",
   "name": "aspectlib"
  },
  "orig_nbformat": 4
 },
 "nbformat": 4,
 "nbformat_minor": 2
}
