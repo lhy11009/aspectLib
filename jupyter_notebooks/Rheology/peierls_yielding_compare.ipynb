{
 "cells": [
  {
   "cell_type": "markdown",
   "metadata": {},
   "source": [
    "### Compare different formulation of the Peierls and Yield stress.\n",
    "\n",
    "In the note book, I compared the values from yield criterias and Peierls rheologies."
   ]
  },
  {
   "cell_type": "code",
   "execution_count": null,
   "metadata": {},
   "outputs": [],
   "source": [
    "import os, sys\n",
    "import numpy as np\n",
    "from shutil import rmtree, copy\n",
    "from matplotlib import pyplot as plt\n",
    "from matplotlib import gridspec, cm\n",
    "\n",
    "# directory to the aspect Lab\n",
    "ASPECT_LAB_DIR = os.environ['ASPECT_LAB_DIR']\n",
    "RESULT_DIR = os.path.join(ASPECT_LAB_DIR, 'results')\n",
    "\n",
    "sys.path.append(os.path.join(ASPECT_LAB_DIR))\n",
    "\n",
    "\n",
    "import shilofue.Rheology as Rheology\n",
    "\n",
    "\n",
    "# define global parameters\n",
    "g = 9.81\n",
    "rho_m = 3300.0 # mantle density"
   ]
  },
  {
   "cell_type": "markdown",
   "metadata": {},
   "source": [
    "#### Gerya et al 2002\n",
    "\n",
    "This paper introduces a wet byerlee law.\n",
    "The profile of yield stress predepends on a profile of the factor of the core fluid pressure ($\\lambda$)\n",
    "\n",
    "The profile of the factor of the core fluid pressure ($\\lambda$) is generated from a linear relation.\n",
    "The factor at the surface is assumed to be 0.4, while the factor at 10 km depth is either dry or lithostatic.\n",
    "\n",
    "The condition for a lithostatic condition at 10 km depth is from Etheridge etal : $\\lambda = 0.99$."
   ]
  },
  {
   "cell_type": "code",
   "execution_count": null,
   "metadata": {},
   "outputs": [],
   "source": [
    "def Gerya_2002_lambda(z, condition):\n",
    "    '''\n",
    "    Expression of pore fluid pressure factor lambda\n",
    "    '''\n",
    "    assert(condition in [0, 1])\n",
    "    a = 0.4 # hydrostatic pore fluid pressure at the surface\n",
    "    b = 0.0 # dry at z = 10 km, condition = 0\n",
    "    if condition == 1:\n",
    "        # lithostatic pore fluid pressure at z = 10 km\n",
    "        b = 0.99\n",
    "    _lambda = (a * (1e4 - z) + b * z) / 10000\n",
    "\n",
    "    return _lambda\n",
    "\n",
    "z = 5e3\n",
    "_lambda_dry_5km = Gerya_2002_lambda(5e3, 0)\n",
    "print(\"lambda at 5km assuming dry condition at 10 km: \", _lambda_dry_5km)\n",
    "\n",
    "_lambda_wet_5km = Gerya_2002_lambda(5e3, 1)\n",
    "print(\"lambda at 5km assuming lithostatic pore fluid pressure condition at 10 km: \", _lambda_wet_5km)"
   ]
  },
  {
   "cell_type": "markdown",
   "metadata": {},
   "source": [
    "##### Relation between variables\n",
    "\n",
    "The shear stress ($\\tau$) is half the value of the differential stress ($\\sigma_d$).\n",
    "\n",
    "The differential stress ($\\sigma_d$) is twice the second invariant of stress ($\\sigma_{ii}$)\n",
    "\n",
    "The effective viscosity is computed from the second invariants.\n",
    "\n",
    "$$\\tau = 1/2 \\sigma_d$$\n",
    "$$\\sigma_d = 2 \\sigma_{ii}$$\n",
    "$$\\eta_{eff} = \\frac{\\sigma_{ii}}{2 \\dot{\\epsilon_{ii}}}$$\n",
    "\n",
    "So if we formulate yield stress from the shear stress, the factor of 2 should be in the deliminator.\n",
    "If we formulate yield- stress from the differential stress, then there should be a factor of 4 ?"
   ]
  },
  {
   "cell_type": "code",
   "execution_count": null,
   "metadata": {},
   "outputs": [],
   "source": [
    "zs_t2002 = np.linspace(0.0, 10e3, 1000)\n",
    "Ps = zs_t2002 * rho_m * g\n",
    "lambdas_0 = Gerya_2002_lambda(zs_t2002, 0)\n",
    "taus_0 = Rheology.Byerlee(Ps, _lambda=lambdas_0)\n",
    "lambdas_1 = Gerya_2002_lambda(zs_t2002, 1)\n",
    "taus_1 = Rheology.Byerlee(Ps, _lambda=lambdas_1)\n",
    "\n",
    "n_z = np.argmax(taus_1)\n",
    "tau_1_max = taus_1[n_z]\n",
    "z_1_max = zs_t2002[n_z]\n",
    "print(\"For 1, the maximum shear stress %.2f MPa is reached at depth %.2f km.\" % (tau_1_max/1e6, z_1_max/1e3))\n",
    "\n",
    "fig = plt.figure(tight_layout=True, figsize=(10, 5))\n",
    "gs = gridspec.GridSpec(1, 2)\n",
    "\n",
    "# shear stress vs depth\n",
    "ax = fig.add_subplot(gs[0, 0])\n",
    "ax.plot(taus_0/1e6, zs_t2002/1e3, label=\"Dry condition at 10 km\")\n",
    "ax.plot(taus_1/1e6, zs_t2002/1e3, label=\"Lithostatic pore fluid pressure at 10 km\")\n",
    "ax.set_xlabel(\"Shear Stress (MPa)\")\n",
    "ax.invert_yaxis()\n",
    "ax.set_ylabel(\"Depth (km)\")\n",
    "ax.grid()\n",
    "ax.legend()\n",
    "\n",
    "# viscosity vs depth\n",
    "strain_rate = 1e-15  # second invariant\n",
    "etas_0_t2002 = taus_0 / 2.0 / strain_rate\n",
    "etas_1_t2002 = taus_1 / 2.0 / strain_rate\n",
    "ax = fig.add_subplot(gs[0, 1])\n",
    "ax.semilogx(etas_0_t2002, zs_t2002/1e3, label=\"Dry condition at 10 km\")\n",
    "ax.semilogx(etas_1_t2002, zs_t2002/1e3, label=\"Lithostatic pore fluid pressure at 10 km\")\n",
    "ax.set_xlabel(\"Viscosity (Pa s)\")\n",
    "ax.invert_yaxis()\n",
    "ax.set_ylabel(\"Depth (km)\")\n",
    "ax.grid()\n",
    "ax.legend()\n",
    "print(\"For 1, the maximum effective viscosity is %.2e Pa (strain rate %.2e)\" % (etas_1_t2002[n_z], strain_rate))"
   ]
  },
  {
   "cell_type": "markdown",
   "metadata": {},
   "source": [
    "#### The stress limiter approach"
   ]
  },
  {
   "cell_type": "code",
   "execution_count": null,
   "metadata": {},
   "outputs": [],
   "source": [
    "tau_y = 500e6 # 500 Mpa\n",
    "strain_rate_y = 1e-15\n",
    "ny = 10\n",
    "strain_rate = 1e-15\n",
    "tau = Rheology.PeierlsStressLimiter(tau_y, strain_rate_y, ny, strain_rate)\n",
    "eta_y = tau / strain_rate\n",
    "print(\"At strain rate = %.2e, the yield stress is %.2e and the yield viscosity is %.2e\" % (strain_rate, tau, eta_y))\n",
    "strain_rate = 1e-14\n",
    "tau = Rheology.PeierlsStressLimiter(tau_y, strain_rate_y, ny, strain_rate)\n",
    "eta_y = tau / strain_rate\n",
    "print(\"At strain rate = %.2e, the yield stress is %.2e and the yield viscosity is %.2e\" % (strain_rate, tau, eta_y))\n",
    "strain_rate = 1e-13\n",
    "tau = Rheology.PeierlsStressLimiter(tau_y, strain_rate_y, ny, strain_rate)\n",
    "eta_y = tau / strain_rate\n",
    "print(\"At strain rate = %.2e, the yield stress is %.2e and the yield viscosity is %.2e\" % (strain_rate, tau, eta_y))"
   ]
  },
  {
   "cell_type": "code",
   "execution_count": null,
   "metadata": {},
   "outputs": [],
   "source": [
    "zs_g2014 = np.linspace(0.0, 10e3, 1000)\n",
    "Ps = zs_g2014 * rho_m * g\n",
    "tau_0 = 2e6\n",
    "tau_y = 1000e6\n",
    "friction = 0.2\n",
    "taus_g2014 = Rheology.CoulumbYielding(Ps, tau_0, friction)\n",
    "\n",
    "fig = plt.figure(tight_layout=True, figsize=(15, 5))\n",
    "gs = gridspec.GridSpec(1, 3)\n",
    "\n",
    "# shear stress vs depth\n",
    "ax = fig.add_subplot(gs[0, 0])\n",
    "ax.plot(taus_g2014/1e6, zs_g2014/1e3, label=\"Garel 2014\")\n",
    "ax.set_xlabel(\"Shear Stress (MPa)\")\n",
    "ax.invert_yaxis()\n",
    "ax.set_ylabel(\"Depth (km)\")\n",
    "ax.grid()\n",
    "ax.legend()\n",
    "\n",
    "# viscosity vs depth\n",
    "strain_rate = 1e-15  # second invariant\n",
    "etas_g2014 = taus_g2014 / 2.0 / strain_rate\n",
    "ax = fig.add_subplot(gs[0, 1])\n",
    "ax.semilogx(etas_g2014, zs_g2014/1e3, label=\"Garel 2014\")\n",
    "ax.set_xlabel(\"Viscosity (Pa s)\")\n",
    "ax.invert_yaxis()\n",
    "ax.set_ylabel(\"Depth (km)\")\n",
    "ax.grid()\n",
    "ax.set_title(\"strain rate = %.2e\" % strain_rate)\n",
    "\n",
    "# viscosity vs depth\n",
    "strain_rate = 1e-13  # second invariant\n",
    "etas_g2014 = taus_g2014 / 2.0 / strain_rate\n",
    "ax = fig.add_subplot(gs[0, 2])\n",
    "ax.semilogx(etas_g2014, zs_g2014/1e3, label=\"Garel 2014\")\n",
    "ax.set_xlabel(\"Viscosity (Pa s)\")\n",
    "ax.invert_yaxis()\n",
    "ax.set_ylabel(\"Depth (km)\")\n",
    "ax.grid()\n",
    "ax.set_title(\"strain rate = %.2e\" % strain_rate)"
   ]
  }
 ],
 "metadata": {
  "kernelspec": {
   "display_name": "aspectLib",
   "language": "python",
   "name": "python3"
  },
  "language_info": {
   "codemirror_mode": {
    "name": "ipython",
    "version": 3
   },
   "file_extension": ".py",
   "mimetype": "text/x-python",
   "name": "python",
   "nbconvert_exporter": "python",
   "pygments_lexer": "ipython3",
   "version": "3.7.13"
  },
  "orig_nbformat": 4
 },
 "nbformat": 4,
 "nbformat_minor": 2
}
