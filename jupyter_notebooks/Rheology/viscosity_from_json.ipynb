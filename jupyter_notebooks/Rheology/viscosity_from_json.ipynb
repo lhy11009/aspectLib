{
 "cells": [
  {
   "cell_type": "markdown",
   "metadata": {},
   "source": [
    "### Compute viscosity from json file\n",
    "\n",
    "This cookbook is a calculator of rheology\n",
    "\n",
    "First, we load a rheology from file or a dict\n",
    "\n",
    "Then we pass T, P, strain rate condition and compute the viscosities."
   ]
  },
  {
   "cell_type": "code",
   "execution_count": null,
   "metadata": {},
   "outputs": [],
   "source": [
    "import os\n",
    "import json\n",
    "import os\n",
    "import sys\n",
    "import numpy as np\n",
    "from matplotlib import pyplot as plt\n",
    "\n",
    "# directory to the aspect Lab\n",
    "ASPECT_LAB_DIR = os.environ['ASPECT_LAB_DIR']\n",
    "\n",
    "sys.path.append(os.path.join(ASPECT_LAB_DIR))\n",
    "\n",
    "import shilofue.Rheology as Rheology"
   ]
  },
  {
   "cell_type": "markdown",
   "metadata": {},
   "source": [
    "#### Step 1: load the json file\n",
    "\n",
    "Option 1: load the json file"
   ]
  },
  {
   "cell_type": "code",
   "execution_count": null,
   "metadata": {},
   "outputs": [],
   "source": [
    "json_path = \"/home/lochy/ASPECT_PROJECT/TwoDSubduction_DIR/EBA_CDPT_3dconsistent_3/eba_cdpt_SA80.0_OA40.0_width61_sc21/configurations/mantle_profile_aspect_v1_HK03_wet_mod_dEdiff-4.0000e+04_dEdisl3.0000e+04_dVdiff-5.500000e-06_dVdisl2.1200e-06_dAdiff3.3333e-01_dAdisl1.0403e+00.json\"\n",
    "\n",
    "assert(os.path.isabs(json_path))\n",
    "\n",
    "with open(json_path, 'r') as fin:\n",
    "    _dict = json.load(fin)"
   ]
  },
  {
   "cell_type": "markdown",
   "metadata": {},
   "source": [
    "Option 2: Load a dictionary directly.\n",
    "\n",
    "This example is the 300 ppm rheology I used before"
   ]
  },
  {
   "cell_type": "code",
   "execution_count": null,
   "metadata": {},
   "outputs": [],
   "source": [
    "# import the _dict directly\n",
    "\n",
    "_dict = {\"diffusion_creep\": {\"A\": 2.4536131281805923e-17, \"d\": 0.01, \"n\": 1.0, \"m\": 3.0, \"E\": 285000.0, \"V\": 6.9e-06},\n",
    "\"dislocation_creep\": {\"A\": 1.3930166603371937e-16, \"d\": 0.01, \"n\": 3.5, \"m\": 0.0, \"E\": 490000.0, \"V\": 1.34e-05},\n",
    "\"diffusion_lm\": {\"A\": 1.5663703327846732e-19, \"d\": 0.01, \"n\": 1.0, \"m\": 3.0, \"E\": 285000.0, \"V\": 3e-06}}"
   ]
  },
  {
   "cell_type": "code",
   "execution_count": null,
   "metadata": {},
   "outputs": [],
   "source": [
    "diffusion_creep = _dict[\"diffusion_creep\"]\n",
    "dislocation_creep = _dict[\"dislocation_creep\"]\n",
    "peierls_creep = Rheology.GetPeierlsRheology(\"MK10\")"
   ]
  },
  {
   "cell_type": "markdown",
   "metadata": {},
   "source": [
    "Step 2: compute viscosity"
   ]
  },
  {
   "cell_type": "code",
   "execution_count": null,
   "metadata": {},
   "outputs": [],
   "source": [
    "include_peierls = False\n",
    "\n",
    "strain_rate = 2.44867e-15\n",
    "P = 7.27096e+09\n",
    "T = 1709.19\n",
    "\n",
    "\n",
    "diffusion_creep_eta = Rheology.CreepRheologyInAspectViscoPlastic(diffusion_creep, strain_rate, P, T)\n",
    "dislocation_creep_eta = Rheology.CreepRheologyInAspectViscoPlastic(dislocation_creep, strain_rate, P, T)\n",
    "peierls_creep_eta = Rheology.PeierlsCreepRheology(peierls_creep, strain_rate, P, T)\n",
    "\n",
    "temp = (1.0/diffusion_creep_eta + 1.0/dislocation_creep_eta)\n",
    "if include_peierls:\n",
    "    temp += 1.0 / peierls_creep_eta\n",
    "composite_eta = 1.0 / temp\n",
    "\n",
    "print(\"diffusion creep viscosity: \", diffusion_creep_eta)\n",
    "print(\"dislocation creep viscosity: \", dislocation_creep_eta)\n",
    "print(\"peierls creep viscosity: \", peierls_creep_eta)\n",
    "print(\"composite viscosity (include Peierls %s): \" % str(include_peierls), composite_eta)"
   ]
  }
 ],
 "metadata": {
  "kernelspec": {
   "display_name": "aspectLib",
   "language": "python",
   "name": "python3"
  },
  "language_info": {
   "codemirror_mode": {
    "name": "ipython",
    "version": 3
   },
   "file_extension": ".py",
   "mimetype": "text/x-python",
   "name": "python",
   "nbconvert_exporter": "python",
   "pygments_lexer": "ipython3",
   "version": "3.7.13"
  }
 },
 "nbformat": 4,
 "nbformat_minor": 2
}
