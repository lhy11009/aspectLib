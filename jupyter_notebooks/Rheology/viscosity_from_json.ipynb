{
 "cells": [
  {
   "cell_type": "markdown",
   "metadata": {},
   "source": [
    "### Compute viscosity from json file"
   ]
  },
  {
   "cell_type": "code",
   "execution_count": null,
   "metadata": {},
   "outputs": [],
   "source": [
    "import os\n",
    "import json\n",
    "import os\n",
    "import sys\n",
    "import numpy as np\n",
    "from matplotlib import pyplot as plt\n",
    "\n",
    "# directory to the aspect Lab\n",
    "ASPECT_LAB_DIR = os.environ['ASPECT_LAB_DIR']\n",
    "\n",
    "sys.path.append(os.path.join(ASPECT_LAB_DIR))\n",
    "\n",
    "import shilofue.Rheology as Rheology"
   ]
  },
  {
   "cell_type": "markdown",
   "metadata": {},
   "source": [
    "#### Step 1: load the json file"
   ]
  },
  {
   "cell_type": "code",
   "execution_count": null,
   "metadata": {},
   "outputs": [],
   "source": [
    "json_path = \"/home/lochy/ASPECT_PROJECT/TwoDSubduction_DIR/EBA_CDPT_3dconsistent_3/eba_cdpt_SA80.0_OA40.0_width61_sc21/configurations/mantle_profile_aspect_v1_HK03_wet_mod_dEdiff-4.0000e+04_dEdisl3.0000e+04_dVdiff-5.500000e-06_dVdisl2.1200e-06_dAdiff3.3333e-01_dAdisl1.0403e+00.json\"\n",
    "\n",
    "assert(os.path.isabs(json_path))\n",
    "\n",
    "with open(json_path, 'r') as fin:\n",
    "    _dict = json.load(fin)\n",
    "\n",
    "diffusion_creep = _dict[\"diffusion_creep\"]\n",
    "dislocation_creep = _dict[\"dislocation_creep\"]\n",
    "peierls_creep = Rheology.GetPeierlsRheology(\"MK10\")"
   ]
  },
  {
   "cell_type": "markdown",
   "metadata": {},
   "source": [
    "Step 2: compute viscosity"
   ]
  },
  {
   "cell_type": "code",
   "execution_count": null,
   "metadata": {},
   "outputs": [],
   "source": [
    "strain_rate = 1e-12\n",
    "P = 5.5e9\n",
    "T = 273.0\n",
    "\n",
    "diffusion_creep_eta = Rheology.CreepRheologyInAspectViscoPlastic(diffusion_creep, strain_rate, P, T)\n",
    "dislocation_creep_eta = Rheology.CreepRheologyInAspectViscoPlastic(dislocation_creep, strain_rate, P, T)\n",
    "peierls_creep_eta = Rheology.PeierlsCreepRheology(peierls_creep, strain_rate, P, T)\n",
    "\n",
    "print(\"diffusion creep viscosity: \", diffusion_creep_eta)\n",
    "print(\"dislocation creep viscosity: \", dislocation_creep_eta)\n",
    "print(\"peierls creep viscosity: \", peierls_creep_eta)"
   ]
  }
 ],
 "metadata": {
  "kernelspec": {
   "display_name": "aspectLib",
   "language": "python",
   "name": "python3"
  },
  "language_info": {
   "codemirror_mode": {
    "name": "ipython",
    "version": 3
   },
   "file_extension": ".py",
   "mimetype": "text/x-python",
   "name": "python",
   "nbconvert_exporter": "python",
   "pygments_lexer": "ipython3",
   "version": "3.7.16"
  }
 },
 "nbformat": 4,
 "nbformat_minor": 2
}
