{
 "cells": [
  {
   "cell_type": "code",
   "execution_count": null,
   "metadata": {},
   "outputs": [],
   "source": [
    "import os, sys\n",
    "import numpy as np\n",
    "from shutil import rmtree, copy\n",
    "from matplotlib import pyplot as plt\n",
    "from matplotlib import gridspec, cm\n",
    "from PIL import Image, ImageDraw, ImageFont\n",
    "from scipy.interpolate import interp1d\n",
    "\n",
    "# directory to the aspect Lab\n",
    "ASPECT_LAB_DIR = os.environ['ASPECT_LAB_DIR']\n",
    "RESULT_DIR = os.path.join(ASPECT_LAB_DIR, 'results')\n",
    "\n",
    "sys.path.append(os.path.join(ASPECT_LAB_DIR))\n",
    "\n",
    "from shilofue.Analytics import HAGER_CONRAD1999"
   ]
  },
  {
   "cell_type": "code",
   "execution_count": null,
   "metadata": {},
   "outputs": [],
   "source": [
    "yr = 365 * 24 * 3600\n",
    "\n",
    "HC1999_strong = HAGER_CONRAD1999(1e23)\n",
    "HC1999_weak = HAGER_CONRAD1999(3e21)\n",
    "\n",
    "'''\n",
    "eta_sz = 2.5e20 # Pa * s\n",
    "Vc_strong = HC1999_strong.ComputeConvergence(eta_sz)\n",
    "Vc_weak = HC1999_weak.ComputeConvergence(eta_sz)\n",
    "Vc_strong * yr * 100.0\n",
    "Vc_weak * yr * 100.0\n",
    "'''\n"
   ]
  },
  {
   "cell_type": "code",
   "execution_count": null,
   "metadata": {},
   "outputs": [],
   "source": [
    "eta_m = 2.5e20\n",
    "\n",
    "L_l = 660e3 # m\n",
    "h_l = 80e3 # m\n",
    "R_l = 250e3 # m\n",
    "\n",
    "zeta_f = 20.0\n",
    "\n",
    "i = 0\n",
    "N = 100\n",
    "etas_sz = np.ones(N)\n",
    "Vcs0 = np.zeros(N)\n",
    "Vcs1 = np.zeros(N)\n",
    "log_etas = np.linspace(-3.0, 2.0, N)\n",
    "\n",
    "for i in range(N):\n",
    "    eta_sz = eta_m * 10**log_etas[i]\n",
    "    etas_sz[i] = eta_sz\n",
    "    Vc_strong = HC1999_strong.ComputeConvergence(L_l, h_l, R_l, eta_sz, zeta_f)\n",
    "    Vc_weak = HC1999_weak.ComputeConvergence(L_l, h_l, R_l, eta_sz, zeta_f)\n",
    "    Vcs0[i] = Vc_strong\n",
    "    Vcs1[i] = Vc_weak\n",
    "\n",
    "fig, ax = plt.subplots()\n",
    "ax.semilogx(etas_sz / eta_m, Vcs0 * 100.0 * yr, 'r', label=\"strong\")\n",
    "ax.semilogx(etas_sz / eta_m, Vcs1 * 100.0 * yr, 'c', label=\"weak\")\n",
    "ax.grid()\n",
    "ax.set_xlabel(\"V_sz/V_m\")\n",
    "ax.set_ylabel(\"Vc (cm / yr)\")\n",
    "\n",
    "fig_path = os.path.join(RESULT_DIR, \"Behr_etal_2022_fig9.pdf\")\n",
    "fig.savefig(fig_path)\n",
    "print(\"saved to %s\" % fig_path)"
   ]
  }
 ],
 "metadata": {
  "interpreter": {
   "hash": "04f94a466fc6855f7f994dd3204adbc7760ad767ef3aef9ead569409decf9820"
  },
  "kernelspec": {
   "display_name": "Python 3.7.13 ('aspectLib')",
   "language": "python",
   "name": "python3"
  },
  "language_info": {
   "codemirror_mode": {
    "name": "ipython",
    "version": 3
   },
   "file_extension": ".py",
   "mimetype": "text/x-python",
   "name": "python",
   "nbconvert_exporter": "python",
   "pygments_lexer": "ipython3",
   "version": "3.7.13"
  },
  "orig_nbformat": 4
 },
 "nbformat": 4,
 "nbformat_minor": 2
}
