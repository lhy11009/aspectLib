{
 "cells": [
  {
   "cell_type": "code",
   "execution_count": null,
   "metadata": {},
   "outputs": [],
   "source": [
    "import os, sys\n",
    "import numpy as np\n",
    "from shutil import rmtree, copy\n",
    "from matplotlib import pyplot as plt\n",
    "from matplotlib import gridspec, cm\n",
    "from PIL import Image, ImageDraw, ImageFont\n",
    "from scipy.interpolate import interp1d\n",
    "\n",
    "# directory to the aspect Lab\n",
    "ASPECT_LAB_DIR = os.environ['ASPECT_LAB_DIR']\n",
    "RESULT_DIR = os.path.join(ASPECT_LAB_DIR, 'results')\n",
    "RESULT_O_DIR = os.path.join(ASPECT_LAB_DIR, 'results', \"ConradHager1999\")\n",
    "TwoDSubduction_DIR = os.environ['TwoDSubduction_DIR']\n",
    "\n",
    "sys.path.append(os.path.join(ASPECT_LAB_DIR))\n",
    "\n",
    "from shilofue.Analytics import HAGER_CONRAD1999\n",
    "from shilofue.TwoDSubduction0.Group import CASE_SUMMARY, PlotGroupDiagram\n",
    "from shilofue.TwoDSubduction0.PlotVisit import VISIT_OPTIONS"
   ]
  },
  {
   "cell_type": "code",
   "execution_count": null,
   "metadata": {},
   "outputs": [],
   "source": [
    "yr = 365 * 24 * 3600\n",
    "\n",
    "strong_strength = 500e6\n",
    "intermediate_strength = 300e6\n",
    "weak_strength = 100e6\n",
    "\n",
    "ref_strain_rate = 1e-14\n",
    "strong_visc = strong_strength / 2.0 / ref_strain_rate\n",
    "intermediate_visc = intermediate_strength / 2.0 / ref_strain_rate\n",
    "weak_visc = weak_strength / 2.0 / ref_strain_rate\n",
    "\n",
    "print(\"strong_visc: \", strong_visc)\n",
    "print(\"intermediate_visc: \", intermediate_visc)\n",
    "print(\"weak_visc: \", weak_visc)\n",
    "\n",
    "HC1999_strong = HAGER_CONRAD1999(1.5e23) # 1e23 - their original value; 1.5e23 - match the case; strong_visc - value from ref_strain_rate\n",
    "HC1999_intermediate = HAGER_CONRAD1999(2e22)  # intermediate_visc - value from ref_strain_rate\n",
    "HC1999_weak = HAGER_CONRAD1999(3e21) # 3e21 - their original value; weak_visc - value from ref_strain_rate\n",
    "\n",
    "'''\n",
    "eta_sz = 2.5e20 # Pa * s\n",
    "Vc_strong = HC1999_strong.ComputeConvergence(eta_sz)\n",
    "Vc_weak = HC1999_weak.ComputeConvergence(eta_sz)\n",
    "Vc_strong * yr * 100.0\n",
    "Vc_weak * yr * 100.0\n",
    "'''\n"
   ]
  },
  {
   "cell_type": "code",
   "execution_count": null,
   "metadata": {},
   "outputs": [],
   "source": [
    "eta_m = 2.5e20\n",
    "\n",
    "'''\n",
    "L_l - the slab length\n",
    "h_l - the slab thickness\n",
    "R_l - the slab bending curvature\n",
    "'''\n",
    "L_l = 660e3 # m\n",
    "h_l = 100e3 # m\n",
    "R_l = 350e3 # m\n",
    "\n",
    "zeta_f = 150e3 / 7.5e3 # aspect ratio of the shear zone\n",
    "\n",
    "i = 0\n",
    "N = 100\n",
    "etas_sz = np.ones(N)\n",
    "Vcs0 = np.zeros(N)\n",
    "Vcsi = np.zeros(N)\n",
    "Vcs1 = np.zeros(N)\n",
    "log_etas = np.linspace(-3.0, 2.0, N)\n",
    "\n",
    "for i in range(N):\n",
    "    eta_sz = eta_m * 10**log_etas[i]\n",
    "    etas_sz[i] = eta_sz\n",
    "    Vc_strong = HC1999_strong.ComputeConvergence(L_l, h_l, R_l, eta_sz, zeta_f)\n",
    "    Vc_intermediate = HC1999_intermediate.ComputeConvergence(L_l, h_l, R_l, eta_sz, zeta_f)\n",
    "    Vc_weak = HC1999_weak.ComputeConvergence(L_l, h_l, R_l, eta_sz, zeta_f)\n",
    "    Vcs0[i] = Vc_strong\n",
    "    Vcsi[i] = Vc_intermediate\n",
    "    Vcs1[i] = Vc_weak\n",
    "\n"
   ]
  },
  {
   "cell_type": "code",
   "execution_count": null,
   "metadata": {},
   "outputs": [],
   "source": [
    "group_dir = os.path.join(TwoDSubduction_DIR, 'EBA_CDPT24_2') # different sz properties\n",
    "\n",
    "o_path = os.path.join(group_dir, 'case_summary_sz_visc.txt')\n",
    "\n",
    "Case_Summary = CASE_SUMMARY(VISIT_OPTIONS=VISIT_OPTIONS)\n",
    "\n",
    "# import old result if it exists \n",
    "if os.path.isfile(o_path):\n",
    "    Case_Summary.import_txt(o_path)\n",
    "\n",
    "V_plate_avgs = Case_Summary.export(\"V_plate_avgs\")\n",
    "V_ov_plate_avgs = Case_Summary.export(\"V_ov_plate_avgs\")\n",
    "sz_viscs = Case_Summary.export(\"sz_viscs\")\n",
    "slab_strs = Case_Summary.export(\"slab_strs\")\n",
    "\n",
    "V_convs = V_plate_avgs - V_ov_plate_avgs"
   ]
  },
  {
   "cell_type": "code",
   "execution_count": null,
   "metadata": {},
   "outputs": [],
   "source": [
    "fig, ax = plt.subplots()\n",
    "ax.semilogx(etas_sz / eta_m, Vcs0 * 100.0 * yr, 'r', label=\"strong\")\n",
    "ax.semilogx(etas_sz / eta_m, Vcsi * 100.0 * yr, 'b', label=\"intermediate\")\n",
    "ax.semilogx(etas_sz / eta_m, Vcs1 * 100.0 * yr, 'c', label=\"weak\")\n",
    "ax.grid()\n",
    "ax.set_xlabel(\"V_sz/V_m\")\n",
    "ax.set_ylabel(\"Vc (cm / yr)\")\n",
    "\n",
    "mask0 = (abs((slab_strs - strong_strength) / strong_strength) < 1e-6)\n",
    "mask1 = (abs((slab_strs - intermediate_strength) / intermediate_strength) < 1e-6)\n",
    "mask2 = (abs((slab_strs - weak_strength) / weak_strength) < 1e-6)\n",
    "ax.semilogx(sz_viscs[mask0] / eta_m, V_convs[mask0] * 100.0, 'ro')\n",
    "ax.semilogx(sz_viscs[mask1] / eta_m, V_convs[mask1] * 100.0, 'bo')\n",
    "ax.semilogx(sz_viscs[mask2] / eta_m, V_convs[mask2] * 100.0, 'co')\n",
    "ax.legend()\n",
    "fig_path = os.path.join(RESULT_O_DIR, \"Behr_etal_2022_fig9_Ll%.1f_hl%.1f_Rl%.1f_zetaf%.1f_compare.pdf\" % (L_l/1e3, h_l/1e3, R_l/1e3, zeta_f))\n",
    "fig.savefig(fig_path)\n",
    "print(\"saved to %s\" % fig_path)"
   ]
  }
 ],
 "metadata": {
  "interpreter": {
   "hash": "04f94a466fc6855f7f994dd3204adbc7760ad767ef3aef9ead569409decf9820"
  },
  "kernelspec": {
   "display_name": "Python 3.7.13 ('aspectLib')",
   "language": "python",
   "name": "python3"
  },
  "language_info": {
   "codemirror_mode": {
    "name": "ipython",
    "version": 3
   },
   "file_extension": ".py",
   "mimetype": "text/x-python",
   "name": "python",
   "nbconvert_exporter": "python",
   "pygments_lexer": "ipython3",
   "version": "3.7.13"
  },
  "orig_nbformat": 4
 },
 "nbformat": 4,
 "nbformat_minor": 2
}
