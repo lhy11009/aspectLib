{
 "cells": [
  {
   "cell_type": "markdown",
   "metadata": {},
   "source": [
    "### TODO: fix the \"copy file\" step.\n",
    "\n",
    "when assignng a dict to the group option, the copy json options doesn't work"
   ]
  },
  {
   "cell_type": "code",
   "execution_count": 4,
   "metadata": {},
   "outputs": [],
   "source": [
    "import os, sys\n",
    "import numpy as np\n",
    "from shutil import rmtree, copy\n",
    "from matplotlib import pyplot as plt\n",
    "from matplotlib import gridspec, cm\n",
    "from PIL import Image, ImageDraw, ImageFont\n",
    "from scipy.interpolate import interp1d\n",
    "\n",
    "# directory to the aspect Lab\n",
    "ASPECT_LAB_DIR = os.environ['ASPECT_LAB_DIR']\n",
    "RESULT_DIR = os.path.join(ASPECT_LAB_DIR, 'results')\n",
    "\n",
    "sys.path.append(os.path.join(ASPECT_LAB_DIR))\n",
    "\n",
    "import shilofue.TwoDSubduction0.Group as TwoDGroup\n",
    "from shilofue.TwoDSubduction0.Cases import CASE, CASE_OPT"
   ]
  },
  {
   "cell_type": "code",
   "execution_count": 6,
   "metadata": {},
   "outputs": [],
   "source": [
    "group_dict = \\\n",
    "{\n",
    "    \"base name\": \"eba_cdpt_coh500\", \n",
    "    \"base json\": \"${ASPECT_LAB_DIR}/files/TwoDSubduction/240113/case.json\",\n",
    "    \"base directory\": \"${ASPECT_LAB_DIR}/files/TwoDSubduction/240113\",\n",
    "    \"output directory\": \"${TwoDSubduction_DIR}/EBA_CDPT23_test\",\n",
    "    \"slurm base file\": \"${ASPECT_LAB_DIR}/files/slurm_files/231009/job_p-billen.sh\",\n",
    "    \"combine case run\": 1,\n",
    "    \"base features\":[\n",
    "        {\n",
    "            \"name\": \"number of layer in the crust\",\n",
    "            \"key\": [\"world builder\", \"layers of crust\"],\n",
    "            \"unit\": \"\",\n",
    "            \"values\": [1],\n",
    "            \"abbreviating strings\": [\"\"]\n",
    "        },\n",
    "        {\n",
    "            \"name\": \"Rheology of the lower crust\",\n",
    "            \"key\": [\"shear zone\", \"lower crust rheology scheme\"],\n",
    "            \"unit\": \"\",\n",
    "            \"values\": [\"mantle\"],\n",
    "            \"abbreviating strings\": [\"\"]\n",
    "        },\n",
    "        {\n",
    "            \"name\": \"Age of the overiding plate\",\n",
    "            \"key\": [\"world builder\", \"overiding plate\", \"age\"],\n",
    "            \"unit\": \"yr\",\n",
    "            \"values\": [40e6],\n",
    "            \"abbreviating strings\": [\"\"]\n",
    "        },\n",
    "        {\n",
    "            \"name\": \"Refinement level, note this is a summarized parameter of the refinement scheme assigned\",\n",
    "            \"key\": [\"refinement level\"],\n",
    "            \"unit\": \"\",\n",
    "            \"values\": [9],\n",
    "            \"abbreviating strings\": [\"\"]\n",
    "        },\n",
    "        {\n",
    "            \"name\": \"Viscosity in the slab core\",\n",
    "            \"key\": [\"shear zone\", \"slab core viscosity\"],\n",
    "            \"unit\": \"pa s\",\n",
    "            \"values\": [-1.0],\n",
    "            \"abbreviating strings\": [\"\"]\n",
    "        }\n",
    "\t],\n",
    "    \"features\":[\n",
    "        {\n",
    "            \"name\": \"Age of the subducting plate\",\n",
    "            \"key\": [\"world builder\", \"subducting plate\", \"age trench\"],\n",
    "            \"unit\": \"yr\",\n",
    "            \"values\": [40e6, 80e6, 120e6],\n",
    "            \"abbreviation by value\": 1,\n",
    "            \"abbreviating value options\": [\"SA\", 1e-6]\n",
    "        },\n",
    "        {\n",
    "            \"name\": \"Slab strength\",\n",
    "            \"key\": [\"slab\", \"strength\"],\n",
    "            \"unit\": \"pa\",\n",
    "            \"values\": [100e6, 300e6, 500e6],\n",
    "            \"abbreviation by value\": 1,\n",
    "            \"abbreviating value options\": [\"ss\", 1e-6]\n",
    "        },\n",
    "        {\n",
    "            \"name\": \"Cutoff depth for the shear zone rheology\",\n",
    "            \"key\": [\"shear zone\", \"cutoff depth\"],\n",
    "            \"unit\": \"m\",\n",
    "            \"values\": [60e3, 80e3, 100e3, 150e3],\n",
    "            \"abbreviation by value\": 1,\n",
    "            \"abbreviating value options\": [\"cd\", 1e-3]\n",
    "        },\n",
    "        {\n",
    "            \"name\": \"Thickness of the shear zone / crust\",\n",
    "            \"key\": [\"shear zone\", \"thickness\"],\n",
    "            \"unit\": \"m\",\n",
    "            \"values\": [5e3, 7.5e3, 10e3, 15e3],\n",
    "            \"abbreviation by value\": 1,\n",
    "            \"abbreviating value options\": [\"dc\", 1e-3]\n",
    "        },\n",
    "        {\n",
    "            \"name\": \"constant viscosity in the shear zone\",\n",
    "            \"key\": [\"shear zone\", \"constant viscosity\"],\n",
    "            \"unit\": \"m\",\n",
    "            \"values\": [1e19, 1e20, 1e21],\n",
    "            \"abbreviation by value\": 0,\n",
    "            \"abbreviating strings\": [\"sv19\", \"sv20\", \"sv21\"]\n",
    "        }\n",
    "    ],\n",
    "    \"bindings\": [[1, 2, 0, 0, 2], [1, 2, 0, 1, 2], [1, 2, 0, 2, 2], [1, 2, 0, 3, 2],\n",
    "\t\t[1, 2, 1, 0, 2], [1, 2, 1, 1, 2], [1, 2, 1, 2, 2], [1, 2, 1, 3, 2],\n",
    "\t\t[1, 2, 2, 0, 2], [1, 2, 2, 1, 2], [1, 2, 2, 2, 2], [1, 2, 2, 3, 2],\n",
    "\t\t[1, 2, 3, 0, 2], [1, 2, 3, 1, 2], [1, 2, 3, 2, 2], [1, 2, 3, 3, 2]\n",
    "\t\t],\n",
    "    \"slurm\": [\n",
    "       {\n",
    "         \"slurm file\": os.path.join(ASPECT_LAB_DIR, \"files/slurm_files/230924/job_p-billen.sh\"),\n",
    "         \"build directory\": \"master_TwoD\",\n",
    "         \"tasks per node\": 8,\n",
    "         \"cpus\": 8\n",
    "       }\n",
    "   ]\n",
    "}"
   ]
  },
  {
   "cell_type": "code",
   "execution_count": 7,
   "metadata": {},
   "outputs": [
    {
     "name": "stdout",
     "output_type": "stream",
     "text": [
      "<class 'shilofue.TwoDSubduction0.Cases.CASE_OPT'>\n"
     ]
    },
    {
     "ename": "TypeError",
     "evalue": "stat: path should be string, bytes, os.PathLike or integer, not dict",
     "output_type": "error",
     "traceback": [
      "\u001b[0;31m---------------------------------------------------------------------------\u001b[0m",
      "\u001b[0;31mTypeError\u001b[0m                                 Traceback (most recent call last)",
      "\u001b[0;32m/tmp/ipykernel_100438/4015675556.py\u001b[0m in \u001b[0;36m<module>\u001b[0;34m\u001b[0m\n\u001b[0;32m----> 1\u001b[0;31m \u001b[0mTwoDGroup\u001b[0m\u001b[0;34m.\u001b[0m\u001b[0mCreateGroup\u001b[0m\u001b[0;34m(\u001b[0m\u001b[0mgroup_dict\u001b[0m\u001b[0;34m,\u001b[0m \u001b[0mCASE\u001b[0m\u001b[0;34m,\u001b[0m \u001b[0mCASE_OPT\u001b[0m\u001b[0;34m)\u001b[0m\u001b[0;34m\u001b[0m\u001b[0;34m\u001b[0m\u001b[0m\n\u001b[0m",
      "\u001b[0;32m~/ASPECT_PROJECT/aspectLib/shilofue/Group.py\u001b[0m in \u001b[0;36mCreateGroup\u001b[0;34m(json_path, CASE, CASE_OPT)\u001b[0m\n\u001b[1;32m    366\u001b[0m         \u001b[0mos\u001b[0m\u001b[0;34m.\u001b[0m\u001b[0mmkdir\u001b[0m\u001b[0;34m(\u001b[0m\u001b[0mgroup_opt\u001b[0m\u001b[0;34m.\u001b[0m\u001b[0mget_output_dir\u001b[0m\u001b[0;34m(\u001b[0m\u001b[0;34m)\u001b[0m\u001b[0;34m)\u001b[0m\u001b[0;34m\u001b[0m\u001b[0;34m\u001b[0m\u001b[0m\n\u001b[1;32m    367\u001b[0m     \u001b[0;32mtry\u001b[0m\u001b[0;34m:\u001b[0m\u001b[0;34m\u001b[0m\u001b[0;34m\u001b[0m\u001b[0m\n\u001b[0;32m--> 368\u001b[0;31m         \u001b[0mcopy\u001b[0m\u001b[0;34m(\u001b[0m\u001b[0mjson_path\u001b[0m\u001b[0;34m,\u001b[0m \u001b[0mos\u001b[0m\u001b[0;34m.\u001b[0m\u001b[0mpath\u001b[0m\u001b[0;34m.\u001b[0m\u001b[0mjoin\u001b[0m\u001b[0;34m(\u001b[0m\u001b[0mgroup_opt\u001b[0m\u001b[0;34m.\u001b[0m\u001b[0mget_output_dir\u001b[0m\u001b[0;34m(\u001b[0m\u001b[0;34m)\u001b[0m\u001b[0;34m,\u001b[0m \u001b[0;34m\"group.json\"\u001b[0m\u001b[0;34m)\u001b[0m\u001b[0;34m)\u001b[0m\u001b[0;34m\u001b[0m\u001b[0;34m\u001b[0m\u001b[0m\n\u001b[0m\u001b[1;32m    369\u001b[0m     \u001b[0;32mexcept\u001b[0m \u001b[0mSameFileError\u001b[0m\u001b[0;34m:\u001b[0m\u001b[0;34m\u001b[0m\u001b[0;34m\u001b[0m\u001b[0m\n\u001b[1;32m    370\u001b[0m         print(\"Copy: these are the same file (%s, %s), pass.\"\\\n",
      "\u001b[0;32m~/anaconda3/envs/aspectLib/lib/python3.7/shutil.py\u001b[0m in \u001b[0;36mcopy\u001b[0;34m(src, dst, follow_symlinks)\u001b[0m\n\u001b[1;32m    246\u001b[0m     \u001b[0;32mif\u001b[0m \u001b[0mos\u001b[0m\u001b[0;34m.\u001b[0m\u001b[0mpath\u001b[0m\u001b[0;34m.\u001b[0m\u001b[0misdir\u001b[0m\u001b[0;34m(\u001b[0m\u001b[0mdst\u001b[0m\u001b[0;34m)\u001b[0m\u001b[0;34m:\u001b[0m\u001b[0;34m\u001b[0m\u001b[0;34m\u001b[0m\u001b[0m\n\u001b[1;32m    247\u001b[0m         \u001b[0mdst\u001b[0m \u001b[0;34m=\u001b[0m \u001b[0mos\u001b[0m\u001b[0;34m.\u001b[0m\u001b[0mpath\u001b[0m\u001b[0;34m.\u001b[0m\u001b[0mjoin\u001b[0m\u001b[0;34m(\u001b[0m\u001b[0mdst\u001b[0m\u001b[0;34m,\u001b[0m \u001b[0mos\u001b[0m\u001b[0;34m.\u001b[0m\u001b[0mpath\u001b[0m\u001b[0;34m.\u001b[0m\u001b[0mbasename\u001b[0m\u001b[0;34m(\u001b[0m\u001b[0msrc\u001b[0m\u001b[0;34m)\u001b[0m\u001b[0;34m)\u001b[0m\u001b[0;34m\u001b[0m\u001b[0;34m\u001b[0m\u001b[0m\n\u001b[0;32m--> 248\u001b[0;31m     \u001b[0mcopyfile\u001b[0m\u001b[0;34m(\u001b[0m\u001b[0msrc\u001b[0m\u001b[0;34m,\u001b[0m \u001b[0mdst\u001b[0m\u001b[0;34m,\u001b[0m \u001b[0mfollow_symlinks\u001b[0m\u001b[0;34m=\u001b[0m\u001b[0mfollow_symlinks\u001b[0m\u001b[0;34m)\u001b[0m\u001b[0;34m\u001b[0m\u001b[0;34m\u001b[0m\u001b[0m\n\u001b[0m\u001b[1;32m    249\u001b[0m     \u001b[0mcopymode\u001b[0m\u001b[0;34m(\u001b[0m\u001b[0msrc\u001b[0m\u001b[0;34m,\u001b[0m \u001b[0mdst\u001b[0m\u001b[0;34m,\u001b[0m \u001b[0mfollow_symlinks\u001b[0m\u001b[0;34m=\u001b[0m\u001b[0mfollow_symlinks\u001b[0m\u001b[0;34m)\u001b[0m\u001b[0;34m\u001b[0m\u001b[0;34m\u001b[0m\u001b[0m\n\u001b[1;32m    250\u001b[0m     \u001b[0;32mreturn\u001b[0m \u001b[0mdst\u001b[0m\u001b[0;34m\u001b[0m\u001b[0;34m\u001b[0m\u001b[0m\n",
      "\u001b[0;32m~/anaconda3/envs/aspectLib/lib/python3.7/shutil.py\u001b[0m in \u001b[0;36mcopyfile\u001b[0;34m(src, dst, follow_symlinks)\u001b[0m\n\u001b[1;32m    101\u001b[0m \u001b[0;34m\u001b[0m\u001b[0m\n\u001b[1;32m    102\u001b[0m     \"\"\"\n\u001b[0;32m--> 103\u001b[0;31m     \u001b[0;32mif\u001b[0m \u001b[0m_samefile\u001b[0m\u001b[0;34m(\u001b[0m\u001b[0msrc\u001b[0m\u001b[0;34m,\u001b[0m \u001b[0mdst\u001b[0m\u001b[0;34m)\u001b[0m\u001b[0;34m:\u001b[0m\u001b[0;34m\u001b[0m\u001b[0;34m\u001b[0m\u001b[0m\n\u001b[0m\u001b[1;32m    104\u001b[0m         \u001b[0;32mraise\u001b[0m \u001b[0mSameFileError\u001b[0m\u001b[0;34m(\u001b[0m\u001b[0;34m\"{!r} and {!r} are the same file\"\u001b[0m\u001b[0;34m.\u001b[0m\u001b[0mformat\u001b[0m\u001b[0;34m(\u001b[0m\u001b[0msrc\u001b[0m\u001b[0;34m,\u001b[0m \u001b[0mdst\u001b[0m\u001b[0;34m)\u001b[0m\u001b[0;34m)\u001b[0m\u001b[0;34m\u001b[0m\u001b[0;34m\u001b[0m\u001b[0m\n\u001b[1;32m    105\u001b[0m \u001b[0;34m\u001b[0m\u001b[0m\n",
      "\u001b[0;32m~/anaconda3/envs/aspectLib/lib/python3.7/shutil.py\u001b[0m in \u001b[0;36m_samefile\u001b[0;34m(src, dst)\u001b[0m\n\u001b[1;32m     86\u001b[0m     \u001b[0;32mif\u001b[0m \u001b[0mhasattr\u001b[0m\u001b[0;34m(\u001b[0m\u001b[0mos\u001b[0m\u001b[0;34m.\u001b[0m\u001b[0mpath\u001b[0m\u001b[0;34m,\u001b[0m \u001b[0;34m'samefile'\u001b[0m\u001b[0;34m)\u001b[0m\u001b[0;34m:\u001b[0m\u001b[0;34m\u001b[0m\u001b[0;34m\u001b[0m\u001b[0m\n\u001b[1;32m     87\u001b[0m         \u001b[0;32mtry\u001b[0m\u001b[0;34m:\u001b[0m\u001b[0;34m\u001b[0m\u001b[0;34m\u001b[0m\u001b[0m\n\u001b[0;32m---> 88\u001b[0;31m             \u001b[0;32mreturn\u001b[0m \u001b[0mos\u001b[0m\u001b[0;34m.\u001b[0m\u001b[0mpath\u001b[0m\u001b[0;34m.\u001b[0m\u001b[0msamefile\u001b[0m\u001b[0;34m(\u001b[0m\u001b[0msrc\u001b[0m\u001b[0;34m,\u001b[0m \u001b[0mdst\u001b[0m\u001b[0;34m)\u001b[0m\u001b[0;34m\u001b[0m\u001b[0;34m\u001b[0m\u001b[0m\n\u001b[0m\u001b[1;32m     89\u001b[0m         \u001b[0;32mexcept\u001b[0m \u001b[0mOSError\u001b[0m\u001b[0;34m:\u001b[0m\u001b[0;34m\u001b[0m\u001b[0;34m\u001b[0m\u001b[0m\n\u001b[1;32m     90\u001b[0m             \u001b[0;32mreturn\u001b[0m \u001b[0;32mFalse\u001b[0m\u001b[0;34m\u001b[0m\u001b[0;34m\u001b[0m\u001b[0m\n",
      "\u001b[0;32m~/anaconda3/envs/aspectLib/lib/python3.7/genericpath.py\u001b[0m in \u001b[0;36msamefile\u001b[0;34m(f1, f2)\u001b[0m\n\u001b[1;32m     98\u001b[0m     \u001b[0mraises\u001b[0m \u001b[0man\u001b[0m \u001b[0mexception\u001b[0m \u001b[0;32mif\u001b[0m \u001b[0man\u001b[0m \u001b[0mos\u001b[0m\u001b[0;34m.\u001b[0m\u001b[0mstat\u001b[0m\u001b[0;34m(\u001b[0m\u001b[0;34m)\u001b[0m \u001b[0mcall\u001b[0m \u001b[0mon\u001b[0m \u001b[0meither\u001b[0m \u001b[0mpathname\u001b[0m \u001b[0mfails\u001b[0m\u001b[0;34m.\u001b[0m\u001b[0;34m\u001b[0m\u001b[0;34m\u001b[0m\u001b[0m\n\u001b[1;32m     99\u001b[0m     \"\"\"\n\u001b[0;32m--> 100\u001b[0;31m     \u001b[0ms1\u001b[0m \u001b[0;34m=\u001b[0m \u001b[0mos\u001b[0m\u001b[0;34m.\u001b[0m\u001b[0mstat\u001b[0m\u001b[0;34m(\u001b[0m\u001b[0mf1\u001b[0m\u001b[0;34m)\u001b[0m\u001b[0;34m\u001b[0m\u001b[0;34m\u001b[0m\u001b[0m\n\u001b[0m\u001b[1;32m    101\u001b[0m     \u001b[0ms2\u001b[0m \u001b[0;34m=\u001b[0m \u001b[0mos\u001b[0m\u001b[0;34m.\u001b[0m\u001b[0mstat\u001b[0m\u001b[0;34m(\u001b[0m\u001b[0mf2\u001b[0m\u001b[0;34m)\u001b[0m\u001b[0;34m\u001b[0m\u001b[0;34m\u001b[0m\u001b[0m\n\u001b[1;32m    102\u001b[0m     \u001b[0;32mreturn\u001b[0m \u001b[0msamestat\u001b[0m\u001b[0;34m(\u001b[0m\u001b[0ms1\u001b[0m\u001b[0;34m,\u001b[0m \u001b[0ms2\u001b[0m\u001b[0;34m)\u001b[0m\u001b[0;34m\u001b[0m\u001b[0;34m\u001b[0m\u001b[0m\n",
      "\u001b[0;31mTypeError\u001b[0m: stat: path should be string, bytes, os.PathLike or integer, not dict"
     ]
    }
   ],
   "source": [
    "TwoDGroup.CreateGroup(group_dict, CASE, CASE_OPT)"
   ]
  }
 ],
 "metadata": {
  "interpreter": {
   "hash": "04f94a466fc6855f7f994dd3204adbc7760ad767ef3aef9ead569409decf9820"
  },
  "kernelspec": {
   "display_name": "Python 3.7.13 ('aspectLib')",
   "language": "python",
   "name": "python3"
  },
  "language_info": {
   "codemirror_mode": {
    "name": "ipython",
    "version": 3
   },
   "file_extension": ".py",
   "mimetype": "text/x-python",
   "name": "python",
   "nbconvert_exporter": "python",
   "pygments_lexer": "ipython3",
   "version": "3.7.13"
  },
  "orig_nbformat": 4
 },
 "nbformat": 4,
 "nbformat_minor": 2
}
