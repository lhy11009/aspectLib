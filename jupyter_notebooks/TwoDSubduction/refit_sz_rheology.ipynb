{
 "cells": [
  {
   "cell_type": "markdown",
   "metadata": {},
   "source": [
    "### Fit the rheology in the shear zone\n",
    "\n",
    "The flow law independent of P, T could be writen as:\n",
    "\n",
    "$$\\eta = \\frac{1}{2} A_{ASPECT}^{-\\frac{1}{n}} {\\dot\\epsilon_{ii}}^{\\frac{1}{n}-1}$$\n",
    "\n",
    "I introduce a reference strain rate and rewrite it as:\n",
    "\n",
    "$$\\eta = \\eta_{ref} * \\frac{{\\dot\\epsilon_{ii}}^{\\frac{1}{n}-1}}{{\\dot\\epsilon_{ref\\_ii}}^{\\frac{1}{n}-1}}$$\n",
    "\n",
    "Thus the prefactor could be extracted as\n",
    "\n",
    "$$A_{ASPECT} = 2^{-n} * \\eta_{ref}^{-n} * {\\dot\\epsilon_{ref\\_ii}}^{1-n}$$"
   ]
  },
  {
   "cell_type": "code",
   "execution_count": null,
   "metadata": {},
   "outputs": [],
   "source": [
    "import os\n",
    "import json\n",
    "import os\n",
    "import sys\n",
    "import numpy as np\n",
    "from matplotlib import pyplot as plt\n",
    "\n",
    "# directory to the aspect Lab\n",
    "ASPECT_LAB_DIR = os.environ['ASPECT_LAB_DIR']\n",
    "\n",
    "sys.path.append(os.path.join(ASPECT_LAB_DIR))\n",
    "\n",
    "import shilofue.Rheology as Rheology"
   ]
  },
  {
   "cell_type": "markdown",
   "metadata": {},
   "source": [
    "#### Select the values of variables to derive a new rheology\n",
    "\n",
    "$\\dot{\\epsilon_{ii}}$ - reference strain rate\n",
    "\n",
    "$\\eta_{ref}$ - viscosity at the reference strain rate\n",
    "\n",
    "n - stess dependence"
   ]
  },
  {
   "cell_type": "code",
   "execution_count": null,
   "metadata": {},
   "outputs": [],
   "source": [
    "visc_ref = 1e20\n",
    "strain_rate_ref = 1e-13\n",
    "n = 2.0\n",
    "\n",
    "A = 2**(-n) * visc_ref**(-n) * strain_rate_ref**(1-n)\n",
    "print(\"A = \", A)\n",
    "\n",
    "creep_sz = {\n",
    "  \"A\":A, \"m\": 0.0, \"n\": n, \"E\": 0.0, \"V\": 0.0, \"d\": 1e-2\n",
    "}"
   ]
  },
  {
   "cell_type": "markdown",
   "metadata": {},
   "source": [
    "#### Check the value of viscosity at a give strain rate"
   ]
  },
  {
   "cell_type": "code",
   "execution_count": null,
   "metadata": {},
   "outputs": [],
   "source": [
    "strain_rate = 1e-14\n",
    "# values of T and P are trivial\n",
    "T = 1073 # K\n",
    "P = 1e9 # Pa\n",
    "\n",
    "visc = Rheology.CreepRheologyInAspectViscoPlastic(creep_sz, strain_rate, P, T)\n",
    "\n",
    "print(\"visc = \", visc)"
   ]
  }
 ],
 "metadata": {
  "kernelspec": {
   "display_name": "aspectLib",
   "language": "python",
   "name": "python3"
  },
  "language_info": {
   "codemirror_mode": {
    "name": "ipython",
    "version": 3
   },
   "file_extension": ".py",
   "mimetype": "text/x-python",
   "name": "python",
   "nbconvert_exporter": "python",
   "pygments_lexer": "ipython3",
   "version": "3.7.13"
  }
 },
 "nbformat": 4,
 "nbformat_minor": 2
}
