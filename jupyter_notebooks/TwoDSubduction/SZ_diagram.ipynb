{
 "cells": [
  {
   "cell_type": "markdown",
   "metadata": {},
   "source": [
    "#### Generate diagram of shear zone property"
   ]
  },
  {
   "cell_type": "code",
   "execution_count": null,
   "metadata": {},
   "outputs": [],
   "source": [
    "import os, sys\n",
    "import numpy as np\n",
    "from shutil import rmtree, copy\n",
    "from matplotlib import pyplot as plt\n",
    "from matplotlib import gridspec, cm\n",
    "\n",
    "# directory to the aspect Lab\n",
    "ASPECT_LAB_DIR = os.environ['ASPECT_LAB_DIR']\n",
    "TwoDSubduction_DIR = os.environ['TwoDSubduction_DIR']\n",
    "RESULT_DIR = os.path.join(ASPECT_LAB_DIR, 'results')\n",
    "\n",
    "sys.path.append(os.path.join(ASPECT_LAB_DIR))\n",
    "from shilofue.TwoDSubduction0.Group import CASE_SUMMARY, PlotGroupDiagram\n",
    "import shilofue.TwoDSubduction0.VtkPp as TwoDVtkPp\n",
    "from shilofue.Group import ReadBasicInfoGroup\n",
    "from shilofue.TwoDSubduction0.PlotVisit import VISIT_OPTIONS"
   ]
  },
  {
   "cell_type": "code",
   "execution_count": null,
   "metadata": {},
   "outputs": [],
   "source": [
    "# group_dir = os.path.join(TwoDSubduction_DIR, 'EBA_CDPT17') # different ages\n",
    "# group_dir = os.path.join(TwoDSubduction_DIR, 'EBA_CDPT18') # different sz properties\n",
    "# group_dir = os.path.join(TwoDSubduction_DIR, 'EBA_CDPT20') # different ages\n",
    "# group_dir = os.path.join(TwoDSubduction_DIR, 'EBA_CDPT21') # different ages\n",
    "# group_dir = os.path.join(TwoDSubduction_DIR, 'EBA_CDPT23_4') # different sz viscosity, depth, width\n",
    "# group_dir = os.path.join(TwoDSubduction_DIR, 'EBA_CDPT23_6') # different sz viscosity, depth, width\n",
    "# group_dir = os.path.join(TwoDSubduction_DIR, 'EBA_CDPT24_0') # different sz viscosity, depth, width\n",
    "# group_dir = os.path.join(TwoDSubduction_DIR, 'EBA_CDPT24_1') # different sz viscosity, depth, width\n",
    "# group_dir = os.path.join(TwoDSubduction_DIR, 'EBA_CDPT24_2') # different sz viscosity, depth, width\n",
    "# group_dir = os.path.join(TwoDSubduction_DIR, 'EBA_CDPT24_3') # different sz viscosity, depth, width\n",
    "# group_dir = os.path.join(TwoDSubduction_DIR, 'EBA_CDPT24_4') # different sz viscosity, depth, width\n",
    "group_dir = os.path.join(TwoDSubduction_DIR, 'EBA_CDPT24_5') # different sz viscosity, depth, width\n",
    "assert(os.path.isdir(group_dir))"
   ]
  },
  {
   "cell_type": "markdown",
   "metadata": {},
   "source": [
    "#### Generate the slab morphology at the shortest interval possible\n",
    "\n",
    "First, run the following block.\n",
    "\n",
    "Then, take the py_temp.sh file generated and:\n",
    "\n",
    "    chmod +x py_temp.sh\n",
    "    \n",
    "    ./py_temp.sh\n",
    "\n",
    "This would run in parallel and generate the slab_morph.txt files."
   ]
  },
  {
   "cell_type": "code",
   "execution_count": null,
   "metadata": {},
   "outputs": [],
   "source": [
    "time_interval = 0.1e6\n",
    "\n",
    "# read the list of cases\n",
    "case_list, _, _, _ = ReadBasicInfoGroup(group_dir)\n",
    "\n",
    "# write a .sh file to run command in the system\n",
    "py_temp_file = os.path.join(ASPECT_LAB_DIR, 'py_temp.sh')\n",
    "py_commands = []\n",
    "\n",
    "for _case in case_list:\n",
    "  case_dir = os.path.join(group_dir, _case)\n",
    "  py_command = \"python -m shilofue.TwoDSubduction0.VtkPp morph_case_parallel -i %s -ti %.2e\\n\" % (case_dir, time_interval)\n",
    "  py_commands.append(py_command)\n",
    "\n",
    "with open(py_temp_file, 'w') as fout:\n",
    "  fout.write(\"#!/bin/bash\\n\")\n",
    "  for py_command in py_commands:\n",
    "    fout.write(py_command)"
   ]
  },
  {
   "cell_type": "markdown",
   "metadata": {},
   "source": [
    "#### Write to a summary file and generates plot for publication"
   ]
  },
  {
   "cell_type": "code",
   "execution_count": null,
   "metadata": {},
   "outputs": [],
   "source": [
    "from matplotlib import get_configdir\n",
    "\n",
    "get_configdir()"
   ]
  },
  {
   "cell_type": "code",
   "execution_count": null,
   "metadata": {},
   "outputs": [],
   "source": [
    "plt.style.use('publication_lhy11009')\n",
    "\n",
    "\n",
    "all_actions = ['t660', \"t800\", \"t1000\", 'shear_zone', \"strength\", \"sd_modes\", \"Vage\", \"ages\"] # all actions included in summary\n",
    "t1_method = 't660' # method for the range of time, t660: multiply the t660 to get a range\n",
    "t1_factor = 5.0 # if t1_method = 't660', then this is the factor to multiply\n",
    "\n",
    "assert(os.path.isdir(group_dir))\n",
    "\n",
    "# defaults\n",
    "write_for_paper = False; update_from_group = False\n",
    "\n",
    "# if we want to update the information on cases in a group, set update_from_group to True \n",
    "append = \"\"\n",
    "# Total summary, don't update\n",
    "# o_path_csv = os.path.join(TwoDSubduction_DIR, 'case_summary.csv'); update_from_group = False\n",
    "# update from the group\n",
    "# o_path_csv = os.path.join(group_dir, 'case_summary.csv'); update_from_group = True \n",
    "# for export to a latex table for the paper\n",
    "write_for_paper = True; update_from_group = False; o_path_csv = os.path.join(TwoDSubduction_DIR, 'case_summary.csv'); o_path_tex = os.path.join(TwoDSubduction_DIR, 'case_summary.tex')\n",
    "\n",
    "# o_path = os.path.join(group_dir, 'case_summary_sz_visc.txt'); update_from_group = False # shear zone, visc = 1e20\n",
    "# o_path = os.path.join(group_dir, 'case_summary_sz_visc_1e19.txt'); append=19; update_from_group = False # shear zone, visc = 1e19\n",
    "# o_path = os.path.join(group_dir, 'case_summary_sz_visc_1e21.txt'); append=21; update_from_group = False # shear zone, visc = 1e19\n",
    "# o_path = os.path.join(group_dir, 'case_summary_ages.txt'); update_from_group = False\n",
    "# o_path = os.path.join(group_dir, 'case_summary_SA40_OA20.txt')\n",
    "# o_path = os.path.join(group_dir, 'case_summary_SA140_OA40.txt')\n",
    "    \n",
    "img_dir = os.path.join(group_dir, 'img')\n",
    "if not os.path.isdir(img_dir):\n",
    "  os.mkdir(img_dir)\n",
    "\n",
    "fig_vtr_path = os.path.join(img_dir, 'vtr_pub%s.pdf' % append)\n",
    "fig_vage_path = os.path.join(img_dir, 'vag_pub%s.pdf' % append)\n",
    "# fig_vtr_path = os.path.join(img_dir, 'vtr_pub_SA40_OA20.pdf')\n",
    "# fig_vtr_path = os.path.join(img_dir, 'vtr_pub_SA140_OA40.pdf')\n",
    "\n",
    "Case_Summary = CASE_SUMMARY(VISIT_OPTIONS=VISIT_OPTIONS)\n",
    "\n",
    "# import old result if it exists \n",
    "if os.path.isfile(o_path_csv):\n",
    "  Case_Summary.import_file(o_path_csv)\n",
    "  Case_Summary.Update(actions=all_actions, t1_method=t1_method, t1_factor=t1_factor)\n",
    "\n",
    "# import the new directory\n",
    "if update_from_group:\n",
    "  Case_Summary.import_directory(group_dir, actions=all_actions, t1_method=t1_method, t1_factor=t1_factor)\n",
    "\n",
    "\n",
    "\n",
    "# output file output \n",
    "if write_for_paper: \n",
    "  Case_Summary.write_file_for_sz_paper(o_path_tex)\n",
    "else:\n",
    "  Case_Summary.write_file(o_path_csv)\n",
    "\n",
    "#### plot options\n",
    "# plot the velocity - shear zone properties diagram: trench\n",
    "# Case_Summary.plot_velocities_tr_publication(fig_vtr_path)\n",
    "\n",
    "# plot the velocity - ages diagram\n",
    "# Case_Summary.plot_velocities_ages_publication(fig_vage_path)\n",
    "\n",
    "# resume default configurations\n",
    "import matplotlib as mpl\n",
    "mpl.rcParams.update(mpl.rcParamsDefault)"
   ]
  }
 ],
 "metadata": {
  "kernelspec": {
   "display_name": "aspectLib",
   "language": "python",
   "name": "python3"
  },
  "language_info": {
   "codemirror_mode": {
    "name": "ipython",
    "version": 3
   },
   "file_extension": ".py",
   "mimetype": "text/x-python",
   "name": "python",
   "nbconvert_exporter": "python",
   "pygments_lexer": "ipython3",
   "version": "3.7.13"
  },
  "orig_nbformat": 4
 },
 "nbformat": 4,
 "nbformat_minor": 2
}
