{
 "cells": [
  {
   "cell_type": "markdown",
   "metadata": {},
   "source": [
    "#### Generate diagram of shear zone property"
   ]
  },
  {
   "cell_type": "code",
   "execution_count": 1,
   "metadata": {},
   "outputs": [],
   "source": [
    "import os, sys\n",
    "import numpy as np\n",
    "from shutil import rmtree, copy\n",
    "from matplotlib import pyplot as plt\n",
    "from matplotlib import gridspec, cm\n",
    "\n",
    "# directory to the aspect Lab\n",
    "ASPECT_LAB_DIR = os.environ['ASPECT_LAB_DIR']\n",
    "TwoDSubduction_DIR = os.environ['TwoDSubduction_DIR']\n",
    "RESULT_DIR = os.path.join(ASPECT_LAB_DIR, 'results')\n",
    "\n",
    "sys.path.append(os.path.join(ASPECT_LAB_DIR))\n",
    "from shilofue.TwoDSubduction0.Group import CASE_SUMMARY\n",
    "import shilofue.TwoDSubduction0.VtkPp as TwoDVtkPp\n",
    "from shilofue.Group import ReadBasicInfoGroup\n",
    "from shilofue.TwoDSubduction0.PlotVisit import VISIT_OPTIONS"
   ]
  },
  {
   "cell_type": "markdown",
   "metadata": {},
   "source": [
    "#### Generate the slab morphology at the shortest interval possible\n",
    "\n",
    "First, run the following block.\n",
    "\n",
    "Then, take the py_temp.sh file generated and:\n",
    "\n",
    "    chmod +x py_temp.sh\n",
    "    \n",
    "    ./py_temp.sh\n",
    "\n",
    "This would run in parallel and generate the slab_morph.txt files."
   ]
  },
  {
   "cell_type": "code",
   "execution_count": 2,
   "metadata": {},
   "outputs": [
    {
     "name": "stderr",
     "output_type": "stream",
     "text": [
      "/home/lochy/ASPECT_PROJECT/aspectLib/shilofue/PlotRunTime.py:93: FileHasNoContentWarning: func RunTimeInfo: There is no block data in file /mnt/lochy0/ASPECT_DATA/TwoDSubduction/EBA_CDPT18/eba_cdpt_coh500_SA80.0_OA40.0_cd150.0_cd5.0_gr9/output/log.txt, Do nothing\n",
      "  warnings.warn(warning_message, Utilities.WarningTypes.FileHasNoContentWarning)\n",
      "/home/lochy/ASPECT_PROJECT/aspectLib/shilofue/PlotRunTime.py:93: FileHasNoContentWarning: func RunTimeInfo: There is no block data in file /mnt/lochy0/ASPECT_DATA/TwoDSubduction/EBA_CDPT18/eba_cdpt_coh500_SA80.0_OA40.0_cd100.0_cd5.0_gr9/output/log.txt, Do nothing\n",
      "  warnings.warn(warning_message, Utilities.WarningTypes.FileHasNoContentWarning)\n"
     ]
    }
   ],
   "source": [
    "group_dir = os.path.join(TwoDSubduction_DIR, 'EBA_CDPT18')\n",
    "time_interval = 0.1e6\n",
    "\n",
    "# read the list of cases\n",
    "case_list, _, _, _ = ReadBasicInfoGroup(group_dir)\n",
    "\n",
    "# write a .sh file to run command in the system\n",
    "py_temp_file = os.path.join(ASPECT_LAB_DIR, 'py_temp.sh')\n",
    "py_commands = []\n",
    "\n",
    "for _case in case_list:\n",
    "  case_dir = os.path.join(group_dir, _case)\n",
    "  py_command = \"python -m shilofue.TwoDSubduction0.VtkPp morph_case_parallel -i %s -ti %.2e\\n\" % (case_dir, time_interval)\n",
    "  py_commands.append(py_command)\n",
    "\n",
    "with open(py_temp_file, 'w') as fout:\n",
    "  fout.write(\"#!/bin/bash\\n\")\n",
    "  for py_command in py_commands:\n",
    "    fout.write(py_command)"
   ]
  },
  {
   "cell_type": "markdown",
   "metadata": {},
   "source": [
    "#### Write to a summary file"
   ]
  },
  {
   "cell_type": "code",
   "execution_count": 3,
   "metadata": {},
   "outputs": [
    {
     "name": "stdout",
     "output_type": "stream",
     "text": [
      "write_file_if_update: File already exists /mnt/lochy0/ASPECT_DATA/TwoDSubduction/EBA_CDPT18/case_summary.txt\n"
     ]
    },
    {
     "name": "stderr",
     "output_type": "stream",
     "text": [
      "/home/lochy/ASPECT_PROJECT/aspectLib/shilofue/Group.py:825: RuntimeWarning: divide by zero encountered in true_divide\n",
      "  weight += 1.0 / dist\n",
      "/home/lochy/ASPECT_PROJECT/aspectLib/shilofue/Group.py:826: RuntimeWarning: divide by zero encountered in true_divide\n",
      "  ZZ += Zs[i] / dist\n",
      "/home/lochy/ASPECT_PROJECT/aspectLib/shilofue/Group.py:827: RuntimeWarning: invalid value encountered in true_divide\n",
      "  ZZ /= weight\n"
     ]
    },
    {
     "data": {
      "image/png": "[encoded data removed]",
      "text/plain": [
       "<Figure size 432x288 with 1 Axes>"
      ]
     },
     "metadata": {
      "needs_background": "light"
     },
     "output_type": "display_data"
    }
   ],
   "source": [
    "group_dir = os.path.join(TwoDSubduction_DIR, 'EBA_CDPT18')\n",
    "\n",
    "o_path = os.path.join(TwoDSubduction_DIR, 'EBA_CDPT18', 'case_summary.txt')\n",
    "\n",
    "fig_t660_path = os.path.join(group_dir, 'img', 't660s.png')\n",
    "if not os.path.isdir(os.path.dirname(fig_t660_path)):\n",
    "  os.mkdir(os.path.dirname(fig_t660_path))\n",
    "\n",
    "Case_Summary = CASE_SUMMARY(VISIT_OPTIONS=VISIT_OPTIONS)\n",
    "\n",
    "# Either read an existing summary or import a directory (a group of cases) and create one\n",
    "# if os.path.isfile(o_path):\n",
    "#    Case_Summary.import_txt(o_path)\n",
    "# else:\n",
    "# Case_Summary.import_directory(group_dir, actions=['t660', 'shear_zone'])\n",
    "Case_Summary(group_dir, actions=['t660', 'shear_zone'])\n",
    "\n",
    "# todo_diagram\n",
    "Case_Summary.write_file_if_update(o_path)\n",
    "\n",
    "# plot the t660 diagram\n",
    "Case_Summary.plot_diagram_t660(fig_path=fig_t660_path)"
   ]
  },
  {
   "cell_type": "code",
   "execution_count": 4,
   "metadata": {},
   "outputs": [
    {
     "name": "stderr",
     "output_type": "stream",
     "text": [
      "ERROR:root:No traceback has been produced, nothing to debug.\n"
     ]
    }
   ],
   "source": [
    "%debug"
   ]
  }
 ],
 "metadata": {
  "kernelspec": {
   "display_name": "aspectLib",
   "language": "python",
   "name": "python3"
  },
  "language_info": {
   "codemirror_mode": {
    "name": "ipython",
    "version": 3
   },
   "file_extension": ".py",
   "mimetype": "text/x-python",
   "name": "python",
   "nbconvert_exporter": "python",
   "pygments_lexer": "ipython3",
   "version": "3.7.13"
  },
  "orig_nbformat": 4
 },
 "nbformat": 4,
 "nbformat_minor": 2
}
