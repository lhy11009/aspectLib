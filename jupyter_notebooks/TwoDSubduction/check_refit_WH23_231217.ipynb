{
 "cells": [
  {
   "cell_type": "markdown",
   "metadata": {},
   "source": [
    "### Compute viscosity from json file\n",
    "\n",
    "This cookbook is a calculator of rheology\n",
    "\n",
    "First, we load a rheology from file or a dict\n",
    "\n",
    "Then we pass T, P, strain rate condition and compute the viscosities."
   ]
  },
  {
   "cell_type": "code",
   "execution_count": null,
   "metadata": {},
   "outputs": [],
   "source": [
    "import os\n",
    "import json\n",
    "import os\n",
    "import sys\n",
    "import numpy as np\n",
    "from matplotlib import pyplot as plt\n",
    "\n",
    "# directory to the aspect Lab\n",
    "ASPECT_LAB_DIR = os.environ['ASPECT_LAB_DIR']\n",
    "\n",
    "sys.path.append(os.path.join(ASPECT_LAB_DIR))\n",
    "\n",
    "import shilofue.Rheology as Rheology"
   ]
  },
  {
   "cell_type": "markdown",
   "metadata": {},
   "source": [
    "#### Step 1: Take the original WarrenHansen23 and compute the rheology at the reference state"
   ]
  },
  {
   "cell_type": "code",
   "execution_count": null,
   "metadata": {},
   "outputs": [],
   "source": [
    "# import the _dict directly\n",
    "\n",
    "# version 1\n",
    "\n",
    "WarrenHansen23_disl =\\\n",
    "            {\n",
    "                \"A\": 20,\n",
    "                \"p\": 0.0,\n",
    "                \"r\": 1.2,\n",
    "                \"n\": 3.5,\n",
    "                \"E\": 480e3,\n",
    "                \"V\": 11e-6\n",
    "            }\n",
    "\n",
    "WarrenHansen23_diff = \\\n",
    "            {\n",
    "                \"A\" : 2.9e5,\n",
    "                \"p\" : 3.0,\n",
    "                \"r\" : 1.0,\n",
    "                \"n\" : 1.0,\n",
    "                \"E\" : 335e3,\n",
    "                \"V\" : 4e-6\n",
    "            }\n",
    "\n",
    "Pref = 100.0e6 # Pa\n",
    "Tref = 1250.0 + 273.15 # K\n",
    "stress_ref = 50 # MPa\n",
    "dref = 15.0  # mum\n",
    "Coh_ref = 300.0 # H / 10^6 Si\n",
    "\n",
    "strain_rate_WH23_diff = Rheology.CreepStrainRate(WarrenHansen23_diff, stress_ref, Pref, Tref, dref, Coh_ref)\n",
    "strain_rate_WH23_disl = Rheology.CreepStrainRate(WarrenHansen23_disl, stress_ref, Pref, Tref, dref, Coh_ref)\n",
    "\n",
    "eta_WH23_diff = Rheology.CreepRheology(WarrenHansen23_diff, strain_rate_WH23_diff, Pref, Tref, dref, Coh_ref, use_effective_strain_rate=False)\n",
    "eta_WH23_disl = Rheology.CreepRheology(WarrenHansen23_disl, strain_rate_WH23_disl, Pref, Tref, dref, Coh_ref, use_effective_strain_rate=False)\n",
    "\n",
    "print(\"strain_rate_WH23_diff: \", strain_rate_WH23_diff)\n",
    "print(\"stress_WH23_diff: \", strain_rate_WH23_diff * 2.0 * eta_WH23_diff)\n",
    "print(\"strain_rate_WH23_disl: \", strain_rate_WH23_disl)\n",
    "print(\"stress_WH23_disl: \", strain_rate_WH23_disl * 2.0 * eta_WH23_disl)"
   ]
  },
  {
   "cell_type": "code",
   "execution_count": null,
   "metadata": {},
   "outputs": [],
   "source": [
    "def CreepRheology(creep, strain_rate, P, T, d=1e4, Coh=1e3, **kwargs):\n",
    "    \"\"\"\n",
    "    Calculate viscosity by flow law in form of (strain_rate)**(1.0 / n - 1) * (B)**(-1.0 / n) * np.exp((E + P * V) / (n * R * T))\n",
    "    Previously, there is a typo in the F factor\n",
    "    Units:\n",
    "     - P: Pa\n",
    "     - T: K\n",
    "     - d: mu m\n",
    "     - Coh: H / 10^6 Si\n",
    "     - Return value: Pa*s\n",
    "    Pay attention to pass in the right value, this custom is inherited\n",
    "    \"\"\"\n",
    "\n",
    "    R = 8.314\n",
    "    \n",
    "    A = creep['A']\n",
    "    p = creep['p']\n",
    "    r = creep['r']\n",
    "    n = creep['n']\n",
    "    E = creep['E']\n",
    "    V = creep['V']\n",
    "    # compute value of F(pre factor)\n",
    "    use_effective_strain_rate = kwargs.get('use_effective_strain_rate', False)\n",
    "    f_by_factor = kwargs.get('f_by_factor', False)\n",
    "    if use_effective_strain_rate:\n",
    "        F = 1 / (2**((n-1)/n)*3**((n+1)/2/n)) * 2.0\n",
    "    elif f_by_factor:\n",
    "        F = kwargs['F']\n",
    "    else:\n",
    "        F = 1.0\n",
    "    # calculate B\n",
    "    B = A * d**(-p) * Coh**r\n",
    "    eta = 1/2.0 * F * (strain_rate)**(1.0 / n - 1) * (B)**(-1.0 / n) * np.exp((E + P * V) / (n * R * T)) * 1e6\n",
    "\n",
    "    return eta"
   ]
  },
  {
   "cell_type": "code",
   "execution_count": null,
   "metadata": {},
   "outputs": [],
   "source": [
    "strain_coeff = 2.0 / (3**0.5)\n",
    "stress_coeff = 3**0.5\n",
    "\n",
    "eta_WH23_diff = CreepRheology(WarrenHansen23_diff, strain_rate_WH23_diff/ strain_coeff, Pref, Tref, dref, Coh_ref, use_effective_strain_rate=True)\n",
    "eta_WH23_disl = CreepRheology(WarrenHansen23_disl, strain_rate_WH23_disl/ strain_coeff, Pref, Tref, dref, Coh_ref, use_effective_strain_rate=True)\n",
    "\n",
    "print(\"strain_rate_WH23_diff: \", strain_rate_WH23_diff)\n",
    "print(\"stress_WH23_diff: \", strain_rate_WH23_diff /strain_coeff * 2.0 * eta_WH23_diff * stress_coeff)\n",
    "print(\"strain_rate_WH23_disl: \", strain_rate_WH23_disl)\n",
    "print(\"stress_WH23_disl: \", strain_rate_WH23_disl /strain_coeff * 2.0 * eta_WH23_disl * stress_coeff)"
   ]
  },
  {
   "cell_type": "code",
   "execution_count": null,
   "metadata": {},
   "outputs": [],
   "source": [
    "eta_WH23_diff = CreepRheology(WarrenHansen23_diff, strain_rate_WH23_diff, Pref, Tref, dref, Coh_ref)\n",
    "eta_WH23_disl = CreepRheology(WarrenHansen23_disl, strain_rate_WH23_disl, Pref, Tref, dref, Coh_ref)\n",
    "\n",
    "print(\"strain_rate_WH23_diff: \", strain_rate_WH23_diff)\n",
    "print(\"stress_WH23_diff: \", strain_rate_WH23_diff * 2.0 * eta_WH23_diff)\n",
    "print(\"strain_rate_WH23_disl: \", strain_rate_WH23_disl)\n",
    "print(\"stress_WH23_disl: \", strain_rate_WH23_disl * 2.0 * eta_WH23_disl)"
   ]
  },
  {
   "cell_type": "markdown",
   "metadata": {},
   "source": [
    "#### Step 2: enter the rheology used in ASPECT"
   ]
  },
  {
   "cell_type": "code",
   "execution_count": null,
   "metadata": {},
   "outputs": [],
   "source": [
    "# _dict = {'diffusion_creep': {'A': 2.5670749211437165e-16, 'd': 0.01, 'n': 1.0, 'm': 3.0, 'E': 335000.0, 'V': 1.9e-06},\n",
    "# 'dislocation_creep': {'A': 1.30864197280044e-15, 'd': 0.01, 'n': 3.5, 'm': 0.0, 'E': 480000.0, 'V': 1.6e-05},\n",
    "# 'diffusion_lm': {'A': 1.227183423149255e-17, 'd': 0.01, 'n': 1.0, 'm': 3.0, 'E': 335000.0, 'V': 3e-06}}\n",
    "\n",
    "_dict = {'diffusion_creep': {'A': 1.2835374605718582e-16, 'd': 0.01, 'n': 1.0, 'm': 3.0, 'E': 335000.0, 'V': 1.9e-06}, \n",
    "'dislocation_creep': {'A': 1.1566870163906657e-16, 'd': 0.01, 'n': 3.5, 'm': 0.0, 'E': 480000.0, 'V': 1.6e-05}, \n",
    "'diffusion_lm': {'A': 3.0679585578731375e-18, 'd': 0.01, 'n': 1.0, 'm': 3.0, 'E': 335000.0, 'V': 3e-06}}\n",
    "\n",
    "diffusion_creep = _dict[\"diffusion_creep\"]\n",
    "dislocation_creep = _dict[\"dislocation_creep\"]"
   ]
  },
  {
   "cell_type": "markdown",
   "metadata": {},
   "source": [
    "#### Step 3: compute the stress at the reference state and compare with the reference value"
   ]
  },
  {
   "cell_type": "code",
   "execution_count": null,
   "metadata": {},
   "outputs": [],
   "source": [
    "strain_coeff = 2.0 / 3**0.5\n",
    "stress_coeff = 3**0.5"
   ]
  },
  {
   "cell_type": "code",
   "execution_count": null,
   "metadata": {},
   "outputs": [],
   "source": [
    "diffusion_creep['d'] = dref / 1e6 # m\n",
    "\n",
    "diffusion_creep_eta = Rheology.CreepRheologyInAspectViscoPlastic(diffusion_creep, strain_rate_WH23_diff / strain_coeff, Pref, Tref)\n",
    "diffusion_creep_stress = diffusion_creep_eta * 2 * strain_rate_WH23_diff / strain_coeff * stress_coeff\n",
    "\n",
    "print(\"diffusion creep viscosity: \", diffusion_creep_eta)\n",
    "print(\"diffusion creep stress: \", diffusion_creep_stress)"
   ]
  },
  {
   "cell_type": "code",
   "execution_count": null,
   "metadata": {},
   "outputs": [],
   "source": [
    "dislocation_creep['d'] = dref / 1e6 # m\n",
    "\n",
    "dislocation_creep_eta = Rheology.CreepRheologyInAspectViscoPlastic(dislocation_creep, strain_rate_WH23_disl/ strain_coeff, Pref, Tref)\n",
    "dislocation_creep_stress = dislocation_creep_eta * 2 * strain_rate_WH23_disl / strain_coeff * stress_coeff\n",
    "\n",
    "\n",
    "print(\"dislocation creep viscosity: \", dislocation_creep_eta)\n",
    "print(\"dislocation creep stress: \", dislocation_creep_stress)"
   ]
  }
 ],
 "metadata": {
  "kernelspec": {
   "display_name": "Python (aspectLib)",
   "language": "python",
   "name": "aspectlib"
  },
  "language_info": {
   "codemirror_mode": {
    "name": "ipython",
    "version": 3
   },
   "file_extension": ".py",
   "mimetype": "text/x-python",
   "name": "python",
   "nbconvert_exporter": "python",
   "pygments_lexer": "ipython3",
   "version": "3.7.13"
  }
 },
 "nbformat": 4,
 "nbformat_minor": 2
}
