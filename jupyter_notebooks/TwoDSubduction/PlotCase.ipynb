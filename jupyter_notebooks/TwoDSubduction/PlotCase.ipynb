{
 "cells": [
  {
   "attachments": {},
   "cell_type": "markdown",
   "metadata": {},
   "source": [
    "## TwoD Cases"
   ]
  },
  {
   "cell_type": "code",
   "execution_count": null,
   "metadata": {},
   "outputs": [],
   "source": [
    "import os, sys\n",
    "import numpy as np\n",
    "from shutil import rmtree, copy\n",
    "from matplotlib import pyplot as plt\n",
    "from matplotlib import gridspec, cm\n",
    "\n",
    "# directory to the aspect Lab\n",
    "ASPECT_LAB_DIR = os.environ['ASPECT_LAB_DIR']\n",
    "RESULT_DIR = os.path.join(ASPECT_LAB_DIR, 'results')\n",
    "\n",
    "sys.path.append(os.path.join(ASPECT_LAB_DIR))\n",
    "\n",
    "import shilofue.TwoDSubduction0.Cases as TwoDCases\n",
    "import shilofue.PlotCase as PlotCase\n",
    "import shilofue.TwoDSubduction0.PlotCase as TwoDPlotCase\n",
    "import shilofue.TwoDSubduction0.VtkPp as TwoDVtkPp\n",
    "import shilofue.PlotDepthAverage as PlotDepthAverage\n",
    "from shilofue.PlotCombine import PlotCombineExecute, PlotCombineFigures\n",
    "from shilofue.TwoDSubduction0.PlotVisit import PREPARE_RESULT_OPTIONS"
   ]
  },
  {
   "attachments": {},
   "cell_type": "markdown",
   "metadata": {},
   "source": [
    "#### System path\n",
    "\n",
    "The path to the project directory\n",
    "\n",
    "    local_TwoDSubduction_dir\n",
    "\n",
    "The path to the project directory on server\n",
    "\n",
    "    remote_TwoDSubduction_dir"
   ]
  },
  {
   "cell_type": "code",
   "execution_count": null,
   "metadata": {},
   "outputs": [],
   "source": [
    "local_TwoDSubduction_dir = \"/mnt/lochy0/ASPECT_DATA/TwoDSubduction\"\n",
    "remote_TwoDSubduction_dir = \"peloton:/group/billengrp-mpi-io/lochy/TwoDSubduction\"\n",
    "\n",
    "assert(os.path.isdir(local_TwoDSubduction_dir))"
   ]
  },
  {
   "attachments": {},
   "cell_type": "markdown",
   "metadata": {},
   "source": [
    "#### case name\n",
    "\n",
    "case name (relative path to local_TwoDSubduction_dir)\n",
    "\n",
    "    case_name"
   ]
  },
  {
   "cell_type": "code",
   "execution_count": null,
   "metadata": {},
   "outputs": [],
   "source": [
    "# case_name = \"EBA_CDPT14/eba_cdpt_SA80.0_OA40.0_gr9_Coh500.0\"\n",
    "# case_name = \"EBA_CDPT14/eba_cdpt_SA80.0_OA40.0_gr9_Coh300.0\"\n",
    "# case_name = \"EBA_CDPT14/eba_cdpt_SA80.0_OA40.0_gr9_Coh100.0\"\n",
    "# case_name = \"EBA_CDPT15/eba_cdpt_SA80.0_OA40.0_gr9_Coh500.0\"\n",
    "# case_name = \"EBA_CDPT15/eba_cdpt_nopc_SA80.0_OA40.0_gr9_Coh500.0\"\n",
    "# case_name = \"EBA_CDPT15/eba_cdpt_nopc_SA80.0_OA40.0_gr9_Coh300.0\"\n",
    "# case_name = \"EBA_CDPT15/eba_cdpt_nopc_SA80.0_OA40.0_gr9_Coh100.0\"\n",
    "# case_name = \"EBA_CDPT_10/eba_cdpt_SA80.0_OA40.0_gr10_new\"\n",
    "# case_name = \"EBA_CDPT15/eba_cdpt_nopc_SA80.0_OA40.0_gr9_Coh300.0_yd500\"\n",
    "\n",
    "# case_name = \"EBA_CDPT16/eba_cdpt_coh300_SA80.0_OA40.0_cd100.0_cd7.5_gr9_yd500\"\n",
    "# case_name = \"EBA_CDPT16/eba_cdpt_coh300_SA80.0_OA40.0_cd100.0_cd7.5_gr9\"\n",
    "# case_name = \"EBA_CDPT16/eba_cdpt_coh300_SA80.0_OA40.0_cd100.0_cd7.5_gr9_yd500_min_peierls\"\n",
    "# case_name = \"EBA_CDPT16/eba_cdpt_coh300_SA80.0_OA40.0_cd100.0_cd7.5_gr9_yd500_new_peierls\"\n",
    "# case_name = \"EBA_CDPT16/eba_cdpt_coh300_SA80.0_OA40.0_cd100.0_cd7.5_gr9_yd500_new_peierls_reset_corner\"\n",
    "# case_name = \"EBA_CDPT16/eba_cdpt_coh300_SA80.0_OA40.0_cd100.0_cd7.5_gr9_yd500_new_peierls_reset_corner_T_density\"\n",
    "# case_name = \"EBA_CDPT16/eba_cdpt_coh300_SA80.0_OA40.0_cd100.0_cd7.5_gr9_yd500_new_peierls_reset_corner_T_density_WH23_1\"\n",
    "# case_name = \"EBA_CDPT16/eba_cdpt_coh300_SA80.0_OA40.0_cd100.0_cd7.5_gr9_yd500_new_peierls_reset_corner_T_density_WH23_1_f0.2\"\n",
    "# case_name = \"EBA_CDPT16/eba_cdpt_coh300_SA80.0_OA40.0_cd100.0_cd7.5_gr9_yd500_new_peierls_reset_corner_T_density_WH23_1_rebase\"\n",
    "# case_name = \"EBA_CDPT16/eba_cdpt_coh300_SA80.0_OA40.0_cd100.0_cd7.5_gr9_yd500_new_peierls_reset_corner_T_density_WH23_2\"\n",
    "# case_name = \"EBA_CDPT17/eba_cdpt_SA80.0_OA40.0\"\n",
    "# case_name = \"EBA_CDPT17/EBA_CDPT_test_perplex\"\n",
    "# case_name = \"EBA_CDPT17/EBA_CDPT_test_perplex_mixing_iso_stress\"\n",
    "# case_name = \"EBA_CDPT17/EBA_CDPT_test_perplex_mixing_log\"\n",
    "# case_name = \"EBA_CDPT17/EBA_CDPT_test_perplex_mixing_iso_strain\"\n",
    "# case_name = \"EBA_CDPT17/EBA_CDPT_test_perplex_mixing_iso_stress_gr10\"\n",
    "# case_name = \"EBA_CDPT18/eba_cdpt_coh500_SA80.0_OA40.0_cd50.0_cd5.0_gr9\"\n",
    "# case_name = \"EBA_CDPT18/eba_cdpt_coh500_SA80.0_OA40.0_cd50.0_cd7.5_gr9\"\n",
    "# case_name = \"EBA_CDPT18/eba_cdpt_coh500_SA80.0_OA40.0_cd50.0_cd15.0_gr9\"\n",
    "# case_name = \"EBA_CDPT18/eba_cdpt_coh500_SA80.0_OA40.0_cd50.0_cd20.0_gr9\"\n",
    "# case_name = \"EBA_CDPT18/eba_cdpt_coh500_SA80.0_OA40.0_cd100.0_cd5.0_gr9\"\n",
    "# case_name = \"EBA_CDPT18/eba_cdpt_coh500_SA80.0_OA40.0_cd100.0_cd7.5_gr9\"\n",
    "# case_name = \"EBA_CDPT18/eba_cdpt_coh500_SA80.0_OA40.0_cd100.0_cd15.0_gr9\"\n",
    "# case_name = \"EBA_CDPT18/eba_cdpt_coh500_SA80.0_OA40.0_cd100.0_cd20.0_gr9\"\n",
    "# case_name = \"EBA_CDPT18/eba_cdpt_coh500_SA80.0_OA40.0_cd150.0_cd5.0_gr9\"\n",
    "# case_name = \"EBA_CDPT18/eba_cdpt_coh500_SA80.0_OA40.0_cd150.0_cd7.5_gr9\"\n",
    "# case_name = \"EBA_CDPT18/eba_cdpt_coh500_SA80.0_OA40.0_cd150.0_cd15.0_gr9\"\n",
    "# case_name = \"EBA_CDPT18/eba_cdpt_coh500_SA80.0_OA40.0_cd150.0_cd20.0_gr9\"\n",
    "# case_name = \"EBA_CDPT18/eba_cdpt_coh500_SA80.0_OA40.0_cd200.0_cd5.0_gr9\"\n",
    "# case_name = \"EBA_CDPT18/eba_cdpt_coh500_SA80.0_OA40.0_cd200.0_cd7.5_gr9\"\n",
    "# case_name = \"EBA_CDPT18/eba_cdpt_coh500_SA80.0_OA40.0_cd200.0_cd15.0_gr9\"\n",
    "# case_name = \"EBA_CDPT18/eba_cdpt_coh500_SA80.0_OA40.0_cd200.0_cd20.0_gr9\"\n",
    "case_name = \"EBA_CDPT18/eba_cdpt_coh500_SA80.0_OA40.0_cd100.0_cd7.5_gr10\"\n",
    "# case_name = \"EBA_CDPT18/eba_cdpt_coh500_SA80.0_OA40.0_cd100.0_cd7.5_gr11\"\n",
    "# case_name = \"EBA_CDPT18/eba_cdpt_coh500_SA80.0_OA40.0_cd100.0_cd7.5_gr9_n2_ref1e-13\"\n",
    "# case_name = \"EBA_CDPT18/eba_cdpt_coh500_SA80.0_OA40.0_cd100.0_cd7.5_gr9_n2_ref1e-13_2\"\n",
    "# case_name = \"EBA_CDPT18/eba_cdpt_coh500_SA80.0_OA40.0_cd100.0_cd7.5_gr9_n2_ref4e-13\"\n",
    "# case_name = \"EBA_CDPT18/eba_cdpt_coh500_SA80.0_OA40.0_cd100.0_cd7.5_gr9_n30_ref1e-13\"\n",
    "# case_name = \"EBA_CDPT18/eba_cdpt_coh500_SA80.0_OA40.0_cd100.0_cd7.5_gr9_yd100\"\n",
    "# case_name = \"EBA_CDPT18/eba_cdpt_coh500_SA80.0_OA40.0_cd100.0_cd7.5_gr9_yd300\"\n",
    "# case_name = \"EBA_CDPT18/eba_cdpt_coh500_SA80.0_OA40.0_cd100.0_cd7.5_gr9_yd300_c1e22\"\n",
    "# case_name = \"EBA_CDPT19/eba_cdpt_coh500_SA80.0_OA40.0_cd60.0_cd7.5_gr9\"\n",
    "# case_name = \"EBA_CDPT19/eba_cdpt_coh500_SA80.0_OA40.0_cd70.0_cd7.5_gr9\"\n",
    "# case_name = \"EBA_CDPT19/eba_cdpt_coh500_SA80.0_OA40.0_cd80.0_cd7.5_gr9\"\n",
    "# case_name = \"EBA_CDPT19/eba_cdpt_coh500_SA80.0_OA40.0_cd90.0_cd7.5_gr9\"\n",
    "# case_name = \"EBA_CDPT_3dconsistent_9/eba_cdpt_coh300_SA80.0_OA40.0_width51_sc22\"\n",
    "# case_name = \"EBA_CDPT_3dconsistent_9/eba_cdpt_coh300_SA80.0_OA40.0_width61_sc22\"\n",
    "# case_name = \"EBA_CDPT_3dconsistent_9/eba_cdpt_coh300_SA80.0_OA40.0_width61_sc22_hr\"\n",
    "\n",
    "local_dir = os.path.join(local_TwoDSubduction_dir, case_name)\n",
    "remote_dir = os.path.join(remote_TwoDSubduction_dir, case_name)"
   ]
  },
  {
   "attachments": {},
   "cell_type": "markdown",
   "metadata": {},
   "source": [
    "#### rsync command\n",
    "\n",
    "Print the rsync command which could run in a terminal"
   ]
  },
  {
   "cell_type": "code",
   "execution_count": null,
   "metadata": {},
   "outputs": [],
   "source": [
    "rsync_exec = \"rsync\"\n",
    "rsync_option = \"-auv --progress\"\n",
    "exclude_option = \"--exclude=*restart*\"\n",
    "local_path = os.path.join(local_TwoDSubduction_dir, os.path.dirname(case_name)) + \"/\"\n",
    "remote_path = remote_dir\n",
    "paths = remote_path + \" \" + local_path\n",
    "\n",
    "rsync_command = \"%s %s %s %s %s\" % (rsync_exec, rsync_option, exclude_option, remote_path, local_path)\n",
    "\n",
    "print(\"open a terminal and run rsync command:\\n\", rsync_command) "
   ]
  },
  {
   "attachments": {},
   "cell_type": "markdown",
   "metadata": {},
   "source": [
    "#### Plot Linear results and prepare the scripts for visualization\n",
    "\n",
    "The next block will generate plots of run time, solver, statistics, etc.\n",
    "It will also compose a script to run in paraview / visit.\n",
    "\n",
    "It would be prefered to first run the next block for slab morphology, analyze the result and fix the steps to visualize in this block.\n",
    "\n",
    "The max_velocity is useful for rescaling the color for the velocity. To pick up a reasonable value, first view the range from outputs with\n",
    "max_velocity equals -1.0.\n",
    "The unit to use is m / yr.\n"
   ]
  },
  {
   "cell_type": "code",
   "execution_count": null,
   "metadata": {},
   "outputs": [],
   "source": [
    "# turn on plot_axis if I want to save a complete result\n",
    "# turn off if I want to prepare for figures in a paper\n",
    "plot_axis = True\n",
    "step = [0, 70, 150]\n",
    "max_velocity = -1.0  # rescale the color for velocity\n",
    "\n",
    "# types of plot to include\n",
    "plot_types = [\"upper_mantle\", \"whole\", \"whole_whole\"]\n",
    "\n",
    "PlotCase.PlotCaseRun(local_dir, time_range=None, run_visual=False,\\\n",
    "        time_interval=None, visualization=\"paraview\", step=step, plot_axis=plot_axis, max_velocity=max_velocity, plot_types=plot_types)\n",
    "plt.close() # plot won't show up below\n",
    "\n",
    "TwoDPlotCase.PlotCaseRun(local_dir, time_range=None, run_visual=False,\\\n",
    "        time_interval=None, visualization=\"paraview\", step=step, plot_axis=plot_axis, max_velocity=max_velocity, plot_types=plot_types)\n",
    "plt.close() # plot won't show up below"
   ]
  },
  {
   "cell_type": "markdown",
   "metadata": {},
   "source": [
    "#### Plot the horizontal average profile"
   ]
  },
  {
   "cell_type": "code",
   "execution_count": null,
   "metadata": {},
   "outputs": [],
   "source": [
    "# plot_time = 0\n",
    "plot_time = 13e6\n",
    "\n",
    "depth_average_path = os.path.join(local_dir, 'output', 'depth_average.txt')\n",
    "assert(os.path.isfile(depth_average_path))\n",
    "\n",
    "fig_path_base = os.path.join(local_dir, 'img', 'DepthAverage.pdf')\n",
    "PlotDepthAverage.PlotDaFigure(depth_average_path, fig_path_base, time=plot_time)"
   ]
  },
  {
   "attachments": {},
   "cell_type": "markdown",
   "metadata": {},
   "source": [
    "### Visualization, pt 1 : run paraview\n",
    "\n",
    "run the following command with the script generated in the last block:\n",
    "\n",
    "    paraview --script {paraview scripts}\n",
    "\n",
    "or run without gui: \n",
    "\n",
    "    pvpython {paraview scripts}\n",
    "\n",
    "\n",
    "#### adjust camera, run the following in Tools -> Python Script Editor\n",
    "\n",
    "1. Upper mantle view:\n",
    "\n",
    "```\n",
    "\n",
    "# get active view\n",
    "#### import the simple module from the paraview\n",
    "from paraview.simple import *\n",
    "#### disable automatic camera reset on 'Show'\n",
    "paraview.simple._DisableFirstRenderCameraReset()\n",
    "\n",
    "# get active view\n",
    "renderView1 = GetActiveViewOrCreate('RenderView')\n",
    "\n",
    "#-----------------------------------\n",
    "# saving camera placements for views\n",
    "\n",
    "# current camera placement for renderView1\n",
    "renderView1.InteractionMode = '2D'\n",
    "renderView1.CameraPosition = [0.0, 5.6e5, 2.5e7]\n",
    "renderView1.CameraFocalPoint = [0.0, 6e6, 0.0]\n",
    "renderView1.CameraParallelScale = 4.5e5\n",
    "\n",
    "```"
   ]
  },
  {
   "attachments": {},
   "cell_type": "markdown",
   "metadata": {},
   "source": [
    "### Plot Slab Morphology\n",
    "\n",
    "First analyze slab morphology (first cell).\n",
    "Then plot slab morphology (second cell).\n",
    "\n",
    "Interval to analyze.\n",
    "0.5e6 is tested to give the best results in terms of capturing the trending and smearing out minor spikes.\n",
    "\n",
    "    time_interval"
   ]
  },
  {
   "cell_type": "code",
   "execution_count": null,
   "metadata": {},
   "outputs": [],
   "source": [
    "# remove old results\n",
    "old_slab_morph_path = os.path.join(local_dir, \"vtk_outputs\", \"slab_morph.txt\")\n",
    "if os.path.isfile(old_slab_morph_path):\n",
    "    os.remove(old_slab_morph_path)"
   ]
  },
  {
   "cell_type": "code",
   "execution_count": null,
   "metadata": {},
   "outputs": [],
   "source": [
    "# option 1: run it here in series\n",
    "\n",
    "time_interval = 0.5e6\n",
    "\n",
    "TwoDVtkPp.SlabMorphologyCase(local_dir, rewrite=1, findmdd=True, time_interval=time_interval, project_velocity=True, findmdd_tolerance=0.1)"
   ]
  },
  {
   "cell_type": "code",
   "execution_count": null,
   "metadata": {},
   "outputs": [],
   "source": [
    "# option 2: print the command to run and run in parallel in a terminal\n",
    "\n",
    "time_interval = 0.5e6\n",
    "\n",
    "print(\"python command:\")\n",
    "print(\"python -m shilofue.TwoDSubduction0.VtkPp morph_case_parallel -i %s -ti %.4e\" % (local_dir, time_interval))"
   ]
  },
  {
   "cell_type": "code",
   "execution_count": null,
   "metadata": {},
   "outputs": [],
   "source": [
    "SlabPlot = TwoDVtkPp.SLABPLOT('slab')\n",
    "SlabPlot.PlotMorph(local_dir, save_pdf=False)\n",
    "\n",
    "plt.close()"
   ]
  },
  {
   "attachments": {},
   "cell_type": "markdown",
   "metadata": {},
   "source": [
    "### Pick Timesteps\n",
    "\n",
    "Pick in WebPlotDigitizer the time steps of:\n",
    "\n",
    "1. Slab tip reaching 660 ($t_{660}$).\n",
    "2. First peak of trench motion after $t_{660}$ ($t_{p1}$), and trench velocity\n",
    "3. Second peak of trench motion after $t_{660}$ ($t_{p2}$), and trench velocity"
   ]
  },
  {
   "attachments": {},
   "cell_type": "markdown",
   "metadata": {},
   "source": [
    "### Visualization, pt 2 : save plots at these steps\n",
    "\n",
    "Navigate to the paraview_scripts/slab.py file and change the steps."
   ]
  },
  {
   "attachments": {},
   "cell_type": "markdown",
   "metadata": {},
   "source": [
    "### Plot Morphology Extra : Compare Morphology\n",
    "\n",
    "Compare the slab morphology from multiple cases."
   ]
  },
  {
   "cell_type": "code",
   "execution_count": null,
   "metadata": {},
   "outputs": [],
   "source": [
    "# case_name0 = \"EBA_CDPT_10/eba_cdpt_SA80.0_OA40.0_gr10_new\"\n",
    "# case_name = \"EBA_CDPT15/eba_cdpt_nopc_SA80.0_OA40.0_gr9_Coh500.0\"\n",
    "#  case_name1 = \"EBA_CDPT15/eba_cdpt_nopc_SA80.0_OA40.0_gr9_Coh300.0\"\n",
    "# case_name2 = \"EBA_CDPT15/eba_cdpt_nopc_SA80.0_OA40.0_gr9_Coh100.0\"\n",
    "\n",
    "# case_name = \"EBA_CDPT15/eba_cdpt_nopc_SA80.0_OA40.0_gr9_Coh300.0\"\n",
    "\n",
    "\n",
    "# case_name0 = \"EBA_CDPT15/eba_cdpt_nopc_SA80.0_OA40.0_gr9_Coh300.0_yd500\"\n",
    "# case_name = \"EBA_CDPT16/eba_cdpt_coh300_SA80.0_OA40.0_cd100.0_cd7.5_gr9_yd500\"\n",
    "# case_name1 = \"EBA_CDPT16/eba_cdpt_coh300_SA80.0_OA40.0_cd100.0_cd7.5_gr9_yd500_min_peierls\"\n",
    "case_name2 = \"EBA_CDPT16/eba_cdpt_coh300_SA80.0_OA40.0_cd100.0_cd7.5_gr9_yd500_new_peierls\"\n",
    "case_name3 = \"EBA_CDPT16/eba_cdpt_coh300_SA80.0_OA40.0_cd100.0_cd7.5_gr9_yd500_new_peierls_reset_corner\"\n",
    "case_name4 = \"EBA_CDPT16/eba_cdpt_coh300_SA80.0_OA40.0_cd100.0_cd7.5_gr9_yd500_new_peierls_reset_corner_T_density\"\n",
    "case_name5 = \"EBA_CDPT16/eba_cdpt_coh300_SA80.0_OA40.0_cd100.0_cd7.5_gr9_yd500_new_peierls_reset_corner_T_density_WH23_1\"\n",
    "case_name6 = \"EBA_CDPT16/eba_cdpt_coh300_SA80.0_OA40.0_cd100.0_cd7.5_gr9_yd500_new_peierls_reset_corner_T_density_WH23_1_f0.2\"\n",
    "case_name7 = \"EBA_CDPT16/eba_cdpt_coh300_SA80.0_OA40.0_cd100.0_cd7.5_gr9_yd500_new_peierls_reset_corner_T_density_WH23_1_rebase\"\n",
    "case_name8 = \"EBA_CDPT16/eba_cdpt_coh300_SA80.0_OA40.0_cd100.0_cd7.5_gr9_yd500_new_peierls_reset_corner_T_density_WH23_2\"\n",
    "case_name9 = \"EBA_CDPT17/eba_cdpt_SA80.0_OA40.0\"\n",
    "case_name9_1 = \"EBA_CDPT17/EBA_CDPT_test_perplex\"\n",
    "case_name9_2 = \"EBA_CDPT17/EBA_CDPT_test_perplex_mixing_iso_stress\"\n",
    "case_name9_2_gr10 = \"EBA_CDPT17/EBA_CDPT_test_perplex_mixing_iso_stress_gr10\"\n",
    "case_name9_3 = \"EBA_CDPT17/EBA_CDPT_test_perplex_mixing_log\"\n",
    "case_name9_4 = \"EBA_CDPT17/EBA_CDPT_test_perplex_mixing_iso_strain\"\n",
    "case_name10 = \"EBA_CDPT18/eba_cdpt_coh500_SA80.0_OA40.0_cd100.0_cd7.5_gr9\"\n",
    "case_name10_gr10 = \"EBA_CDPT18/eba_cdpt_coh500_SA80.0_OA40.0_cd100.0_cd7.5_gr10\"\n",
    "case_name10_gr11 = \"EBA_CDPT18/eba_cdpt_coh500_SA80.0_OA40.0_cd100.0_cd7.5_gr11\"\n",
    "case_name11 = \"EBA_CDPT18/eba_cdpt_coh500_SA80.0_OA40.0_cd100.0_cd7.5_gr9_n2_ref1e-13\"\n",
    "case_name11_2 = \"EBA_CDPT18/eba_cdpt_coh500_SA80.0_OA40.0_cd100.0_cd7.5_gr9_n2_ref1e-13_2\"\n",
    "case_name12 = \"EBA_CDPT18/eba_cdpt_coh500_SA80.0_OA40.0_cd100.0_cd7.5_gr9_n2_ref4e-13\"\n",
    "case_name13 = \"EBA_CDPT18/eba_cdpt_coh500_SA80.0_OA40.0_cd100.0_cd7.5_gr9_n30_ref1e-13\"\n",
    "case_name14 = \"EBA_CDPT18/eba_cdpt_coh500_SA80.0_OA40.0_cd100.0_cd5.0_gr9\"\n",
    "case_name15 = \"EBA_CDPT18/eba_cdpt_coh500_SA80.0_OA40.0_cd100.0_cd20.0_gr9\"\n",
    "case_name16 = \"EBA_CDPT18/eba_cdpt_coh500_SA80.0_OA40.0_cd100.0_cd15.0_gr9\"\n",
    "case_name17_0 = \"EBA_CDPT_3dconsistent_9/eba_cdpt_coh300_SA80.0_OA40.0_width51_sc22\"\n",
    "case_name17 = \"EBA_CDPT_3dconsistent_9/eba_cdpt_coh300_SA80.0_OA40.0_width61_sc22\"\n",
    "case_name17_1 = \"EBA_CDPT_3dconsistent_9/eba_cdpt_coh300_SA80.0_OA40.0_width80_sc22\"\n",
    "case_name17_2 = \"EBA_CDPT_3dconsistent_9/eba_cdpt_coh300_SA80.0_OA40.0_width140_sc22\"\n",
    "case_name17_hr = \"EBA_CDPT_3dconsistent_9/eba_cdpt_coh300_SA80.0_OA40.0_width61_sc22_hr\"\n",
    "\n",
    "json_option =\\\n",
    "{\n",
    "    \"_comment\" : \"This is configuration for combining results of time run (time, step, dofs ...)\",\n",
    "    \"case_root\": local_TwoDSubduction_dir,\n",
    "    \"cases\": [case_name17_0, case_name17, case_name17_1, case_name17_2],\n",
    "    # [case_name10, case_name10_gr10, case_name10_gr11],\n",
    "    # [case_name9_1, case_name9_2, case_name9_3, case_name9_4],\n",
    "    # case_name11, case_name11_2] # different implementation of strain rate dependence\n",
    "    # [case_name10, case_name10_gr10, case_name10_gr11] # resolution test\n",
    "    # [case_name14, case_name10, case_name16, case_name15] # cutoff 100 km, different thickness\n",
    "    \"output directory\": {\n",
    "        \"relative\": 1,\n",
    "        \"path\": \"plot_combine\"\n",
    "    },\n",
    "    \"width\": -1.0,\n",
    "    \"time range\": [0.0, 60e6],\n",
    "    \"trench position range\": [-2000e3, 2000e3],\n",
    "    \"slab depth range\": [0e3, 2900e3]\n",
    "}\n",
    "\n",
    "# print(\"json_option: \", json_option) # debug\n",
    "PlotCombineExecute(TwoDVtkPp.PLOT_COMBINE_SLAB_MORPH, TwoDVtkPp.PC_MORPH_OPT, \"slab_morph\", json_option, save_pdf=True)"
   ]
  },
  {
   "attachments": {},
   "cell_type": "markdown",
   "metadata": {},
   "source": [
    "### Compare between case outputs"
   ]
  },
  {
   "cell_type": "code",
   "execution_count": null,
   "metadata": {},
   "outputs": [],
   "source": [
    "# case_name0 = \"EBA_CDPT_10/eba_cdpt_SA80.0_OA40.0_gr10_new\"\n",
    "# case_name = \"EBA_CDPT14/eba_cdpt_SA80.0_OA40.0_gr9_Coh500.0\"\n",
    "# case_name1 = \"EBA_CDPT14/eba_cdpt_SA80.0_OA40.0_gr9_Coh300.0\"\n",
    "# case_name2 = \"EBA_CDPT14/eba_cdpt_SA80.0_OA40.0_gr9_Coh100.0\"\n",
    "\n",
    "# case_name = \"EBA_CDPT15/eba_cdpt_nopc_SA80.0_OA40.0_gr9_Coh300.0\"\n",
    "# case_name1 = \"EBA_CDPT15/eba_cdpt_nopc_SA80.0_OA40.0_gr9_Coh300.0_yd500\"\n",
    "\n",
    "case_name = \"EBA_CDPT16/eba_cdpt_coh300_SA80.0_OA40.0_cd100.0_cd7.5_gr9_yd500\"\n",
    "case_name1 = \"EBA_CDPT16/eba_cdpt_coh300_SA80.0_OA40.0_cd100.0_cd7.5_gr9_yd500_min_peierls\"\n",
    "case_name2 = \"EBA_CDPT16/eba_cdpt_coh300_SA80.0_OA40.0_cd100.0_cd7.5_gr9_yd500_new_peierls\"\n",
    "case_name3 = \"EBA_CDPT16/eba_cdpt_coh300_SA80.0_OA40.0_cd100.0_cd7.5_gr9_yd500_new_peierls_reset_corner\"\n",
    "case_name4 = \"EBA_CDPT16/eba_cdpt_coh300_SA80.0_OA40.0_cd100.0_cd7.5_gr9_yd500_new_peierls_reset_corner_T_density\"\n",
    "case_name7 = \"EBA_CDPT16/eba_cdpt_coh300_SA80.0_OA40.0_cd100.0_cd7.5_gr9_yd500_new_peierls_reset_corner_T_density_WH23_1_rebase\"\n",
    "case_name9 = \"EBA_CDPT17/eba_cdpt_SA80.0_OA40.0\"\n",
    "\n",
    "json_option = \\\n",
    "{\n",
    "\t\"case_root\": \"${TwoDSubduction_DIR}\",\n",
    "    \"Name\": \"combine_figure\",\n",
    "\t\"cases\": [\n",
    "        case_name7,\n",
    "        case_name9,\n",
    "    ],\n",
    "\t\"plots\": [\n",
    "        [\"pv_outputs/viscosity_t7.0000e+06.png\", \"pv_outputs/viscosity_t1.0000e+07.png\"],\n",
    "        [\"pv_outputs/viscosity_t7.0000e+06.png\", \"pv_outputs/viscosity_t1.0000e+07.png\"],\n",
    "    ],\n",
    "    \"anchor\": 0,\n",
    "\t\"same_for_all\" : 0,\n",
    "    \"output directory\": \"${TwoDSubduction_DIR}/EBA_CDPT17\",\n",
    "    \"Include title\": 1,\n",
    "    \"Title\": {\n",
    "        \"Title\": \"Comparison of the reference case with cases with weaker rheology.\"\n",
    "    }\n",
    "}\n",
    "\n",
    "PlotCombineFigures(json_option)"
   ]
  },
  {
   "cell_type": "markdown",
   "metadata": {},
   "source": [
    "#### Make animation\n",
    "\n",
    "First generate the script for visualizations.\n",
    "The time interval of visualizations for animation could be set through\n",
    "\n",
    "    time_interval = 0.5e6"
   ]
  },
  {
   "cell_type": "code",
   "execution_count": null,
   "metadata": {},
   "outputs": [],
   "source": [
    "# turn on plot_axis if I want to save a complete result\n",
    "# turn off if I want to prepare for figures in a paper\n",
    "plot_axis = True\n",
    "time_interval = 0.5e6\n",
    "max_velocity = -1.0  # rescale the color for velocity\n",
    "\n",
    "TwoDPlotCase.PlotCaseRun(local_dir, time_range=None, run_visual=False,\\\n",
    "        time_interval=time_interval, visualization=\"paraview\", step=None, plot_axis=plot_axis, max_velocity=-1.0)\n",
    "plt.close() # plot won't show up below\n",
    "\n",
    "# replot the results of the morphology\n",
    "TwoDVtkPp.PlotMorphAnimeCombined(local_dir, time_interval=time_interval)\n",
    "plt.close()"
   ]
  },
  {
   "cell_type": "markdown",
   "metadata": {},
   "source": [
    "Then run scripts with\n",
    "\n",
    "    pvpython slab.py\n",
    "\n",
    "Note this will generate the visualizations for all the steps"
   ]
  },
  {
   "cell_type": "markdown",
   "metadata": {},
   "source": [
    "Next, make the animation.\n",
    "\n",
    "Assign the duration for each frame:\n",
    "\n",
    "    duration = 0.2\n",
    "\n",
    "By default, we remove the previous results and generate new results\n",
    "\n",
    "    remove_old_results = True\n",
    "\n",
    "Two default files are imbeded with operations for chunk and box geometry.\n",
    "These operations will be performed on each figure to make the final animation."
   ]
  },
  {
   "cell_type": "code",
   "execution_count": null,
   "metadata": {},
   "outputs": [],
   "source": [
    "# this two are the json files for the order of options to do in imageio\n",
    "# following the options defined in this two files, the results would be a combination of result for\n",
    "# one single computation step.\n",
    "time_interval = 0.5e6\n",
    "duration = 0.2 # time for each frame\n",
    "remove_old_results = True\n",
    "\n",
    "default_chunk = os.path.join(ASPECT_LAB_DIR, \"files\", \"TwoDSubduction\", \"figure_step_template_chunk_01152024.json\")\n",
    "default_box = os.path.join(ASPECT_LAB_DIR, \"files\", \"TwoDSubduction\", \"figure_step_template_box.json\")\n",
    "\n",
    "# remove old results\n",
    "if remove_old_results:\n",
    "    temp_dir = os.path.join(local_dir, \"img\", \"pv_outputs\", \"temp\")\n",
    "    if os.path.isdir(temp_dir):\n",
    "        rmtree(temp_dir)\n",
    "    ani_dir = os.path.join(local_dir, \"img\", \"animation\")\n",
    "    if os.path.isdir(ani_dir):\n",
    "        rmtree(ani_dir)\n",
    "\n",
    "pr_script = TwoDPlotCase.PrScriptToUse(local_dir, default_chunk, default_box)\n",
    "Plotter = TwoDPlotCase.PLOTTER(PREPARE_RESULT_OPTIONS, [TwoDPlotCase.PlotCaseRun]) # note we don't want to replot things here\n",
    "PlotCase.AnimateCaseResults(Plotter.PlotPrepareResultStep, local_dir, pr_script, time_interval=time_interval, duration=duration)"
   ]
  },
  {
   "cell_type": "code",
   "execution_count": null,
   "metadata": {},
   "outputs": [],
   "source": [
    "a = np.array([1, 2, 3])\n",
    "b = np.array([2, 3, 4])\n",
    "c = np.array([0, 4, 5])\n",
    "\n",
    "ab = np.array([a, b, c])\n",
    "print(np.argmin(ab, axis=0))"
   ]
  }
 ],
 "metadata": {
  "kernelspec": {
   "display_name": "Python (aspectLib)",
   "language": "python",
   "name": "aspectlib"
  },
  "language_info": {
   "codemirror_mode": {
    "name": "ipython",
    "version": 3
   },
   "file_extension": ".py",
   "mimetype": "text/x-python",
   "name": "python",
   "nbconvert_exporter": "python",
   "pygments_lexer": "ipython3",
   "version": "3.7.13"
  },
  "orig_nbformat": 4
 },
 "nbformat": 4,
 "nbformat_minor": 2
}
