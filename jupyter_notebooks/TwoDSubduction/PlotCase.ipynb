{
 "cells": [
  {
   "cell_type": "markdown",
   "metadata": {},
   "source": [
    "## TwoD Cases"
   ]
  },
  {
   "cell_type": "code",
   "execution_count": null,
   "metadata": {
    "vscode": {
     "languageId": "python"
    }
   },
   "outputs": [],
   "source": [
    "import os, sys\n",
    "import numpy as np\n",
    "from shutil import rmtree, copy\n",
    "from matplotlib import pyplot as plt\n",
    "from matplotlib import gridspec, cm\n",
    "\n",
    "# directory to the aspect Lab\n",
    "ASPECT_LAB_DIR = os.environ['ASPECT_LAB_DIR']\n",
    "RESULT_DIR = os.path.join(ASPECT_LAB_DIR, 'results')\n",
    "\n",
    "sys.path.append(os.path.join(ASPECT_LAB_DIR))\n",
    "\n",
    "import shilofue.TwoDSubduction0.Cases as TwoDCases\n",
    "import shilofue.PlotCase as PlotCase\n",
    "import shilofue.TwoDSubduction0.PlotCase as TwoDPlotCase\n",
    "import shilofue.TwoDSubduction0.VtkPp as TwoDVtkPp\n",
    "import shilofue.PlotDepthAverage as PlotDepthAverage\n",
    "from shilofue.PlotCombine import PlotCombineExecute, PlotCombineFigures"
   ]
  },
  {
   "cell_type": "markdown",
   "metadata": {},
   "source": [
    "#### System path\n",
    "\n",
    "The path to the project directory\n",
    "\n",
    "    local_TwoDSubduction_dir\n",
    "\n",
    "The path to the project directory on server\n",
    "\n",
    "    remote_TwoDSubduction_dir"
   ]
  },
  {
   "cell_type": "code",
   "execution_count": null,
   "metadata": {
    "vscode": {
     "languageId": "python"
    }
   },
   "outputs": [],
   "source": [
    "local_TwoDSubduction_dir = \"/mnt/lochy0/ASPECT_DATA/TwoDSubduction\"\n",
    "remote_TwoDSubduction_dir = \"peloton:/group/billengrp-mpi-io/lochy/TwoDSubduction\"\n",
    "\n",
    "assert(os.path.isdir(local_TwoDSubduction_dir))"
   ]
  },
  {
   "cell_type": "markdown",
   "metadata": {},
   "source": [
    "#### case name\n",
    "\n",
    "case name (relative path to local_TwoDSubduction_dir)\n",
    "\n",
    "    case_name"
   ]
  },
  {
   "cell_type": "code",
   "execution_count": null,
   "metadata": {
    "vscode": {
     "languageId": "python"
    }
   },
   "outputs": [],
   "source": [
    "case_name = \"EBA_CDPT_10/eba_cdpt_SA80.0_OA40.0_gr10_new\"\n",
    "local_dir = os.path.join(local_TwoDSubduction_dir, case_name)\n",
    "remote_dir = os.path.join(remote_TwoDSubduction_dir, case_name)"
   ]
  },
  {
   "cell_type": "markdown",
   "metadata": {},
   "source": [
    "#### rsync command\n",
    "\n",
    "Print the rsync command which could run in a terminal"
   ]
  },
  {
   "cell_type": "code",
   "execution_count": null,
   "metadata": {
    "vscode": {
     "languageId": "python"
    }
   },
   "outputs": [],
   "source": [
    "rsync_exec = \"rsync\"\n",
    "rsync_option = \"-auv --progress\"\n",
    "exclude_option = \"--exclude=*restart*\"\n",
    "local_path = os.path.join(local_TwoDSubduction_dir, os.path.dirname(case_name)) + \"/\"\n",
    "remote_path = remote_dir\n",
    "paths = remote_path + \" \" + local_path\n",
    "\n",
    "rsync_command = \"%s %s %s %s %s\" % (rsync_exec, rsync_option, exclude_option, remote_path, local_path)\n",
    "\n",
    "print(\"open a terminal and run rsync command:\\n\", rsync_command) "
   ]
  },
  {
   "cell_type": "markdown",
   "metadata": {},
   "source": [
    "#### Plot Linear results and prepare the scripts for visualization\n",
    "\n",
    "The next block will generate plots of run time, solver, statistics, etc.\n",
    "It will also compose a script to run in paraview / visit.\n",
    "\n",
    "It would be prefered to first run the next block for slab morphology, analyze the result and fix the steps to visualize in this block.\n",
    "\n",
    "The max_velocity is useful for rescaling the color for the velocity. To pick up a reasonable value, first view the range from outputs with\n",
    "max_velocity equals -1.0.\n",
    "The unit to use is m / yr.\n"
   ]
  },
  {
   "cell_type": "code",
   "execution_count": null,
   "metadata": {
    "vscode": {
     "languageId": "python"
    }
   },
   "outputs": [],
   "source": [
    "# turn on plot_axis if I want to save a complete result\n",
    "# turn off if I want to prepare for figures in a paper\n",
    "plot_axis = True\n",
    "step = [0, 100]\n",
    "max_velocity = -1.0  # rescale the color for velocity\n",
    "# visual_type = \"paraview\"\n",
    "visual_type = \"pygmt\"\n",
    "\n",
    "PlotCase.PlotCaseRun(local_dir, time_range=None, run_visual=False,\\\n",
    "        time_interval=None, step=step)\n",
    "plt.close() # plot won't show up below\n",
    "\n",
    "TwoDPlotCase.PlotCaseRun(local_dir, time_range=None, run_visual=False,\\\n",
    "        time_interval=None, visualization=visual_type, step=step, plot_axis=plot_axis, max_velocity=max_velocity)\n",
    "plt.close() # plot won't show up below"
   ]
  },
  {
   "cell_type": "markdown",
   "metadata": {},
   "source": [
    "#### Plot the horizontal average profile\n",
    "\n",
    "A time t (in yr) is assigned to plot horizontal average at that time."
   ]
  },
  {
   "cell_type": "code",
   "execution_count": null,
   "metadata": {
    "vscode": {
     "languageId": "python"
    }
   },
   "outputs": [],
   "source": [
    "plot_time = 0\n",
    "\n",
    "depth_average_path = os.path.join(local_dir, 'output', 'depth_average.txt')\n",
    "assert(os.path.isfile(depth_average_path))\n",
    "\n",
    "fig_path_base = os.path.join(local_dir, 'img', 'DepthAverage.png')\n",
    "PlotDepthAverage.PlotDaFigure(depth_average_path, fig_path_base, time=plot_time)"
   ]
  },
  {
   "cell_type": "markdown",
   "metadata": {},
   "source": [
    "### Visualization, pt 1 : run paraview\n",
    "\n",
    "run the following command with the script generated in the last block:\n",
    "\n",
    "    paraview --script {paraview scripts}\n",
    "\n",
    "or run without gui: \n",
    "\n",
    "    pvpython {paraview scripts}\n",
    "\n",
    "\n",
    "#### adjust camera, run the following in Tools -> Python Script Editor\n",
    "\n",
    "1. Upper mantle view:\n",
    "\n",
    "```\n",
    "\n",
    "# get active view\n",
    "#### import the simple module from the paraview\n",
    "from paraview.simple import *\n",
    "#### disable automatic camera reset on 'Show'\n",
    "paraview.simple._DisableFirstRenderCameraReset()\n",
    "\n",
    "# get active view\n",
    "renderView1 = GetActiveViewOrCreate('RenderView')\n",
    "\n",
    "#-----------------------------------\n",
    "# saving camera placements for views\n",
    "\n",
    "# current camera placement for renderView1\n",
    "renderView1.InteractionMode = '2D'\n",
    "renderView1.CameraPosition = [0.0, 5.6e5, 2.5e7]\n",
    "renderView1.CameraFocalPoint = [0.0, 6e6, 0.0]\n",
    "renderView1.CameraParallelScale = 4.5e5\n",
    "\n",
    "```"
   ]
  },
  {
   "cell_type": "markdown",
   "metadata": {},
   "source": [
    "### Plot Slab Morphology\n",
    "\n",
    "First analyze slab morphology (first cell).\n",
    "Then plot slab morphology (second cell).\n",
    "\n",
    "Interval to analyze.\n",
    "0.5e6 is tested to give the best results in terms of capturing the trending and smearing out minor spikes.\n",
    "\n",
    "    time_interval"
   ]
  },
  {
   "cell_type": "code",
   "execution_count": null,
   "metadata": {
    "vscode": {
     "languageId": "python"
    }
   },
   "outputs": [],
   "source": [
    "time_interval = 0.5e6\n",
    "\n",
    "TwoDVtkPp.SlabMorphologyCase(local_dir, rewrite=1, findmdd=True, time_interval=time_interval, project_velocity=True)"
   ]
  },
  {
   "cell_type": "code",
   "execution_count": null,
   "metadata": {
    "vscode": {
     "languageId": "python"
    }
   },
   "outputs": [],
   "source": [
    "SlabPlot = TwoDVtkPp.SLABPLOT('slab')\n",
    "SlabPlot.PlotMorph(local_dir, save_pdf=True)\n",
    "\n",
    "plt.close()"
   ]
  },
  {
   "cell_type": "markdown",
   "metadata": {},
   "source": [
    "### Pick Timesteps\n",
    "\n",
    "Pick in WebPlotDigitizer the time steps of:\n",
    "\n",
    "1. Slab tip reaching 660 ($t_{660}$).\n",
    "2. First peak of trench motion after $t_{660}$ ($t_{p1}$), and trench velocity\n",
    "3. Second peak of trench motion after $t_{660}$ ($t_{p2}$), and trench velocity"
   ]
  },
  {
   "cell_type": "markdown",
   "metadata": {},
   "source": [
    "### Visualization, pt 2 : save plots at these steps\n",
    "\n",
    "Navigate to the paraview_scripts/slab.py file and change the steps."
   ]
  },
  {
   "cell_type": "markdown",
   "metadata": {},
   "source": [
    "### Plot Morphology Extra : Compare Morphology\n",
    "\n",
    "Compare the slab morphology from multiple cases."
   ]
  },
  {
   "cell_type": "code",
   "execution_count": null,
   "metadata": {
    "vscode": {
     "languageId": "python"
    }
   },
   "outputs": [],
   "source": [
    "case_name1 = \"EBA_CDPT9/eba_cdpt_SA80.0_OA40.0_pc_mei_gr10_cf25GPa_PT1800_1\"\n",
    "\n",
    "json_option =\\\n",
    "{\n",
    "    \"_comment\" : \"This is configuration for combining results of time run (time, step, dofs ...)\",\n",
    "    \"case_root\": local_TwoDSubduction_dir,\n",
    "    \"cases\": [case_name, case_name1],\n",
    "    \"output directory\": {\n",
    "        \"relative\": 1,\n",
    "        \"path\": \"plot_combine\"\n",
    "    },\n",
    "    \"width\": -1.0,\n",
    "    \"time range\": [0.0, 60e6],\n",
    "    \"trench position range\": [-200e3, 200e3],\n",
    "    \"slab depth range\": [0e3, 1800e3]\n",
    "}\n",
    "\n",
    "# print(\"json_option: \", json_option) # debug\n",
    "PlotCombineExecute(TwoDVtkPp.PLOT_COMBINE_SLAB_MORPH, TwoDVtkPp.PC_MORPH_OPT, \"slab_morph\", json_option)"
   ]
  },
  {
   "cell_type": "markdown",
   "metadata": {},
   "source": [
    "### Compare between case outputs"
   ]
  },
  {
   "cell_type": "code",
   "execution_count": null,
   "metadata": {
    "vscode": {
     "languageId": "python"
    }
   },
   "outputs": [],
   "source": [
    "json_option = \\\n",
    "{\n",
    "\t\"case_root\": \"${TwoDSubduction_DIR}\",\n",
    "    \"Name\": \"combine_figure\",\n",
    "\t\"cases\": [\n",
    "        \"EBA_CDPT4/eba_cdpt_SA80.0_OA40.0_CpEcl_1\",\n",
    "        \"EBA_CDPT3/eba_cdpt_SA80.0_OA40.0_width140\"\n",
    "    ],\n",
    "\t\"plots\": [\n",
    "        [\"um_viscosity_snap000005.png\", \"um_viscosity_snap000185.png\", \"um_viscosity_snap000305.png\"],\n",
    "        [\"um_viscosity_snap000005.png\", \"um_viscosity_snap000125.png\", \"um_viscosity_snap000225.png\"]\n",
    "    ],\n",
    "    \"anchor\": 0,\n",
    "\t\"same_for_all\" : 0,\n",
    "    \"output directory\": \"${TwoDSubduction_DIR}/EBA_CDPT4\",\n",
    "    \"Include title\": 1,\n",
    "    \"Title\": {\n",
    "        \"Title\": \"Comparison of implementation of the eclogite transition, the lowP case has a lowP boundary with a clayperon slope.\"\n",
    "    }\n",
    "}\n",
    "\n",
    "PlotCombineFigures(json_option)"
   ]
  }
 ],
 "metadata": {
  "kernelspec": {
   "display_name": "Python (aspectLib)",
   "language": "python",
   "name": "aspectlib"
  },
  "orig_nbformat": 4
 },
 "nbformat": 4,
 "nbformat_minor": 2
}
