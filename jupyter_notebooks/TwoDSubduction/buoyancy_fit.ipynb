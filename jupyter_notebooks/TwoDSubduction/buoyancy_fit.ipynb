{
 "cells": [
  {
   "cell_type": "markdown",
   "metadata": {},
   "source": [
    "#### Analyze slab force balance: part 2 - spline fits using R"
   ]
  },
  {
   "cell_type": "code",
   "execution_count": null,
   "metadata": {
    "vscode": {
     "languageId": "r"
    }
   },
   "outputs": [],
   "source": [
    "# Load necessary libraries\n",
    "library(ggplot2)\n",
    "library(splines)"
   ]
  },
  {
   "cell_type": "code",
   "execution_count": null,
   "metadata": {
    "vscode": {
     "languageId": "r"
    }
   },
   "outputs": [],
   "source": [
    "# file is exported from the other jupyter notebook in python\n",
    "fname = \"/home/lochy/ASPECT_PROJECT/aspectLib/dtemp/export_slab_buoyancy.txt\"\n",
    "\n",
    "# Read the file\n",
    "data <- read.table(fname, header = FALSE)  # Change \"your_file_path.txt\" to the actual file path\n",
    "\n",
    "# Rename columns if needed\n",
    "colnames(data) <- c(\"x\", \"y\")\n",
    "\n",
    "# Save each column to a separate data object\n",
    "# x: depth; y: buoyancy\n",
    "x_data <- data$x\n",
    "y_data <- data$y\n",
    "x_data = x_data/1e3  # convert the depth to km\n",
    "\n",
    "# Check the contents of each data object\n",
    "head(x_data)\n",
    "head(y_data)"
   ]
  },
  {
   "cell_type": "code",
   "execution_count": null,
   "metadata": {
    "vscode": {
     "languageId": "r"
    }
   },
   "outputs": [],
   "source": [
    "# Fit a smooth curve\n",
    "smooth_fit <- smooth.spline(x_data, y_data)\n",
    "\n",
    "# Calculate deviation\n",
    "deviation <- y_data - predict(smooth_fit, x_data)$y\n",
    "\n",
    "# Create a data frame for plotting\n",
    "df <- data.frame(x = x_data, y = y_data, deviation = deviation)\n",
    "\n",
    "# Plot smooth curve\n",
    "p <- ggplot(df, aes(x = x, y = y)) +\n",
    "  geom_point(color = \"blue\", size = 3) +  # Plot scattered data points\n",
    "  geom_line(aes(y = fitted(smooth_fit)), color = \"red\") +  # Plot smooth curve\n",
    "  geom_segment(aes(xend = x, yend = y + deviation), color = \"green\", alpha = 0.5, size = 1) +  # Plot deviation\n",
    "  theme_minimal() +\n",
    "  labs(x = \"Depth (km)\", y = \"Buoyancy (N/m2)\", title = \"Smooth Fit of the buoyancy force to depth\")\n",
    "\n",
    "# Print the plot\n",
    "print(p)"
   ]
  }
 ],
 "metadata": {
  "kernelspec": {
   "display_name": "R",
   "language": "R",
   "name": "ir"
  },
  "language_info": {
   "codemirror_mode": "r",
   "file_extension": ".r",
   "mimetype": "text/x-r-source",
   "name": "R",
   "pygments_lexer": "r",
   "version": "4.3.1"
  },
  "orig_nbformat": 4
 },
 "nbformat": 4,
 "nbformat_minor": 2
}
