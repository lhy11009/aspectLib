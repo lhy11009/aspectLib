{
 "cells": [
  {
   "cell_type": "markdown",
   "metadata": {},
   "source": [
    "### Compare to the results from Royden_Husson_06_gji"
   ]
  },
  {
   "cell_type": "code",
   "execution_count": null,
   "metadata": {},
   "outputs": [],
   "source": [
    "import os, sys\n",
    "import numpy as np\n",
    "from matplotlib import pyplot as plt\n",
    "\n",
    "# directory to the aspect Lab\n",
    "ASPECT_LAB_DIR = os.environ['ASPECT_LAB_DIR']\n",
    "RESULT_DIR = os.path.join(ASPECT_LAB_DIR, 'results')\n",
    "\n",
    "sys.path.append(os.path.join(ASPECT_LAB_DIR))\n",
    "\n",
    "import shilofue.ThDSubduction0.RoydenHusson06 as RH06"
   ]
  },
  {
   "cell_type": "code",
   "execution_count": null,
   "metadata": {},
   "outputs": [],
   "source": [
    "yr = 365.0 * 24.0 * 3600.0\n",
    "cm_per_yr = 1e-2 / yr\n",
    "\n",
    "Vt = 1.0 * cm_per_yr\n",
    "Vm = 1.0 * cm_per_yr\n",
    "Vr = 1.0 * cm_per_yr\n",
    "L = 1000e3\n",
    "a = L / 2.0\n",
    "lbd = 700e3\n",
    "mu = 1e20\n",
    "n_hs = 100\n",
    "\n",
    "Vx_dzs_nd_std = np.ones(n_hs)\n",
    "\n",
    "Hele_Shaw = RH06.HELE_SHAW(Vt, Vm, Vr, L, lbd, mu, n_hs)\n",
    "As = 0.001 * np.ones(n_hs) * mu / lbd**2.0 * (Vt + Vm) # initial guess\n",
    "Hele_Shaw.AssignA(As)"
   ]
  },
  {
   "cell_type": "code",
   "execution_count": null,
   "metadata": {},
   "outputs": [],
   "source": [
    "# plot the result with the initial guess\n",
    "x = 10e3 # 10 km\n",
    "ym = L\n",
    "fig, ax = plt.subplots()\n",
    "Hele_Shaw.PlotVxdz(x, ym, ax=ax)"
   ]
  },
  {
   "cell_type": "code",
   "execution_count": null,
   "metadata": {},
   "outputs": [],
   "source": [
    "x = 10e3 # 10 km\n",
    "n_iter = 10\n",
    "Vxdzs = Hele_Shaw.Vxdz_array(x)\n",
    "Vx_dzs_nd = Vxdzs / lbd / Vr\n",
    "\n",
    "for i in range(n_iter):\n",
    "    J = Hele_Shaw.Jocobi(x)\n",
    "    J1 = np.dot(J, J.transpose())\n",
    "    J1_inv = np.linalg.inv(J1)\n",
    "    # print(J)\n",
    "    # print(J1)\n",
    "    \n",
    "    # print(As)\n",
    "    \n",
    "    d_As = np.dot(J1_inv, np.dot(J, Vx_dzs_nd_std - Vx_dzs_nd))\n",
    "    # print(d_As) # debug\n",
    "    As += d_As\n",
    "    # print(As_new)\n",
    "    \n",
    "    Hele_Shaw.AssignA(As)\n",
    "    Vxdzs = Hele_Shaw.Vxdz_array(x)\n",
    "    Vx_dzs_nd = Vxdzs / lbd / Vr"
   ]
  },
  {
   "cell_type": "code",
   "execution_count": null,
   "metadata": {},
   "outputs": [],
   "source": [
    "# plot the result with the initial guess\n",
    "x = 10e3 # 10 km\n",
    "ym = L\n",
    "fig, ax = plt.subplots()\n",
    "Hele_Shaw.PlotVxdz(x, ym, ax=ax)"
   ]
  }
 ],
 "metadata": {
  "interpreter": {
   "hash": "04f94a466fc6855f7f994dd3204adbc7760ad767ef3aef9ead569409decf9820"
  },
  "kernelspec": {
   "display_name": "Python 3.7.13 ('aspectLib')",
   "language": "python",
   "name": "python3"
  },
  "language_info": {
   "codemirror_mode": {
    "name": "ipython",
    "version": 3
   },
   "file_extension": ".py",
   "mimetype": "text/x-python",
   "name": "python",
   "nbconvert_exporter": "python",
   "pygments_lexer": "ipython3",
   "version": "3.7.13"
  },
  "orig_nbformat": 4
 },
 "nbformat": 4,
 "nbformat_minor": 2
}
