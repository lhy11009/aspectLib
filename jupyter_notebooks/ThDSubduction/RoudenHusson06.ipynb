{
 "cells": [
  {
   "cell_type": "markdown",
   "metadata": {},
   "source": [
    "### Compare to the results from Royden_Husson_06_gji"
   ]
  },
  {
   "cell_type": "code",
   "execution_count": null,
   "metadata": {},
   "outputs": [],
   "source": [
    "import os, sys\n",
    "import numpy as np\n",
    "from matplotlib import pyplot as plt\n",
    "\n",
    "# directory to the aspect Lab\n",
    "ASPECT_LAB_DIR = os.environ['ASPECT_LAB_DIR']\n",
    "RESULT_DIR = os.path.join(ASPECT_LAB_DIR, 'results')\n",
    "\n",
    "sys.path.append(os.path.join(ASPECT_LAB_DIR))\n",
    "\n",
    "import shilofue.ThDSubduction0.RoydenHusson06 as RH06"
   ]
  },
  {
   "cell_type": "markdown",
   "metadata": {},
   "source": [
    "#### Variables"
   ]
  },
  {
   "cell_type": "code",
   "execution_count": null,
   "metadata": {},
   "outputs": [],
   "source": [
    "yr = 365.0 * 24.0 * 3600.0\n",
    "cm_per_yr = 1e-2 / yr\n",
    "\n",
    "# Vt = 1.0 * cm_per_yr\n",
    "# Vm = 1.0 * cm_per_yr\n",
    "\n",
    "Vt = 0.0 * cm_per_yr\n",
    "Vm = 0.0 * cm_per_yr\n",
    "\n",
    "Vr = 1.0 * cm_per_yr\n",
    "L = 1000e3\n",
    "a = L / 2.0\n",
    "lbd = 700e3\n",
    "mu = 1e20\n",
    "n_hs = 100\n",
    "\n",
    "\n",
    "\n",
    "Hele_Shaw = RH06.HELE_SHAW(Vt, Vm, Vr, L, lbd, mu, n_hs)\n",
    "\n",
    "# As = np.zeros(n_hs)\n",
    "As = 0.1 * np.ones(n_hs) * mu / lbd**2.0 * (Vt + Vm) # initial guess\n",
    "Hele_Shaw.AssignA(As)"
   ]
  },
  {
   "cell_type": "code",
   "execution_count": null,
   "metadata": {},
   "outputs": [],
   "source": [
    "# plot the result with the initial guess\n",
    "x = 10e3 # 10 km\n",
    "ym = L\n",
    "fig, ax = plt.subplots()\n",
    "Hele_Shaw.PlotVxdz(x, ym, ax=ax)"
   ]
  },
  {
   "cell_type": "code",
   "execution_count": null,
   "metadata": {},
   "outputs": [],
   "source": [
    "J = Hele_Shaw.Jacobi_full(x, weight_inf=weight_inf)\n",
    "# J = Hele_Shaw.Jacobi_full(x)"
   ]
  },
  {
   "cell_type": "code",
   "execution_count": null,
   "metadata": {},
   "outputs": [],
   "source": [
    "x = 10e3 # 10 km\n",
    "weight_inf = 10.0  # 0.0 means the infinite point is not included in the inversion\n",
    "n_iter = 200\n",
    "tolerance = 1e-6\n",
    "# Vx_dzs_nd = Hele_Shaw.Vxdz_array_nd(x)\n",
    "Vx_dzs_nd = Hele_Shaw.Vxdz_array_nd_full(x, weight_inf=weight_inf)\n",
    "residuals = []\n",
    "\n",
    "# Vx_dzs_nd_std = np.ones(n_hs)  # values on the surface of the slab\n",
    "Vx_dzs_nd_std = np.ones(n_hs+1)  # values on the surface of the slab\n",
    "Vx_dzs_nd_std[n_hs] = weight_inf * lbd * (Vt + Vm) / 2.0  # values to the infinity x\n",
    "    \n",
    "# residuals  \n",
    "vx_dzs_diff = Vx_dzs_nd_std - Vx_dzs_nd\n",
    "residual = np.linalg.norm(vx_dzs_diff, ord=np.inf)\n",
    "residuals.append(residual)\n",
    "\n",
    "for i in range(n_iter):\n",
    "\n",
    "    if residual < tolerance:\n",
    "        break\n",
    "\n",
    "    # jacobian \n",
    "    J = Hele_Shaw.Jacobi_full(x, weight_inf=weight_inf)\n",
    "    # J = Hele_Shaw.Jacobi_full(x)\n",
    "    J1 = np.dot(J.transpose(), J)\n",
    "    # J1 = np.dot(J, J.transpose())\n",
    "    J1_inv = np.linalg.inv(J1)\n",
    "\n",
    "    # apply iteration\n",
    "    d_As = np.dot(J1_inv, np.dot(J.transpose(), vx_dzs_diff))\n",
    "    As += d_As\n",
    "    Hele_Shaw.AssignA(As)\n",
    "    # Vx_dzs_nd = Hele_Shaw.Vxdz_array_nd(x)\n",
    "    Vx_dzs_nd = Hele_Shaw.Vxdz_array_nd_full(x, weight_inf=weight_inf)\n",
    "    \n",
    "    # residuals  \n",
    "    vx_dzs_diff = Vx_dzs_nd_std - Vx_dzs_nd\n",
    "    residual = np.linalg.norm(vx_dzs_diff, ord=np.inf)\n",
    "    residuals.append(residual)\n",
    "\n",
    "# export residual and history\n",
    "print(\"Final residual: \", residual)\n",
    "\n",
    "if residual < tolerance:\n",
    "    # convergence\n",
    "    end_i = i\n",
    "else:\n",
    "    # inconvergence\n",
    "    end_i = i + 1\n",
    "fig, ax = plt.subplots()\n",
    "ax.semilogy(range(end_i + 1), residuals)"
   ]
  },
  {
   "cell_type": "code",
   "execution_count": null,
   "metadata": {},
   "outputs": [],
   "source": [
    "# plot the result with the initial guess\n",
    "x = 10e3 # 10 km\n",
    "ym = L\n",
    "fig, ax = plt.subplots()\n",
    "Hele_Shaw.PlotVxdz(x, ym, ax=ax)\n",
    "# ax.set_ylim([0.0, 2.0])"
   ]
  }
 ],
 "metadata": {
  "interpreter": {
   "hash": "04f94a466fc6855f7f994dd3204adbc7760ad767ef3aef9ead569409decf9820"
  },
  "kernelspec": {
   "display_name": "Python 3.7.13 ('aspectLib')",
   "language": "python",
   "name": "python3"
  },
  "language_info": {
   "codemirror_mode": {
    "name": "ipython",
    "version": 3
   },
   "file_extension": ".py",
   "mimetype": "text/x-python",
   "name": "python",
   "nbconvert_exporter": "python",
   "pygments_lexer": "ipython3",
   "version": "3.7.13"
  },
  "orig_nbformat": 4
 },
 "nbformat": 4,
 "nbformat_minor": 2
}
