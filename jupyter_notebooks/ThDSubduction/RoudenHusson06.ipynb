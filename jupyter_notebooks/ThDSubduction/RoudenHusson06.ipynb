{
 "cells": [
  {
   "cell_type": "markdown",
   "metadata": {},
   "source": [
    "### Compare to the results from Royden_Husson_06_gji"
   ]
  },
  {
   "cell_type": "code",
   "execution_count": null,
   "metadata": {},
   "outputs": [],
   "source": [
    "import os, sys\n",
    "import numpy as np\n",
    "from matplotlib import pyplot as plt\n",
    "from matplotlib import gridspec\n",
    "\n",
    "# directory to the aspect Lab\n",
    "ASPECT_LAB_DIR = os.environ['ASPECT_LAB_DIR']\n",
    "RESULT_DIR = os.path.join(ASPECT_LAB_DIR, 'results')\n",
    "\n",
    "sys.path.append(os.path.join(ASPECT_LAB_DIR))\n",
    "\n",
    "import shilofue.ThDSubduction0.RoydenHusson06 as RH06"
   ]
  },
  {
   "cell_type": "markdown",
   "metadata": {},
   "source": [
    "#### Model setup and Variables\n",
    "\n",
    "Vt - upper plate velocity \n",
    "\n",
    "Vm - lower mantle velocity\n",
    "\n",
    "Vr - trench velocity\n",
    "\n",
    "L - length of the slab \n",
    "\n",
    "lbd - thickness of the upper mantle\n",
    "\n",
    "mu - viscosity\n",
    "\n",
    "n - number of points along half the slab\n",
    "\n",
    "![](./RH06_fig02.png)"
   ]
  },
  {
   "cell_type": "code",
   "execution_count": null,
   "metadata": {},
   "outputs": [],
   "source": [
    "yr = 365.0 * 24.0 * 3600.0\n",
    "cm_per_yr = 1e-2 / yr\n",
    "\n",
    "# define variables\n",
    "Vt = 0.0 * cm_per_yr\n",
    "Vm = 0.0 * cm_per_yr\n",
    "Vr = 1.0 * cm_per_yr\n",
    "L = 1000e3\n",
    "a = L / 2.0\n",
    "lbd = 700e3\n",
    "mu = 1e20\n",
    "n_hs = 100\n"
   ]
  },
  {
   "cell_type": "markdown",
   "metadata": {},
   "source": [
    "#### A solution for the Hele-Shaw flow field\n",
    "\n",
    "At the wavelengths of interest for toroidal flowaround the subduction system as awhole, horizontal velocities away from x =0 can be approximated by Hele-Shaw flow in a thin viscous gap, where the viscous gap corresponds to the sublithospheric portion of the upper mantle with thickness λ\n",
    "(Batchelor 1967; Acheson 1990; Furbish 1997).\n",
    "![](./RH06_fig03.png)\n",
    "\n",
    "We follow the $\\mu = const$ assumption.\n",
    "\n",
    "The general format of P is taken as:\n",
    "\n",
    "$Pi\\left(x, y\\right) = \\frac{A_i \\left(x - x_i\\right)}{\\left(x - x_i\\right)^2 + \\left(y - y_i\\right)^2}$ (A6)\n",
    "\n",
    "The integral of $v_x$ over z is derived by a summation over 2n - 1 terms.\n",
    "These terms are assymetric along y = 0 ($A_i = A_{-i}$).\n",
    "\n",
    "$\\int_{0}^{\\lambda} v_x dz = \\lambda \\left(\\frac{v_t + v_m}{2}\\right) + \\sum_{i=-(n-1)}^{n-1}\\frac{\\left(x - x_i\\right)^2 - \\left(y - y_i\\right)^2}{\\left[\\left(x - x_i\\right)^2 + \\left(y - y_i\\right)^2\\right]^2} \\left(\\frac{A_i \\lambda^3}{12 \\mu} \\right)$  (A8)\n",
    "\n",
    "(The eq in the paper is wrong about the power on the bottom)\n",
    "\n",
    "The the coefficients $A_i$ are solved by the constraint from an inversion\n",
    "\n",
    "$\\int_{0}^{\\lambda} v_x dz = v_r \\lambda,  (x = 10 km, y = y_i)$"
   ]
  },
  {
   "cell_type": "code",
   "execution_count": null,
   "metadata": {},
   "outputs": [],
   "source": [
    "# initiate the class and assign an initial solution\n",
    "Hele_Shaw = RH06.HELE_SHAW(Vt, Vm, Vr, L, lbd, mu, n_hs)\n",
    "As = 0.1 * np.ones(n_hs) * mu / lbd**2.0 * (Vt + Vm) # initial guess\n",
    "Hele_Shaw.AssignA(As)"
   ]
  },
  {
   "cell_type": "code",
   "execution_count": null,
   "metadata": {},
   "outputs": [],
   "source": [
    "# plot the result with the initial guess\n",
    "x = 10e3 # 10 km\n",
    "ym = 4*a\n",
    "fig, ax = plt.subplots()\n",
    "Hele_Shaw.PlotVxdz(x, ym, ax=ax)\n",
    "ax.set_xlim([0, 4.0])"
   ]
  },
  {
   "cell_type": "code",
   "execution_count": null,
   "metadata": {},
   "outputs": [],
   "source": [
    "J = Hele_Shaw.Jacobi_slab(x)\n",
    "# J = Hele_Shaw.Jacobi_full(x)"
   ]
  },
  {
   "cell_type": "code",
   "execution_count": null,
   "metadata": {},
   "outputs": [],
   "source": [
    "x = 10e3 # 10 km\n",
    "weight_inf = 10.0  # 0.0 means the infinite point is not included in the inversion\n",
    "n_iter = 200\n",
    "tolerance = 1e-6\n",
    "Vx_dzs_nd = Hele_Shaw.Vxdz_array_nd(x)\n",
    "# Vx_dzs_nd = Hele_Shaw.Vxdz_array_nd_full(x, weight_inf=weight_inf)\n",
    "residuals = []\n",
    "\n",
    "Vx_dzs_nd_std = np.ones(n_hs)  # values on the surface of the slab\n",
    "# Vx_dzs_nd_std = np.ones(n_hs+1)  # values on the surface of the slab\n",
    "# Vx_dzs_nd_std[n_hs] = weight_inf * lbd * (Vt + Vm) / 2.0  # values to the infinity x\n",
    "    \n",
    "# residuals  \n",
    "vx_dzs_diff = Vx_dzs_nd_std - Vx_dzs_nd\n",
    "residual = np.linalg.norm(vx_dzs_diff, ord=np.inf)\n",
    "residuals.append(residual)\n",
    "\n",
    "for i in range(n_iter):\n",
    "\n",
    "    if residual < tolerance:\n",
    "        break\n",
    "\n",
    "    # jacobian \n",
    "    J = Hele_Shaw.Jacobi_slab(x)\n",
    "    # J = Hele_Shaw.Jacobi_full(x)\n",
    "    J1 = np.dot(J.transpose(), J)\n",
    "    # J1 = np.dot(J, J.transpose())\n",
    "    J1_inv = np.linalg.inv(J1)\n",
    "\n",
    "    # apply iteration\n",
    "    d_As = np.dot(J1_inv, np.dot(J.transpose(), vx_dzs_diff))\n",
    "    As += d_As\n",
    "    Hele_Shaw.AssignA(As)\n",
    "    # Vx_dzs_nd = Hele_Shaw.Vxdz_array_nd(x)\n",
    "    Vx_dzs_nd = Hele_Shaw.Vxdz_array_nd(x)\n",
    "    \n",
    "    # residuals  \n",
    "    vx_dzs_diff = Vx_dzs_nd_std - Vx_dzs_nd\n",
    "    residual = np.linalg.norm(vx_dzs_diff, ord=np.inf)\n",
    "    residuals.append(residual)\n",
    "\n",
    "# export residual and history\n",
    "print(\"Final residual: \", residual)\n",
    "\n",
    "if residual < tolerance:\n",
    "    # convergence\n",
    "    end_i = i\n",
    "else:\n",
    "    # inconvergence\n",
    "    end_i = i + 1\n",
    "fig, ax = plt.subplots()\n",
    "ax.semilogy(range(end_i + 1), residuals)"
   ]
  },
  {
   "cell_type": "code",
   "execution_count": null,
   "metadata": {},
   "outputs": [],
   "source": [
    "# replicate the results in Figure A1\n",
    "x = 10e3 # 10 km\n",
    "ym = 4*a\n",
    "xm = 3*a\n",
    "\n",
    "fig = plt.figure(tight_layout=True, figsize=(6, 10))\n",
    "gs = gridspec.GridSpec(2,1)\n",
    "ax1 = fig.add_subplot(gs[0, 0])\n",
    "ax2 = fig.add_subplot(gs[1, 0])\n",
    "\n",
    "Hele_Shaw.PlotVxdz(x, ym, ax=ax1)\n",
    "ax1.set_xlim([0.0, ym/a])\n",
    "\n",
    "Hele_Shaw.PlotCenterPressureX(xm, ax=ax2, x_nd=x)\n",
    "ax2.set_xlim([0.0, xm/a])"
   ]
  },
  {
   "cell_type": "code",
   "execution_count": null,
   "metadata": {},
   "outputs": [],
   "source": [
    "z0 = 100e3\n",
    "fig, ax = plt.subplots()\n",
    "\n",
    "h = Hele_Shaw.PlotPressureOnSurface(ax=ax, vmin=-0.3, vmax=0.3)\n",
    "fig.colorbar(h, ax=ax, label='P [Mpa]')\n",
    "\n",
    "xxs, yys, vvxs, vvys = Hele_Shaw.PlotVelocityOnSurface(z0, ax=ax)\n",
    "fig.suptitle(\"Flow at z = %.2f km\" % (z0 / 1e3))"
   ]
  }
 ],
 "metadata": {
  "interpreter": {
   "hash": "04f94a466fc6855f7f994dd3204adbc7760ad767ef3aef9ead569409decf9820"
  },
  "kernelspec": {
   "display_name": "Python 3.7.13 ('aspectLib')",
   "language": "python",
   "name": "python3"
  },
  "language_info": {
   "codemirror_mode": {
    "name": "ipython",
    "version": 3
   },
   "file_extension": ".py",
   "mimetype": "text/x-python",
   "name": "python",
   "nbconvert_exporter": "python",
   "pygments_lexer": "ipython3",
   "version": "3.7.13"
  },
  "orig_nbformat": 4
 },
 "nbformat": 4,
 "nbformat_minor": 2
}
