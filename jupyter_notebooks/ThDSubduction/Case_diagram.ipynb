{
 "cells": [
  {
   "cell_type": "markdown",
   "metadata": {},
   "source": [
    "### Case summary"
   ]
  },
  {
   "cell_type": "code",
   "execution_count": null,
   "metadata": {},
   "outputs": [],
   "source": [
    "import os, sys\n",
    "import numpy as np\n",
    "from shutil import rmtree, copy\n",
    "from matplotlib import pyplot as plt\n",
    "from matplotlib import gridspec, cm\n",
    "\n",
    "# directory to the aspect Lab\n",
    "ASPECT_LAB_DIR = os.environ['ASPECT_LAB_DIR']\n",
    "TwoDSubduction_DIR = os.environ['TwoDSubduction_DIR']\n",
    "ThDSubduction_DIR = os.environ['ThDSubduction_DIR']\n",
    "RESULT_DIR = os.path.join(ASPECT_LAB_DIR, 'results')\n",
    "\n",
    "sys.path.append(os.path.join(ASPECT_LAB_DIR))\n",
    "from shilofue.ThDSubduction0.Group import CASE_SUMMARY\n",
    "from shilofue.TwoDSubduction0.Group import CASE_SUMMARY as CASE_SUMMARY_2D\n",
    "import shilofue.ThDSubduction0.VtkPp as ThDVtkPp\n",
    "from shilofue.Group import ReadBasicInfoGroup\n",
    "from shilofue.ThDSubduction0.PlotVisit import VISIT_OPTIONS\n",
    "from shilofue.TwoDSubduction0.PlotVisit import VISIT_OPTIONS as VISIT_OPTIONS_2D"
   ]
  },
  {
   "cell_type": "code",
   "execution_count": null,
   "metadata": {},
   "outputs": [],
   "source": [
    "group_dir = os.path.join(ThDSubduction_DIR, \"chunk_test\")\n",
    "assert(os.path.isdir(group_dir))\n",
    "group_dir_2d = os.path.join(TwoDSubduction_DIR, \"EBA_CDPT_3dconsistent_9\")\n",
    "assert(os.path.isdir(group_dir_2d))"
   ]
  },
  {
   "cell_type": "markdown",
   "metadata": {},
   "source": [
    "### 3d case summary"
   ]
  },
  {
   "cell_type": "code",
   "execution_count": null,
   "metadata": {},
   "outputs": [],
   "source": [
    "all_actions=['geometry', 't660', 't800', 't1000', 'dip660']\n",
    "\n",
    "# for the project, no update, hand correct\n",
    "update_from_group = False; o_path = os.path.join(ThDSubduction_DIR, 'case_summary.txt'); o_path_csv = os.path.join(ThDSubduction_DIR, 'case_summary.csv'); o_path_tex = os.path.join(ThDSubduction_DIR, 'case_summary.tex')\n",
    "# for one group, update from group\n",
    "update_from_group = True; o_path = os.path.join(group_dir, 'case_summary.txt'); o_path_csv = os.path.join(group_dir, 'case_summary.csv'); o_path_tex = os.path.join(group_dir, 'case_summary.tex')\n",
    "\n",
    "img_dir = os.path.join(group_dir, 'img')\n",
    "if not os.path.isdir(img_dir):\n",
    "  os.mkdir(img_dir)\n",
    "\n",
    "Case_Summary = CASE_SUMMARY(VISIT_OPTIONS=VISIT_OPTIONS)\n",
    "\n",
    "# import old result if it exists \n",
    "if os.path.isfile(o_path_csv):\n",
    "  Case_Summary.import_file(o_path_csv)\n",
    "  Case_Summary.Update(actions=all_actions)\n",
    "\n",
    "# import the new directory\n",
    "if update_from_group:\n",
    "  Case_Summary.import_directory(group_dir, actions=all_actions)\n",
    "\n",
    "# output file output \n",
    "Case_Summary.write_file(o_path)\n",
    "Case_Summary.write_file(o_path_csv)\n",
    "Case_Summary.write_file(o_path_tex)"
   ]
  },
  {
   "cell_type": "markdown",
   "metadata": {},
   "source": [
    "### 2d case summary"
   ]
  },
  {
   "cell_type": "code",
   "execution_count": null,
   "metadata": {},
   "outputs": [],
   "source": [
    "# for the project, no update, hand correct\n",
    "update_from_group = False; o_path = os.path.join(ThDSubduction_DIR, 'case_summary_2d.txt'); o_path_csv = os.path.join(ThDSubduction_DIR, 'case_summary_2d.csv'); o_path_tex = os.path.join(ThDSubduction_DIR, 'case_summary_2d.tex')\n",
    "# for one group, update from group\n",
    "update_from_group = True; o_path = os.path.join(group_dir_2d, 'case_summary_2d.txt'); o_path_csv = os.path.join(group_dir_2d, 'case_summary_2d.csv'); o_path_tex = os.path.join(group_dir_2d, 'case_summary_2d.tex')\n",
    "\n",
    "all_actions=[\"t660\", \"t800\", \"t1000\", \"dip660\"]\n",
    "\n",
    "img_dir = os.path.join(group_dir_2d, 'img')\n",
    "if not os.path.isdir(img_dir):\n",
    "  os.mkdir(img_dir)\n",
    "\n",
    "Case_Summary_2d = CASE_SUMMARY_2D(VISIT_OPTIONS=VISIT_OPTIONS_2D)\n",
    "\n",
    "# import old result if it exists \n",
    "if os.path.isfile(o_path_csv):\n",
    "  Case_Summary_2d.import_file(o_path_csv)\n",
    "  Case_Summary_2d.Update(actions=all_actions)\n",
    "\n",
    "# import the new directory\n",
    "if update_from_group:\n",
    "  Case_Summary_2d.import_directory(group_dir_2d, actions=all_actions)\n",
    "\n",
    "# output file output \n",
    "Case_Summary_2d.write_file(o_path)\n",
    "Case_Summary_2d.write_file(o_path_csv)\n",
    "Case_Summary_2d.write_file(o_path_tex)"
   ]
  }
 ],
 "metadata": {
  "interpreter": {
   "hash": "04f94a466fc6855f7f994dd3204adbc7760ad767ef3aef9ead569409decf9820"
  },
  "kernelspec": {
   "display_name": "Python 3.7.13 ('aspectLib')",
   "language": "python",
   "name": "python3"
  },
  "language_info": {
   "codemirror_mode": {
    "name": "ipython",
    "version": 3
   },
   "file_extension": ".py",
   "mimetype": "text/x-python",
   "name": "python",
   "nbconvert_exporter": "python",
   "pygments_lexer": "ipython3",
   "version": "3.7.13"
  },
  "orig_nbformat": 4
 },
 "nbformat": 4,
 "nbformat_minor": 2
}
