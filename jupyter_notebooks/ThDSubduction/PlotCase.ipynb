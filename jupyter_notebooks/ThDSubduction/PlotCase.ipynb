{
 "cells": [
  {
   "cell_type": "markdown",
   "metadata": {},
   "source": [
    "## ThD Cases"
   ]
  },
  {
   "cell_type": "code",
   "execution_count": null,
   "metadata": {},
   "outputs": [],
   "source": [
    "import os, sys\n",
    "import numpy as np\n",
    "from shutil import rmtree, copy\n",
    "from matplotlib import pyplot as plt\n",
    "from matplotlib import gridspec, cm\n",
    "\n",
    "# directory to the aspect Lab\n",
    "ASPECT_LAB_DIR = os.environ['ASPECT_LAB_DIR']\n",
    "RESULT_DIR = os.path.join(ASPECT_LAB_DIR, 'results')\n",
    "\n",
    "sys.path.append(os.path.join(ASPECT_LAB_DIR))\n",
    "\n",
    "import shilofue.ThDSubduction0.Cases as ThDCases\n",
    "import shilofue.PlotCase as PlotCase\n",
    "import shilofue.ThDSubduction0.PlotCase as ThDPlotCase\n",
    "import shilofue.ThDSubduction0.VtkPp as ThDVtkPp\n",
    "from shilofue.PlotCombine import PlotCombineExecute\n",
    "from shilofue.ThDSubduction0.PlotVisit import PREPARE_RESULT_OPTIONS"
   ]
  },
  {
   "cell_type": "markdown",
   "metadata": {},
   "source": [
    "#### System path\n",
    "\n",
    "The path to the project directory\n",
    "\n",
    "    local_TwoDSubduction_dir\n",
    "\n",
    "The path to the project directory on server\n",
    "\n",
    "    remote_TwoDSubduction_dir"
   ]
  },
  {
   "cell_type": "code",
   "execution_count": null,
   "metadata": {},
   "outputs": [],
   "source": [
    "local_ThDSubduction_dir = \"/mnt/lochy0/ASPECT_DATA/ThDSubduction\"\n",
    "remote_ThDSubduction_dir = \"peloton:/group/billengrp-mpi-io/lochy/ThDSubduction\"\n",
    "\n",
    "assert(os.path.isdir(local_ThDSubduction_dir))"
   ]
  },
  {
   "cell_type": "markdown",
   "metadata": {},
   "source": [
    "#### case name\n",
    "\n",
    "case name (relative path to local_TwoDSubduction_dir)\n",
    "\n",
    "    case_name"
   ]
  },
  {
   "cell_type": "code",
   "execution_count": null,
   "metadata": {},
   "outputs": [],
   "source": [
    "# case_name = \"EBA_2d_consistent_7/eba3d_width61_c22_AR4\"\n",
    "# case_name = \"EBA_2d_consistent_8/eba3d_width61_c22_AR4\"\n",
    "# case_name = \"EBA_2d_consistent_8_1/eba3d_width61_c22_AR4\"\n",
    "# case_name = \"EBA_2d_consistent_8_2/eba3d_width61_c22_AR4\"\n",
    "# case_name = \"EBA_2d_consistent_8_3/eba3d_width61_c22_AR4\"\n",
    "# case_name = \"EBA_2d_consistent_8_2/eba3d_width61_c23_AR4\"\n",
    "# case_name = \"EBA_2d_consistent_8_2/eba3d_width61_c22_AR4_cd150\"\n",
    "# case_name = \"EBA_2d_consistent_8_4/eba3d_width61_c22_AR4\"\n",
    "# case_name = \"EBA_2d_consistent_8_4/eba3d_width61_c22_AR4_old_rheology\"\n",
    "# case_name = \"EBA_2d_consistent_8_4/eba3d_width61_c22_AR4_old_rheology_old_density\"\n",
    "# case_name = \"EBA_2d_consistent_8_4/eba3d_width61_c22_AR4_old_density\"\n",
    "# case_name = \"EBA_2d_consistent_8_5/eba3d_width61_c22_AR4_fix_density\"\n",
    "\n",
    "# in folder EBA_2d_consistent_8_6\n",
    "# case_name = \"EBA_2d_consistent_8_6/eba3d_width51_c22_AR4\"\n",
    "# case_name = \"EBA_2d_consistent_8_6/eba3d_width61_c22_AR4\"\n",
    "# case_name = \"EBA_2d_consistent_8_6/eba3d_width61_c22_AR3\"\n",
    "case_name = \"EBA_2d_consistent_8_6/eba3d_width80_c22_AR4\"\n",
    "# case_name = \"EBA_2d_consistent_8_6/eba3d_width61_c23_AR4\"\n",
    "\n",
    "local_dir = os.path.join(local_ThDSubduction_dir, case_name)\n",
    "remote_dir = os.path.join(remote_ThDSubduction_dir, case_name)"
   ]
  },
  {
   "cell_type": "markdown",
   "metadata": {},
   "source": [
    "#### rsync command\n",
    "\n",
    "Print the rsync command which could run in a terminal"
   ]
  },
  {
   "cell_type": "code",
   "execution_count": null,
   "metadata": {},
   "outputs": [],
   "source": [
    "rsync_exec = \"rsync\"\n",
    "rsync_option = \"-auv --progress\"\n",
    "exclude_option = \"--exclude=*restart*\"\n",
    "local_path = os.path.join(local_ThDSubduction_dir, os.path.dirname(case_name)) + \"/\"\n",
    "remote_path = remote_dir\n",
    "paths = remote_path + \" \" + local_path\n",
    "\n",
    "rsync_command = \"%s %s %s %s %s\" % (rsync_exec, rsync_option, exclude_option, remote_path, local_path)\n",
    "\n",
    "print(\"open a terminal and run rsync command:\\n\", rsync_command) "
   ]
  },
  {
   "cell_type": "markdown",
   "metadata": {},
   "source": [
    "#### Plot Linear results and prepare the scripts for visualization\n",
    "\n",
    "The next block will generate plots of run time, solver, statistics, etc.\n",
    "It will also compose a script to run in paraview / visit.\n",
    "\n",
    "range of time to plot, when set to None, the full range is covered\n",
    "\n",
    "    time_range\n",
    "\n",
    "interval of time to plot, when set to None, every step is covered\n",
    "\n",
    "    time_interval"
   ]
  },
  {
   "cell_type": "code",
   "execution_count": null,
   "metadata": {},
   "outputs": [],
   "source": [
    "time_range = None\n",
    "time_interval = None\n",
    "# turn on plot_axis if I want to save a complete result\n",
    "# turn off if I want to prepare for figures in a paper\n",
    "plot_axis = True\n",
    "step = [0]\n",
    "max_velocity = -1.0  # rescale the color for velocity\n",
    "\n",
    "\n",
    "PlotCase.PlotCaseRun(local_dir, time_range=time_range, run_visual=False,\\\n",
    "        time_interval=time_interval, visualization=\"paraview\", last_step=1)\n",
    "plt.close() # plot won't show up below\n",
    "\n",
    "ThDPlotCase.PlotCaseRun(local_dir, time_range=time_range, run_visual=False,\\\n",
    "        time_interval=time_interval, visualization=\"paraview\", step=step, plot_axis=plot_axis, max_velocity=max_velocity)\n",
    "plt.close() # plot won't show up below"
   ]
  },
  {
   "cell_type": "markdown",
   "metadata": {},
   "source": [
    "### Visualization, pt 1 : run paraview\n",
    "\n",
    "run the following command with the script generated in the last block:\n",
    "\n",
    "    paraview --script {paraview scripts}\n",
    "\n",
    "\n",
    "#### adjust camera, run the following in Tools -> Python Script Editor\n",
    "\n",
    "1. Upper mantle view:\n",
    "\n",
    "```\n",
    "\n",
    "# get active view\n",
    "#### import the simple module from the paraview\n",
    "from paraview.simple import *\n",
    "#### disable automatic camera reset on 'Show'\n",
    "paraview.simple._DisableFirstRenderCameraReset()\n",
    "\n",
    "# get active view\n",
    "renderView1 = GetActiveViewOrCreate('RenderView')\n",
    "\n",
    "#-----------------------------------\n",
    "# saving camera placements for views\n",
    "\n",
    "# current camera placement for renderView1\n",
    "renderView1.InteractionMode = '2D'\n",
    "renderView1.CameraPosition = [0.0, 5.6e5, 2.5e7]\n",
    "renderView1.CameraFocalPoint = [0.0, 6e6, 0.0]\n",
    "renderView1.CameraParallelScale = 4.5e5\n",
    "\n",
    "```"
   ]
  },
  {
   "cell_type": "markdown",
   "metadata": {},
   "source": [
    "### Plot Slab Morphology\n",
    "\n",
    "First analyze slab morphology (first cell).\n",
    "Then plot slab morphology (second cell).\n",
    "\n",
    "Interval to analyze.\n",
    "0.5e6 is tested to give the best results in terms of capturing the trending and smearing out minor spikes.\n",
    "\n",
    "    time_interval"
   ]
  },
  {
   "cell_type": "code",
   "execution_count": null,
   "metadata": {},
   "outputs": [],
   "source": [
    "# generate the command and run in terminal\n",
    "slab_envelop_interval_y = 20e3  # Interval along x axis to sort out the trench locations\n",
    "slab_envelop_interval_z = 20e3  # Interval along z axis to sort out the trench locations\n",
    "slab_shallow_cutoff = 40e3  # Minimum depth along z axis to sort out the trench locations\n",
    "crust_only = 1  # If we only use the crustal composition to sort out the trench locations\n",
    "time_interval = 1e6 # The interval for trench position and velocities\n",
    "\n",
    "print(\"python -m shilofue.ThDSubduction0.VtkPp morph_case -i %s -ti %.4e --slab_envelop_interval_y %.4e --slab_envelop_interval_z %.4e -ssc %.4e -co %d\"\\\n",
    "        % (local_dir, time_interval, slab_envelop_interval_y, slab_envelop_interval_z, slab_shallow_cutoff, crust_only))"
   ]
  },
  {
   "cell_type": "code",
   "execution_count": null,
   "metadata": {},
   "outputs": [],
   "source": [
    "# plot the ternch velocity\n",
    "time_interval = 1e6\n",
    "\n",
    "SlabPlot = ThDVtkPp.SLABPLOT('slab')\n",
    "SlabPlot.PlotTrenchPosition(local_dir, time_interval=time_interval)\n",
    "# SlabPlot.PlotMorph(local_dir, save_pdf=True)\n",
    "\n",
    "plt.close()"
   ]
  },
  {
   "cell_type": "code",
   "execution_count": null,
   "metadata": {},
   "outputs": [],
   "source": [
    "# plot the trench velocities in episodes\n",
    "time_interval = 1e6\n",
    "\n",
    "SlabPlot =  ThDVtkPp.SLABPLOT('slab')\n",
    "episodes = [[0, 5], [5, 20], [20, 30]]\n",
    "SlabPlot.PlotTrenchPositionEpisodes(local_dir, episodes, time_interval=time_interval)\n",
    "\n",
    "plt.close()"
   ]
  },
  {
   "cell_type": "markdown",
   "metadata": {},
   "source": [
    "### Pick Timesteps\n",
    "\n",
    "Pick in WebPlotDigitizer the time steps of:\n",
    "\n",
    "1. Slab tip reaching 660 ($t_{660}$).\n",
    "2. First peak of trench motion after $t_{660}$ ($t_{p1}$), and trench velocity\n",
    "3. Second peak of trench motion after $t_{660}$ ($t_{p2}$), and trench velocity"
   ]
  },
  {
   "cell_type": "markdown",
   "metadata": {},
   "source": [
    "### Visualization, pt 2 : save plots at these steps\n",
    "\n",
    "Navigate to the paraview_scripts/slab.py file and change the steps."
   ]
  },
  {
   "cell_type": "markdown",
   "metadata": {},
   "source": [
    "### Plot Morphology Extra : Compare Morphology\n",
    "\n",
    "Compare the slab morphology from multiple cases."
   ]
  },
  {
   "cell_type": "code",
   "execution_count": null,
   "metadata": {},
   "outputs": [],
   "source": [
    "case_name1 = \"EBA_CDPT9/eba_cdpt_SA80.0_OA40.0_pc_mei_gr10_cf25GPa_PT1800_1\"\n",
    "\n",
    "json_option =\\\n",
    "{\n",
    "    \"_comment\" : \"This is configuration for combining results of time run (time, step, dofs ...)\",\n",
    "    \"case_root\": local_TwoDSubduction_dir,\n",
    "    \"cases\": [case_name, case_name1],\n",
    "    \"output directory\": {\n",
    "        \"relative\": 1,\n",
    "        \"path\": \"plot_combine\"\n",
    "    },\n",
    "    \"width\": -1.0,\n",
    "    \"time range\": [0.0, 60e6],\n",
    "    \"trench position range\": [-200e3, 200e3],\n",
    "    \"slab depth range\": [0e3, 1800e3]\n",
    "}\n",
    "\n",
    "# print(\"json_option: \", json_option) # debug\n",
    "PlotCombineExecute(TwoDVtkPp.PLOT_COMBINE_SLAB_MORPH, TwoDVtkPp.PC_MORPH_OPT, \"slab_morph\", json_option)"
   ]
  },
  {
   "cell_type": "markdown",
   "metadata": {},
   "source": [
    "#### Make Animation\n",
    "\n",
    "First generate the script for visualizations.\n",
    "The time interval of visualizations for animation could be set through\n",
    "\n",
    "    time_interval = 0.5e6"
   ]
  },
  {
   "cell_type": "code",
   "execution_count": null,
   "metadata": {},
   "outputs": [],
   "source": [
    "# todo_ani\n",
    "\n",
    "# turn on plot_axis if I want to save a complete result\n",
    "# turn off if I want to prepare for figures in a paper\n",
    "plot_axis = True\n",
    "time_interval = 0.5e6\n",
    "max_velocity = -1.0  # rescale the color for velocity\n",
    "\n",
    "ThDPlotCase.PlotCaseRun(local_dir, time_range=None, run_visual=False,\\\n",
    "        time_interval=time_interval, visualization=\"paraview\", step=None, plot_axis=plot_axis, max_velocity=-1.0)\n",
    "plt.close() # plot won't show up below\n",
    "\n",
    "# replot the results of the morphology\n",
    "# ThDPlotCase.PlotMorphAnimeCombined(local_dir, time_interval=time_interval)\n",
    "# plt.close()"
   ]
  },
  {
   "cell_type": "markdown",
   "metadata": {},
   "source": [
    "Then run scripts with\n",
    "\n",
    "    pvpython slab.py\n",
    "\n",
    "Note this will generate the visualizations for all the steps"
   ]
  },
  {
   "cell_type": "markdown",
   "metadata": {},
   "source": [
    "Next, make the animation.\n",
    "\n",
    "Assign the duration for each frame:\n",
    "\n",
    "    duration = 0.2\n",
    "\n",
    "By default, we remove the previous results and generate new results\n",
    "\n",
    "    remove_old_results = True\n",
    "\n",
    "Two default files are imbeded with operations for chunk and box geometry.\n",
    "These operations will be performed on each figure to make the final animation."
   ]
  },
  {
   "cell_type": "code",
   "execution_count": null,
   "metadata": {},
   "outputs": [],
   "source": [
    "# this two are the json files for the order of options to do in imageio\n",
    "# following the options defined in this two files, the results would be a combination of result for\n",
    "# one single computation step.\n",
    "time_interval = 0.5e6\n",
    "duration = 0.2 # time for each frame\n",
    "remove_old_results = True\n",
    "\n",
    "default_box = os.path.join(ASPECT_LAB_DIR, \"files\", \"ThDSubduction\", \"figure_step_template_box_01212024.json\")\n",
    "\n",
    "# remove old results\n",
    "if remove_old_results:\n",
    "    temp_dir = os.path.join(local_dir, \"img\", \"pv_outputs\", \"temp\")\n",
    "    if os.path.isdir(temp_dir):\n",
    "        rmtree(temp_dir)\n",
    "\n",
    "pr_script = ThDPlotCase.PrScriptToUse(local_dir, default_box)\n",
    "Plotter = ThDPlotCase.PLOTTER(PREPARE_RESULT_OPTIONS, [ThDPlotCase.PlotCaseRun]) # note we don't want to replot things here\n",
    "PlotCase.AnimateCaseResults(Plotter.PlotPrepareResultStep, local_dir, pr_script, time_interval=time_interval, duration=duration)"
   ]
  }
 ],
 "metadata": {
  "kernelspec": {
   "display_name": "Python (aspectLib)",
   "language": "python",
   "name": "aspectlib"
  },
  "language_info": {
   "codemirror_mode": {
    "name": "ipython",
    "version": 3
   },
   "file_extension": ".py",
   "mimetype": "text/x-python",
   "name": "python",
   "nbconvert_exporter": "python",
   "pygments_lexer": "ipython3",
   "version": "3.7.13"
  },
  "orig_nbformat": 4
 },
 "nbformat": 4,
 "nbformat_minor": 2
}
