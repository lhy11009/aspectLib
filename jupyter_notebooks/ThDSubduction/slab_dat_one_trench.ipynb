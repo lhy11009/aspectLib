{
 "cells": [
  {
   "cell_type": "code",
   "execution_count": null,
   "metadata": {},
   "outputs": [],
   "source": [
    "import sys\n",
    "import gplately\n",
    "import numpy as np\n",
    "import gplately.pygplates as pygplates\n",
    "from gplately import ptt\n",
    "import glob, os\n",
    "import pandas as pd\n",
    "import matplotlib.pyplot as plt\n",
    "import cartopy.crs as ccrs\n",
    "from plate_model_manager import PlateModelManager\n",
    "import json\n",
    "\n",
    "# directory to the aspect Lab\n",
    "ASPECT_LAB_DIR = os.environ['ASPECT_LAB_DIR']\n",
    "sys.path.append(ASPECT_LAB_DIR)\n",
    "RESULT_DIR = os.path.join(ASPECT_LAB_DIR, 'results')\n",
    "import shilofue.GPlateLib as GPlateLib\n",
    "# import utilities in subdirectiory\n",
    "sys.path.append(os.path.join(ASPECT_LAB_DIR, 'utilities', \"python_scripts\"))\n",
    "import Utilities"
   ]
  },
  {
   "cell_type": "markdown",
   "metadata": {},
   "source": [
    "### Define the work flow to process and plot one trench\n",
    "\n",
    "The GPLATE_CLASS assembles the function for plate reconstruction and oceanic plate ages.\n",
    "Using this class, we could get the subduction dataset from reconstruction.\n",
    "Last, we resample the trench with sample points.\n",
    "\n",
    "To do this, We select a trench by id and assign a time for reconstruction."
   ]
  },
  {
   "cell_type": "code",
   "execution_count": null,
   "metadata": {},
   "outputs": [],
   "source": [
    "# initiate the class\n",
    "GClass = GPlateLib.GPLATE_CLASS()"
   ]
  },
  {
   "cell_type": "code",
   "execution_count": null,
   "metadata": {},
   "outputs": [],
   "source": [
    "# assign a reconstruction time\n",
    "reconstruction_time=0 # time of reconstruction, must be integar\n",
    "\n",
    "GClass.SetReconstructionTime(reconstruction_time)\n",
    "GClass.Reconstruct()\n",
    "\n",
    "# assign the trench id for south america\n",
    "trench_id = 201\n",
    "\n",
    "one_subduction_data = GClass.GetOneSubductionByTrenchId(trench_id)\n",
    "\n",
    "# plot the reconstructed zone\n",
    "fig = plt.figure(figsize=(10,6), dpi=100)\n",
    "\n",
    "ax = fig.add_subplot(111, projection=ccrs.Mollweide(central_longitude = 0))\n",
    "gl=ax.gridlines(color='0.7',linestyle='--', xlocs=np.arange(-180,180,15), ylocs=np.arange(-90,90,15))\n",
    "gl.left_labels = True\n",
    "\n",
    "plt.title(f'{reconstruction_time} Ma')\n",
    "# you may change the extent to global to see the sample points in a world map.\n",
    "ax.set_global()\n",
    "# ax.set_extent([-80,0,-70,0])\n",
    "\n",
    "# plot the coastline\n",
    "GClass.PlotCoastlines(ax)\n",
    "\n",
    "# plot the subduction zone\n",
    "cb = GPlateLib.plot_one_subduction_data(ax, one_subduction_data)\n",
    "\n",
    "cbar = plt.colorbar(cb)\n",
    "cbar.ax.get_yaxis().labelpad = 15\n",
    "cbar.ax.set_ylabel('Convergence Velocity Magnitude (in cm/yr)', rotation=90)\n",
    "plt.show()"
   ]
  },
  {
   "cell_type": "code",
   "execution_count": null,
   "metadata": {},
   "outputs": [],
   "source": [
    "# resample by a give arc length edge and resample section\n",
    "\n",
    "arc_length_edge = 5.0  # by degree\n",
    "arc_length_resample_section = 10.0\n",
    "\n",
    "one_subduction_data_resampled, log_output_contents_temp= GClass.ResampleSubductionById(trench_id, arc_length_edge, arc_length_resample_section)\n",
    "print(one_subduction_data_resampled)\n",
    "\n",
    "# plot the reconstructed zone\n",
    "\n",
    "fig = plt.figure(figsize=(10,6), dpi=100)\n",
    "ax = fig.add_subplot(111, projection=ccrs.Mollweide(central_longitude = 0))\n",
    "\n",
    "gl=ax.gridlines(color='0.7',linestyle='--', xlocs=np.arange(-180,180,15), ylocs=np.arange(-90,90,15))\n",
    "gl.left_labels = True\n",
    "\n",
    "plt.title(f'{reconstruction_time} Ma')\n",
    "# you may change the extent to global to see the sample points in a world map.\n",
    "ax.set_global()\n",
    "# ax.set_extent([-80,0,-70,0])\n",
    "\n",
    "# plot the coastline\n",
    "GClass.PlotCoastlines(ax)\n",
    "\n",
    "# plot the subduction zone\n",
    "cb = GPlateLib.plot_one_subduction_data(ax, one_subduction_data_resampled)\n",
    "\n",
    "cbar = plt.colorbar(cb)\n",
    "cbar.ax.get_yaxis().labelpad = 15\n",
    "cbar.ax.set_ylabel('Convergence Velocity Magnitude (in cm/yr)', rotation=90)\n",
    "plt.show()"
   ]
  }
 ],
 "metadata": {
  "interpreter": {
   "hash": "726ad8a1722503d634209b7cb22775ac4f9ec70a5cb972c6abfb4d519e6e6128"
  },
  "kernelspec": {
   "display_name": "Python 3.11.9 ('py-gplate')",
   "language": "python",
   "name": "python3"
  },
  "language_info": {
   "codemirror_mode": {
    "name": "ipython",
    "version": 3
   },
   "file_extension": ".py",
   "mimetype": "text/x-python",
   "name": "python",
   "nbconvert_exporter": "python",
   "pygments_lexer": "ipython3",
   "version": "3.11.9"
  },
  "orig_nbformat": 4
 },
 "nbformat": 4,
 "nbformat_minor": 2
}
