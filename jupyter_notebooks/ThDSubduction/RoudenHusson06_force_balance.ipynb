{
 "cells": [
  {
   "cell_type": "code",
   "execution_count": null,
   "metadata": {},
   "outputs": [],
   "source": [
    "import os, sys\n",
    "import numpy as np\n",
    "from matplotlib import pyplot as plt\n",
    "from matplotlib import gridspec\n",
    "\n",
    "# directory to the aspect Lab\n",
    "ASPECT_LAB_DIR = os.environ['ASPECT_LAB_DIR']\n",
    "RESULT_DIR = os.path.join(ASPECT_LAB_DIR, 'results')\n",
    "\n",
    "sys.path.append(os.path.join(ASPECT_LAB_DIR))\n",
    "\n",
    "import shilofue.ThDSubduction0.RoydenHusson06 as RH06"
   ]
  },
  {
   "cell_type": "markdown",
   "metadata": {},
   "source": [
    "### Slab and Force balances\n",
    "\n",
    "![](./RH06_fig02.png)"
   ]
  },
  {
   "cell_type": "markdown",
   "metadata": {},
   "source": [
    "### Assign an initial slab\n",
    "\n",
    "\n",
    "calculate_SigN_Tau(): calculate shear stress and normal stresses\n",
    "\n",
    "Vs and no Vn: only along slab sinking (pay attention to the direction of Vs)"
   ]
  },
  {
   "cell_type": "code",
   "execution_count": null,
   "metadata": {},
   "outputs": [],
   "source": [
    "# initiation of a slab\n",
    "lbd = 700e3\n",
    "yr = 365.0 * 24.0 * 3600.0\n",
    "cm_per_yr = 1e-2 / yr\n",
    "mu = 1e20\n",
    "Vs = -1.0 * cm_per_yr\n",
    "\n",
    "Slab = RH06.SLAB(lbd, mu)\n",
    "Slab.InitiateProfile(800e3, np.pi/4.0)\n",
    "Slab.UpdateVs(Vs)\n",
    "Slab.calculate_SigN_Tau()\n",
    "\n",
    "fig = plt.figure(tight_layout=True, figsize=(6, 10))\n",
    "gs = gridspec.GridSpec(2,1)\n",
    "ax1 = fig.add_subplot(gs[0, 0])\n",
    "ax2 = fig.add_subplot(gs[1, 0])\n",
    "\n",
    "Slab.PlotProfile(ax=ax1)\n",
    "Slab.PlotStresses(ax=ax2)"
   ]
  }
 ],
 "metadata": {
  "interpreter": {
   "hash": "04f94a466fc6855f7f994dd3204adbc7760ad767ef3aef9ead569409decf9820"
  },
  "kernelspec": {
   "display_name": "Python 3.7.13 ('aspectLib')",
   "language": "python",
   "name": "python3"
  },
  "language_info": {
   "codemirror_mode": {
    "name": "ipython",
    "version": 3
   },
   "file_extension": ".py",
   "mimetype": "text/x-python",
   "name": "python",
   "nbconvert_exporter": "python",
   "pygments_lexer": "ipython3",
   "version": "3.7.13"
  },
  "orig_nbformat": 4
 },
 "nbformat": 4,
 "nbformat_minor": 2
}
