{
 "cells": [
  {
   "attachments": {},
   "cell_type": "markdown",
   "metadata": {},
   "source": [
    "## Plot profiles from HeFESTO & Perplex outputs\n",
    "\n",
    "In this cookbook, the profile outputs from HeFESTO is plotted. THe outpus must be generated with a single T / S and depth-varing pressures."
   ]
  },
  {
   "cell_type": "code",
   "execution_count": null,
   "metadata": {},
   "outputs": [],
   "source": [
    "import os, sys\n",
    "import numpy as np\n",
    "from shutil import rmtree, copy\n",
    "from matplotlib import pyplot as plt\n",
    "from matplotlib import gridspec, cm\n",
    "\n",
    "# directory to the aspect Lab\n",
    "ASPECT_LAB_DIR = os.environ['ASPECT_LAB_DIR']\n",
    "RESULT_DIR = os.path.join(ASPECT_LAB_DIR, 'results')\n",
    "\n",
    "sys.path.append(os.path.join(ASPECT_LAB_DIR))\n",
    "# import shilofue.PlotDepthAverage as PDAver\n",
    "# import shilofue.FlowLaws as FlowLaws\n",
    "# import shilofue.ParsePrm as ParsePrm\n",
    "# import shilofue.ThermalModel as TModel\n",
    "# import shilofue.Rheology as Rheology\n",
    "import shilofue.PostHefesto as PostHefesto\n",
    "\n",
    "# import utilities in subdirectiory\n",
    "sys.path.append(os.path.join(ASPECT_LAB_DIR, 'utilities', \"python_scripts\"))\n",
    "import Utilities"
   ]
  },
  {
   "attachments": {},
   "cell_type": "markdown",
   "metadata": {},
   "source": [
    "#### Plot profile I got from Gabe Epstein\n",
    "\n",
    "In the next block, I plot the output of Garnet fraction of a NMORB composition from PerPle_X.\n",
    "Gabe sent me the files in 11-2023.\n",
    "I use the pcolormesh to color-mesh the garnet fraction and then plot a couple coutours on top."
   ]
  },
  {
   "cell_type": "code",
   "execution_count": null,
   "metadata": {},
   "outputs": [],
   "source": [
    "plt.style.use('publication_lhy11009')\n",
    "\n",
    "perplex_path = \"/home/lochy/Documents/papers/documented_files/TwoDSubduction/morb_green/morb_green_finev3_7.tab\"\n",
    "assert(os.path.isfile(perplex_path))\n",
    "\n",
    "LookupTable = PostHefesto.LOOKUP_TABLE()\n",
    "LookupTable.ReadPerplex(perplex_path, header_rows=13)\n",
    "LookupTable.Update()\n",
    "print(LookupTable.AllFields())\n",
    "LookupTable.fix_field_nan_value(\"Gt_HGP\", 0.0)\n",
    "LookupTable.fix_field_nan_value(\"Omph_GHP\", 0.0)\n",
    "Ts, Ps, Gt_HGPs = LookupTable.export_field_mesh(\"Gt_HGP\")\n",
    "Ts, Ps, Omph_HGPs = LookupTable.export_field_mesh(\"Omph_GHP\")"
   ]
  },
  {
   "cell_type": "code",
   "execution_count": null,
   "metadata": {},
   "outputs": [],
   "source": [
    "# Ts = LookupTable.export_field('Temperature')\n",
    "# Ps = LookupTable.export_field('Pressure')\n",
    "# Gt_HGPs = LookupTable.export_field('Gt_HGP')\n",
    "\n",
    "fig = plt.figure(tight_layout=True, figsize=(10.0, 10.0))\n",
    "gs = gridspec.GridSpec(2, 2)\n",
    "\n",
    "# garnet volume fraction\n",
    "ax = fig.add_subplot(gs[0, 0])\n",
    "h = ax.pcolormesh(Ts, Ps/1e4, Gt_HGPs, vmin=0.0, vmax=70.0)\n",
    "ax.contour(Ts, Ps/1e4, Gt_HGPs, (10, 20, 40), cmap=\"Greys\", linestyles=\"dashed\")\n",
    "fig.colorbar(h, ax=ax, label=\"Garnet (vol%)\")\n",
    "ax.set_xlabel(\"T (K)\")\n",
    "ax.set_ylabel(\"P (GPa)\")\n",
    "fig.tight_layout()\n",
    "\n",
    "# clinopyroxene volume fraction\n",
    "ax = fig.add_subplot(gs[0, 1])\n",
    "h = ax.pcolormesh(Ts, Ps/1e4, Omph_HGPs, vmin=0.0, vmax=70.0)\n",
    "ax.contour(Ts, Ps/1e4, Omph_HGPs, (10, 20, 40), cmap=\"Greys\", linestyles=\"dashed\")\n",
    "fig.colorbar(h, ax=ax, label=\"Clinopyroxene (vol%)\")\n",
    "ax.set_xlabel(\"T (K)\")\n",
    "ax.set_ylabel(\"P (GPa)\")\n",
    "fig.tight_layout()\n",
    "\n",
    "# garnet + clinopyroxene volume fraction\n",
    "ax = fig.add_subplot(gs[1, 0])\n",
    "h = ax.pcolormesh(Ts, Ps/1e4, Gt_HGPs + Omph_HGPs, vmin=0.0, vmax=70.0)\n",
    "ax.contour(Ts, Ps/1e4, Gt_HGPs + Omph_HGPs, (10, 20, 40), cmap=\"Greys\", linestyles=\"dashed\")\n",
    "fig.colorbar(h, ax=ax, label=\"Garnet + Clinopyroxene (vol%)\")\n",
    "ax.set_xlabel(\"T (K)\")\n",
    "ax.set_ylabel(\"P (GPa)\")\n",
    "fig.tight_layout()\n",
    "\n",
    "fig_path = os.path.join(RESULT_DIR, \"Perple_X_morb_garnet.pdf\")\n",
    "fig.savefig(fig_path)\n",
    "print(\"Figure saved: %s\" % fig_path)"
   ]
  },
  {
   "cell_type": "code",
   "execution_count": null,
   "metadata": {},
   "outputs": [],
   "source": [
    "print(LookupTable.header)"
   ]
  },
  {
   "cell_type": "markdown",
   "metadata": {},
   "source": [
    "#### Table to export to ASPECT\n",
    "\n",
    "Pay attention to the first dimension (T) and the second dimension (P)\n",
    "\n",
    "These values has to be passed to the function \"Process\" correctly"
   ]
  },
  {
   "cell_type": "code",
   "execution_count": null,
   "metadata": {},
   "outputs": [],
   "source": [
    "Gt_HGP_array = LookupTable.export_field(\"Gt_HGP\")\n",
    "Omph_HGP_array = LookupTable.export_field(\"Omph_GHP\")\n",
    "\n",
    "EC_array = Gt_HGP_array + Omph_HGP_array\n",
    "EC_percent_array = EC_array / 100.0\n",
    "new_name = \"eclogite\"\n",
    "oheader = \"vol_fraction_eclogite\"\n",
    "LookupTable.CreateNew(EC_percent_array.reshape([EC_percent_array.size, 1]), new_name, oheader)\n",
    "\n",
    "field_names = [\"Temperature\", 'Pressure', 'Density', new_name]\n",
    "# o_path = os.path.join(RESULT_DIR, \"perplex_morb_test.txt\")\n",
    "o_path = os.path.join(RESULT_DIR, \"perplex_morb_test_small.txt\")\n",
    "LookupTable.Process(field_names, o_path, first_dimension=\"Temperature\", second_dimension=\"Pressure\", interval1=10, interval2=10)"
   ]
  }
 ],
 "metadata": {
  "kernelspec": {
   "display_name": "aspectLib",
   "language": "python",
   "name": "python3"
  },
  "language_info": {
   "codemirror_mode": {
    "name": "ipython",
    "version": 3
   },
   "file_extension": ".py",
   "mimetype": "text/x-python",
   "name": "python",
   "nbconvert_exporter": "python",
   "pygments_lexer": "ipython3",
   "version": "3.7.13"
  }
 },
 "nbformat": 4,
 "nbformat_minor": 2
}
