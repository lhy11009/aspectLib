{
 "cells": [
  {
   "cell_type": "markdown",
   "metadata": {},
   "source": [
    "## Generate HeFESTo lookup table for ASPECT"
   ]
  },
  {
   "cell_type": "code",
   "execution_count": 1,
   "metadata": {},
   "outputs": [],
   "source": [
    "import os, sys\n",
    "import numpy as np\n",
    "from shutil import rmtree, copy\n",
    "from matplotlib import pyplot as plt\n",
    "from matplotlib import gridspec, cm\n",
    "\n",
    "# directory to the aspect Lab\n",
    "ASPECT_LAB_DIR = os.environ['ASPECT_LAB_DIR']\n",
    "RESULT_DIR = os.path.join(ASPECT_LAB_DIR, 'results')\n",
    "\n",
    "sys.path.append(os.path.join(ASPECT_LAB_DIR))\n",
    "import shilofue.PostHefesto as PostHefesto\n",
    "\n",
    "# import utilities in subdirectiory\n",
    "sys.path.append(os.path.join(ASPECT_LAB_DIR, 'utilities', \"python_scripts\"))\n",
    "import Utilities\n",
    "\n",
    "# if we have set up a project directory, use it for the following paths\n",
    "project_dir = os.environ[\"HeFESTo_DIR\"]"
   ]
  },
  {
   "cell_type": "markdown",
   "metadata": {},
   "source": [
    "### Convert fort.56 file from HeFESTo to importable table to ASPECT for the T, P table\n",
    "\n",
    "#### 1. Assign the path to the \"fort.56\" file below.\n",
    "\n",
    "#### 2. Assign the path of the output.\n",
    "\n",
    "For ASPECT to import the table, we need both the correct format of the table header and the two dimentional variables in the first, second columns.\n",
    "To Do the conversion, the following flocks are needed.\n",
    "\n",
    "First the P-T table."
   ]
  },
  {
   "cell_type": "code",
   "execution_count": 2,
   "metadata": {},
   "outputs": [],
   "source": [
    "# P T table\n",
    "project_dir = os.environ[\"HeFESTo_DIR\"]\n",
    "\n",
    "case_dir = os.path.join(project_dir, \"hefesto_pyrolite_P_T\")\n",
    "\n",
    "assert(os.path.isdir(case_dir))"
   ]
  },
  {
   "cell_type": "markdown",
   "metadata": {},
   "source": [
    "#### First we assembles sub tables from parallel runs\n",
    "\n",
    "The HeFESTo code is parallel with slurm, so the fort.56 files are distributed by the threads.\n",
    "The first step is to find all the fort.56 outputs and combine them into a collective one.\n",
    "\n",
    "The output file will be automatically saved to this location:\n",
    "\n",
    "    output/fort.56"
   ]
  },
  {
   "cell_type": "code",
   "execution_count": null,
   "metadata": {},
   "outputs": [],
   "source": [
    "# assemble\n",
    "# PostHefesto.AssembleParallelFiles(case_dir)"
   ]
  },
  {
   "cell_type": "markdown",
   "metadata": {},
   "source": [
    "#### Generate table for ASPECT\n",
    "\n",
    "Before the table is ready for ASPECT, we check that the data aligned in the two dimentions and then we properly add a header to the table\n",
    "\n",
    "This might not work at first try.\n",
    "The outputs from HeFESTo could be messed up if there is a long string, like this example:\n",
    "\n",
    "    3.5274338280952606-2782772.4668332533910871\n",
    "\n",
    "We need to first add a blank in between:\n",
    "\n",
    "    3.5274338280952606 -2782772.4668332533910871\n",
    "\n",
    "The options of \n",
    "\n",
    "    exchange_dimension=True\n",
    "\n",
    "would exchange the 1st and 2nd dimensions of the output. In this case, I use it to first output the temperature"
   ]
  },
  {
   "cell_type": "code",
   "execution_count": null,
   "metadata": {},
   "outputs": [
    {
     "name": "stdout",
     "output_type": "stream",
     "text": [
      "ReadRawFort56: reading file\n"
     ]
    },
    {
     "name": "stdout",
     "output_type": "stream",
     "text": [
      "ReadRawFort56: data dimension:  (729885, 18)\n",
      "Process begin indexing\n",
      "Process finish indexing\n",
      "OutputPerplexTable: Outputing Data\n",
      "Outputing fields: ['Pressure', 'Temperature', 'Entropy', 'Density', 'Thermal_expansivity', 'Isobaric_heat_capacity', 'VP', 'VS', 'Enthalpy', 'most abundant phase']\n",
      "first dimension:  10 , second dimension:  1 , size: 10\n",
      "New file generated: /mnt/lochy/ASPECT_DATA/HeFESTo/hefesto_pyrolite_P_T/output/pyrolite_PT_small.txt\n"
     ]
    }
   ],
   "source": [
    "# generate table\n",
    "\n",
    "input_file = os.path.join(case_dir, \"output/fort.56\")\n",
    "# output_file = os.path.join(case_dir, \"output/pyrolite_PT.txt\")\n",
    "output_file = os.path.join(case_dir, \"output/pyrolite_PT_small.txt\")\n",
    "\n",
    "interval1=284; interval2=2560\n",
    "\n",
    "exchange_dimension=True\n",
    "\n",
    "# assert input file exists\n",
    "assert(os.path.isfile(input_file))\n",
    "\n",
    "if (os.path.isfile(output_file)):  # remove old files\n",
    "    os.remove(output_file)\n",
    "\n",
    "# read input\n",
    "LookupTable = PostHefesto.LOOKUP_TABLE()\n",
    "LookupTable.ReadRawFort56(input_file)\n",
    "\n",
    "# process output\n",
    "field_names = ['Pressure', 'Temperature', \"Entropy\", 'Density', 'Thermal_expansivity', 'Isobaric_heat_capacity',\\\n",
    "                'VP', 'VS', 'Enthalpy', \"most abundant phase\"]\n",
    "maph_lookup = [\"pv\"]\n",
    "LookupTable.Process(field_names, output_file, interval1=interval1, interval2=interval2, file_type=\"structured\",\\\n",
    "                    fix_coordinate_minor=True, exchange_dimension=exchange_dimension, maph_lookup=maph_lookup)\n",
    "\n",
    "# assert something \n",
    "assert(os.path.isfile(output_file))"
   ]
  },
  {
   "cell_type": "markdown",
   "metadata": {},
   "source": [
    "### Convert fort.56 file from HeFESTo to importable table to ASPECT for the P, S table"
   ]
  },
  {
   "cell_type": "code",
   "execution_count": null,
   "metadata": {},
   "outputs": [],
   "source": [
    "# P S table\n",
    "case_dir = os.path.join(project_dir, \"hefesto_pyrolite_P_S\")\n",
    "assert(os.path.isdir(case_dir))"
   ]
  },
  {
   "cell_type": "code",
   "execution_count": null,
   "metadata": {},
   "outputs": [],
   "source": [
    "# assemble\n",
    "PostHefesto.AssembleParallelFiles(case_dir)"
   ]
  },
  {
   "cell_type": "markdown",
   "metadata": {},
   "source": [
    "The options of \n",
    "\n",
    "    exchange_dimension=True\n",
    "\n",
    "would exchange the 1st and 2nd dimensions of the output. In this case, I use it to first output the entropy"
   ]
  },
  {
   "cell_type": "code",
   "execution_count": null,
   "metadata": {},
   "outputs": [],
   "source": [
    "# generate table\n",
    "\n",
    "interval1=10; interval2=5\n",
    "\n",
    "input_file = os.path.join(case_dir, \"output/fort.56\")\n",
    "output_file = os.path.join(case_dir, \"output/pyrolite_PS_10252024.txt\")\n",
    "\n",
    "# exchange 1st and 2nd dimensions\n",
    "exchange_dimension=True\n",
    "\n",
    "# assert input file exists\n",
    "assert(os.path.isfile(input_file))\n",
    "\n",
    "if (os.path.isfile(output_file)):  # remove old files\n",
    "    os.remove(output_file)\n",
    "\n",
    "# read input\n",
    "LookupTable = PostHefesto.LOOKUP_TABLE()\n",
    "LookupTable.ReadRawFort56(input_file)\n",
    "\n",
    "# process output\n",
    "# note: now the output for \"most abundant phase\" has a formatting error\n",
    "field_names = ['Pressure', 'Entropy', 'Temperature', 'Density', 'Thermal_expansivity', 'Isobaric_heat_capacity', 'VP', 'VS', 'Enthalpy', \"most abundant phase\"]\n",
    "maph_lookup = [\"pv\"]\n",
    "LookupTable.Process(field_names, output_file, interval1=interval1, interval2=interval2, second_dimension=\"Entropy\", file_type=\"structured\",\\\n",
    "                    fix_coordinate_minor=True, exchange_dimension=exchange_dimension, maph_lookup=maph_lookup)\n",
    "\n",
    "# assert something \n",
    "assert(os.path.isfile(output_file))"
   ]
  },
  {
   "cell_type": "code",
   "execution_count": null,
   "metadata": {},
   "outputs": [],
   "source": [
    "# LookupTable.data[0, 16]\n",
    "LookupTable.data[0, 17]"
   ]
  }
 ],
 "metadata": {
  "kernelspec": {
   "display_name": "aspectLib",
   "language": "python",
   "name": "python3"
  },
  "language_info": {
   "codemirror_mode": {
    "name": "ipython",
    "version": 3
   },
   "file_extension": ".py",
   "mimetype": "text/x-python",
   "name": "python",
   "nbconvert_exporter": "python",
   "pygments_lexer": "ipython3",
   "version": "3.7.13"
  },
  "orig_nbformat": 4
 },
 "nbformat": 4,
 "nbformat_minor": 2
}
