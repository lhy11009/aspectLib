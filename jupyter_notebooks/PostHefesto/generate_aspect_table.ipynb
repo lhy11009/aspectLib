{
 "cells": [
  {
   "cell_type": "markdown",
   "metadata": {},
   "source": [
    "## Generate HeFESTo lookup table for ASPECT"
   ]
  },
  {
   "cell_type": "code",
   "execution_count": null,
   "metadata": {},
   "outputs": [],
   "source": [
    "import os, sys\n",
    "import numpy as np\n",
    "from shutil import rmtree, copy\n",
    "from matplotlib import pyplot as plt\n",
    "from matplotlib import gridspec, cm\n",
    "\n",
    "# directory to the aspect Lab\n",
    "ASPECT_LAB_DIR = os.environ['ASPECT_LAB_DIR']\n",
    "RESULT_DIR = os.path.join(ASPECT_LAB_DIR, 'results')\n",
    "\n",
    "sys.path.append(os.path.join(ASPECT_LAB_DIR))\n",
    "import shilofue.PostHefesto as PostHefesto\n",
    "\n",
    "# import utilities in subdirectiory\n",
    "sys.path.append(os.path.join(ASPECT_LAB_DIR, 'utilities', \"python_scripts\"))\n",
    "import Utilities\n",
    "\n",
    "# if we have set up a project directory, use it for the following paths\n",
    "project_dir = os.environ[\"HeFESTo_DIR\"]"
   ]
  },
  {
   "cell_type": "markdown",
   "metadata": {},
   "source": [
    "### Convert fort.56 file from HeFESTo to importable table to ASPECT\n",
    "\n",
    "#### 1. Assign the path to the \"fort.56\" file below.\n",
    "\n",
    "#### 2. Assign the path of the output.\n",
    "\n",
    "For ASPECT to import the table, we need both the correct format of the table header and the two dimentional variables in the first, second columns.\n",
    "To Do the conversion, the following flocks are needed.\n",
    "\n",
    "First the P-T table."
   ]
  },
  {
   "cell_type": "code",
   "execution_count": null,
   "metadata": {},
   "outputs": [],
   "source": [
    "# P T table\n",
    "project_dir = os.environ[\"HeFESTo_DIR\"]\n",
    "\n",
    "case_dir = os.path.join(project_dir, \"hefesto_pyrolite_P_T\")\n",
    "\n",
    "assert(os.path.isdir(case_dir))"
   ]
  },
  {
   "cell_type": "markdown",
   "metadata": {},
   "source": [
    "#### First we assembles sub tables from parallel runs\n",
    "\n",
    "The HeFESTo code is parallel with slurm, so the fort.56 files are distributed by the threads.\n",
    "The first step is to find all the fort.56 outputs and combine them into a collective one.\n",
    "\n",
    "The output file will be automatically saved to this location:\n",
    "\n",
    "    output/fort.56"
   ]
  },
  {
   "cell_type": "code",
   "execution_count": null,
   "metadata": {},
   "outputs": [],
   "source": [
    "# assemble\n",
    "PostHefesto.AssembleParallelFiles(case_dir)"
   ]
  },
  {
   "cell_type": "markdown",
   "metadata": {},
   "source": [
    "#### Generate table for ASPECT\n",
    "\n",
    "Before the table is ready for ASPECT, we check that the data aligned in the two dimentions and then we properly add a header to the table\n",
    "\n",
    "This might not work at first try.\n",
    "The outputs from HeFESTo could be messed up if there is a long string, like this example:\n",
    "\n",
    "    3.5274338280952606-2782772.4668332533910871\n",
    "\n",
    "We need to first add a blank in between:\n",
    "\n",
    "    3.5274338280952606 -2782772.4668332533910871"
   ]
  },
  {
   "cell_type": "code",
   "execution_count": null,
   "metadata": {},
   "outputs": [],
   "source": [
    "# generate table\n",
    "\n",
    "input_file = os.path.join(case_dir, \"output/fort.56\")\n",
    "output_file = os.path.join(case_dir, \"output/pyrolite_PT.txt\")\n",
    "\n",
    "# assert input file exists\n",
    "assert(os.path.isfile(input_file))\n",
    "\n",
    "if (os.path.isfile(output_file)):  # remove old files\n",
    "    os.remove(output_file)\n",
    "\n",
    "# read input\n",
    "LookupTable = PostHefesto.LOOKUP_TABLE()\n",
    "LookupTable.ReadRawFort56(input_file)\n",
    "\n",
    "# process output\n",
    "field_names = ['Pressure', 'Temperature', \"Entropy\", 'Density', 'Thermal_expansivity', 'Isobaric_heat_capacity', 'VP', 'VS', 'Enthalpy']\n",
    "LookupTable.Process(field_names, output_file, interval1=1, interval2=1, file_type=\"structured\", fix_coordinate_minor=True)\n",
    "\n",
    "# assert something \n",
    "assert(os.path.isfile(output_file))"
   ]
  },
  {
   "cell_type": "markdown",
   "metadata": {},
   "source": [
    "#### Additional step: sync to remote\n",
    "\n",
    "I prefer to distribute the tables under the aspect/lookup_tables.\n",
    "This way makes it easier to run in aspect using the ASPECT_SOURCE_DIR variable\n",
    "\n",
    "One needs to open a terminal and the run the rsync command"
   ]
  },
  {
   "cell_type": "code",
   "execution_count": null,
   "metadata": {},
   "outputs": [],
   "source": [
    "# additional step: sync to remote\n",
    "rsync_flag=\"-avu --progress\"\n",
    "server=\"peloton\"\n",
    "remote_aspect_source_dir=\"/group/billengrp/lochy/softwares/aspect\"\n",
    "case_base_name = os.path.basename(case_dir)\n",
    "rsync_command = \"rsync %s %s %s:%s/lookup_tables/%s/\" % (rsync_flag, output_file, server, remote_aspect_source_dir, case_base_name)\n",
    "print(\"To sync to solver:\\n\" + rsync_command)"
   ]
  },
  {
   "cell_type": "markdown",
   "metadata": {},
   "source": [
    "#### Then repeat the same procedures for the P S table:"
   ]
  },
  {
   "cell_type": "code",
   "execution_count": null,
   "metadata": {},
   "outputs": [],
   "source": [
    "# P S table\n",
    "case_dir = os.path.join(project_dir, \"hefesto_pyrolite_P_S\")\n",
    "assert(os.path.isdir(case_dir))"
   ]
  },
  {
   "cell_type": "code",
   "execution_count": null,
   "metadata": {},
   "outputs": [],
   "source": [
    "# assemble\n",
    "PostHefesto.AssembleParallelFiles(case_dir)"
   ]
  },
  {
   "cell_type": "code",
   "execution_count": null,
   "metadata": {},
   "outputs": [],
   "source": [
    "# generate table\n",
    "\n",
    "input_file = os.path.join(case_dir, \"output/fort.56\")\n",
    "output_file = os.path.join(case_dir, \"output/pyrolite_PS.txt\")\n",
    "\n",
    "# assert input file exists\n",
    "assert(os.path.isfile(input_file))\n",
    "\n",
    "if (os.path.isfile(output_file)):  # remove old files\n",
    "    os.remove(output_file)\n",
    "\n",
    "# read input\n",
    "LookupTable = PostHefesto.LOOKUP_TABLE()\n",
    "LookupTable.ReadRawFort56(input_file)\n",
    "\n",
    "# process output\n",
    "field_names = ['Pressure', 'Entropy', 'Temperature', 'Density', 'Thermal_expansivity', 'Isobaric_heat_capacity', 'VP', 'VS', 'Enthalpy']\n",
    "LookupTable.Process(field_names, output_file, interval1=1, interval2=1, second_dimension=\"Entropy\", file_type=\"structured\", fix_coordinate_minor=True)\n",
    "\n",
    "# assert something \n",
    "assert(os.path.isfile(output_file))"
   ]
  },
  {
   "cell_type": "code",
   "execution_count": null,
   "metadata": {},
   "outputs": [],
   "source": [
    "# additional step: sync to remote\n",
    "rsync_flag=\"-avu --progress\"\n",
    "server=\"peloton\"\n",
    "remote_aspect_source_dir=\"/group/billengrp/lochy/softwares/aspect\"\n",
    "case_base_name = os.path.basename(case_dir)\n",
    "rsync_command = \"rsync %s %s %s:%s/lookup_tables/%s/\" % (rsync_flag, output_file, server, remote_aspect_source_dir, case_base_name)\n",
    "print(\"To sync to solver:\\n\" + rsync_command)"
   ]
  }
 ],
 "metadata": {
  "kernelspec": {
   "display_name": "Python (aspectLib)",
   "language": "python",
   "name": "aspectlib"
  },
  "language_info": {
   "codemirror_mode": {
    "name": "ipython",
    "version": 3
   },
   "file_extension": ".py",
   "mimetype": "text/x-python",
   "name": "python",
   "nbconvert_exporter": "python",
   "pygments_lexer": "ipython3",
   "version": "3.7.13"
  },
  "orig_nbformat": 4
 },
 "nbformat": 4,
 "nbformat_minor": 2
}
