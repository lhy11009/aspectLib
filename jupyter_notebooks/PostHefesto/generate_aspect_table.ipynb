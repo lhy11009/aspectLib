{
 "cells": [
  {
   "cell_type": "markdown",
   "metadata": {},
   "source": [
    "## Generate HeFESTo lookup table for ASPEFT"
   ]
  },
  {
   "cell_type": "code",
   "execution_count": null,
   "metadata": {},
   "outputs": [],
   "source": [
    "import os, sys\n",
    "import numpy as np\n",
    "from shutil import rmtree, copy\n",
    "from matplotlib import pyplot as plt\n",
    "from matplotlib import gridspec, cm\n",
    "\n",
    "# directory to the aspect Lab\n",
    "ASPECT_LAB_DIR = os.environ['ASPECT_LAB_DIR']\n",
    "RESULT_DIR = os.path.join(ASPECT_LAB_DIR, 'results')\n",
    "\n",
    "sys.path.append(os.path.join(ASPECT_LAB_DIR))\n",
    "# import shilofue.PlotDepthAverage as PDAver\n",
    "# import shilofue.FlowLaws as FlowLaws\n",
    "# import shilofue.ParsePrm as ParsePrm\n",
    "# import shilofue.ThermalModel as TModel\n",
    "# import shilofue.Rheology as Rheology\n",
    "import shilofue.PostHefesto as PostHefesto\n",
    "\n",
    "# import utilities in subdirectiory\n",
    "sys.path.append(os.path.join(ASPECT_LAB_DIR, 'utilities', \"python_scripts\"))\n",
    "import Utilities"
   ]
  },
  {
   "cell_type": "markdown",
   "metadata": {},
   "source": [
    "### Convert fort.56 file from HeFESTo to importable table to ASPECT\n",
    "\n",
    "#### 1. Assign the path to the \"fort.56\" file below.\n",
    "\n",
    "#### 2. Assign the path of the output.\n",
    "\n",
    "For ASPECT to import the table, we need both the correct format of the table header and the two dimentional variables in the first, second columns.\n",
    "To Do the conversion, the following flocks are needed.\n",
    "\n",
    "First the P-T table."
   ]
  },
  {
   "cell_type": "code",
   "execution_count": null,
   "metadata": {},
   "outputs": [],
   "source": [
    "# P T table\n",
    "input_file = \"/home/lochy/ASPECT_PROJECT/HeFESTo_DIR/hefesto_pyrolite_P_T/output/fort.56\"\n",
    "output_file = \"/home/lochy/ASPECT_PROJECT/HeFESTo_DIR/hefesto_pyrolite_P_T/output/pyrolite_PT.txt\""
   ]
  },
  {
   "cell_type": "code",
   "execution_count": null,
   "metadata": {},
   "outputs": [],
   "source": [
    "# assert input file exists\n",
    "assert(os.path.isfile(input_file))\n",
    "\n",
    "if (os.path.isfile(output_file)):  # remove old files\n",
    "    os.remove(output_file)\n",
    "\n",
    "# read input\n",
    "LookupTable = PostHefesto.LOOKUP_TABLE()\n",
    "LookupTable.ReadRawFort56(input_file)\n",
    "\n",
    "# process output\n",
    "field_names = ['Pressure', 'Temperature', \"Entropy\", 'Density', 'Thermal_expansivity', 'Isobaric_heat_capacity', 'VP', 'VS', 'Enthalpy']\n",
    "LookupTable.Process(field_names, output_file, interval1=1, interval2=1, file_type=\"structured\", fix_coordinate_minor=True)\n",
    "\n",
    "# assert something \n",
    "assert(os.path.isfile(output_file))"
   ]
  },
  {
   "cell_type": "markdown",
   "metadata": {},
   "source": [
    "Then the P S table:"
   ]
  },
  {
   "cell_type": "code",
   "execution_count": null,
   "metadata": {},
   "outputs": [],
   "source": [
    "# P S table\n",
    "input_file = \"/home/lochy/ASPECT_PROJECT/HeFESTo_DIR/hefesto_pyrolite_P_S/output/fort.56\"\n",
    "output_file = \"/home/lochy/ASPECT_PROJECT/HeFESTo_DIR/hefesto_pyrolite_P_S/output/pyrolite_PS.txt\""
   ]
  },
  {
   "cell_type": "code",
   "execution_count": null,
   "metadata": {},
   "outputs": [],
   "source": [
    "# read input\n",
    "LookupTable = PostHefesto.LOOKUP_TABLE()\n",
    "LookupTable.ReadRawFort56(input_file)\n",
    "\n",
    "# process output\n",
    "field_names = ['Pressure', 'Entropy', 'Temperature', 'Density', 'Thermal_expansivity', 'Isobaric_heat_capacity', 'VP', 'VS', 'Enthalpy']\n",
    "LookupTable.Process(field_names, output_file, interval1=1, interval2=1, second_dimension=\"Entropy\", file_type=\"structured\", fix_coordinate_minor=True)\n",
    "\n",
    "# assert something \n",
    "assert(os.path.isfile(output_file))"
   ]
  }
 ],
 "metadata": {
  "kernelspec": {
   "display_name": "aspectLib",
   "language": "python",
   "name": "python3"
  },
  "language_info": {
   "codemirror_mode": {
    "name": "ipython",
    "version": 3
   },
   "file_extension": ".py",
   "mimetype": "text/x-python",
   "name": "python",
   "nbconvert_exporter": "python",
   "pygments_lexer": "ipython3",
   "version": "3.7.16"
  },
  "orig_nbformat": 4
 },
 "nbformat": 4,
 "nbformat_minor": 2
}
