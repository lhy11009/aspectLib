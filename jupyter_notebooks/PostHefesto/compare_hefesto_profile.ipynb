{
 "cells": [
  {
   "attachments": {},
   "cell_type": "markdown",
   "metadata": {},
   "source": [
    "## Plot profiles from HeFESTO & Perplex outputs\n",
    "\n",
    "In this cookbook, the profile outputs from HeFESTO is plotted. THe outpus must be generated with a single T / S and depth-varing pressures."
   ]
  },
  {
   "cell_type": "code",
   "execution_count": 1,
   "metadata": {},
   "outputs": [],
   "source": [
    "import os, sys\n",
    "import numpy as np\n",
    "from shutil import rmtree, copy\n",
    "from matplotlib import pyplot as plt\n",
    "from matplotlib import gridspec, cm\n",
    "\n",
    "# directory to the aspect Lab\n",
    "ASPECT_LAB_DIR = os.environ['ASPECT_LAB_DIR']\n",
    "RESULT_DIR = os.path.join(ASPECT_LAB_DIR, 'results')\n",
    "\n",
    "sys.path.append(os.path.join(ASPECT_LAB_DIR))\n",
    "# import shilofue.PlotDepthAverage as PDAver\n",
    "# import shilofue.FlowLaws as FlowLaws\n",
    "# import shilofue.ParsePrm as ParsePrm\n",
    "# import shilofue.ThermalModel as TModel\n",
    "# import shilofue.Rheology as Rheology\n",
    "import shilofue.PostHefesto as PostHefesto\n",
    "\n",
    "# import utilities in subdirectiory\n",
    "sys.path.append(os.path.join(ASPECT_LAB_DIR, 'utilities', \"python_scripts\"))\n",
    "import Utilities"
   ]
  },
  {
   "cell_type": "code",
   "execution_count": null,
   "metadata": {},
   "outputs": [],
   "source": [
    "fort56_path = \"/home/lochy/Softwares/HeFESTo/HeFESToRepository/output_2.0249999999999124/fort.56\"\n",
    "field = \"Isobaric_heat_capacity\"\n",
    "x_lim = [1.0 , 2.0]\n",
    "o_dir = Utilities.var_subs(\"${ASPECT_LAB_DIR}/results/HeFESTo_profile\")\n",
    "if not os.path.isdir(o_dir):\n",
    "    os.mkdir(o_dir)\n",
    "\n",
    "LookupTable = PostHefesto.LOOKUP_TABLE()\n",
    "LookupTable.ReadRawFort56(fort56_path)\n",
    "depths_0, Ts_0 = LookupTable.export_temperature_profile()\n",
    "_, densities_0 = LookupTable.export_density_profile()\n",
    "_, data_0 = LookupTable.export_field_profile(field)\n",
    "\n",
    "fig, ax = plt.subplots()\n",
    "ax.plot(data_0, depths_0, \"--\", label=\"HeFesto %s\" % field, color=\"tab:red\")\n",
    "ax.set_xlim(x_lim)\n",
    "ax.set_ylabel(\"Depth [km]\")\n",
    "ax.set_xlabel(field)\n",
    "ax.legend()\n",
    "ax.invert_yaxis()\n",
    "\n",
    "o_path = os.path.join(o_dir, \"%s_%.2f_%.2f.pdf\" % (field, x_lim[0], x_lim[1]))\n",
    "fig.savefig(o_path)\n",
    "print(\"generate figure %s\" % o_path)\n",
    "\n",
    "plt.close()"
   ]
  }
 ],
 "metadata": {
  "kernelspec": {
   "display_name": "Python (aspectLib)",
   "language": "python",
   "name": "aspectlib"
  },
  "language_info": {
   "codemirror_mode": {
    "name": "ipython",
    "version": 3
   },
   "file_extension": ".py",
   "mimetype": "text/x-python",
   "name": "python",
   "nbconvert_exporter": "python",
   "pygments_lexer": "ipython3",
   "version": "3.7.13"
  }
 },
 "nbformat": 4,
 "nbformat_minor": 2
}
