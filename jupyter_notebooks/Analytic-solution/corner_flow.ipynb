{
 "cells": [
  {
   "cell_type": "markdown",
   "metadata": {},
   "source": [
    "## The viscous corner flow model\n",
    "\n",
    "In a vicous corner flow model, we consider the oceanic lithosphere as bending in a continuous manner as it is subducted at an ocean trench. \n",
    "The gravitational body force on the descending lithosphere is directed vertically downward, and pressure forces (aka, dynamic pressure) due to the induced flows in the mantle will balance the gravitational body forces.\n",
    "First, the model domain is divided into the Arc corner and the Oceanic corner:\n",
    "\n",
    "![](./figure_6_17.png)\n",
    "\n",
    "In this analytical approach, the flow field in both the Arc corner and the Oceanic corner is solved, then the pressure forces acting on the descending litho-sphere can be calculated using these solutions."
   ]
  }
 ],
 "metadata": {
  "language_info": {
   "name": "python"
  },
  "orig_nbformat": 4
 },
 "nbformat": 4,
 "nbformat_minor": 2
}
