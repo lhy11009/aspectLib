{
 "cells": [
  {
   "cell_type": "code",
   "execution_count": null,
   "metadata": {},
   "outputs": [],
   "source": [
    "def fft_denoiser(x, n_components, to_real=True):\n",
    "    \"\"\"Fast fourier transform denoiser.\n",
    "    \n",
    "    Denoises data using the fast fourier transform.\n",
    "    \n",
    "    Parameters\n",
    "    ----------\n",
    "    x : numpy.array\n",
    "        The data to denoise.\n",
    "    n_components : int\n",
    "        The value above which the coefficients will be kept.\n",
    "    to_real : bool, optional, default: True\n",
    "        Whether to remove the complex part (True) or not (False)\n",
    "        \n",
    "    Returns\n",
    "    -------\n",
    "    clean_data : numpy.array\n",
    "        The denoised data.\n",
    "        \n",
    "    References\n",
    "    ----------\n",
    "    .. [1] Steve Brunton - Denoising Data with FFT[Python]\n",
    "       https://www.youtube.com/watch?v=s2K1JfNR7Sc&ab_channel=SteveBrunton\n",
    "    \n",
    "    \"\"\"\n",
    "    n = len(x)\n",
    "    \n",
    "    # compute the fft\n",
    "    fft = np.fft.fft(x, n)\n",
    "    \n",
    "    # compute power spectrum density\n",
    "    # squared magnitud of each fft coefficient\n",
    "    PSD = fft * np.conj(fft) / n\n",
    "    \n",
    "    # keep high frequencies\n",
    "    _mask = PSD > n_components\n",
    "    fft = _mask * fft\n",
    "    \n",
    "    # inverse fourier transform\n",
    "    clean_data = np.fft.ifft(fft)\n",
    "    \n",
    "    if to_real:\n",
    "        clean_data = clean_data.real\n",
    "    \n",
    "    return clean_data"
   ]
  }
 ],
 "metadata": {
  "language_info": {
   "name": "python"
  },
  "orig_nbformat": 4
 },
 "nbformat": 4,
 "nbformat_minor": 2
}
