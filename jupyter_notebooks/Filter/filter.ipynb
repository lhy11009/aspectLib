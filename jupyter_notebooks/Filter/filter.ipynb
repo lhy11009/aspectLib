{
 "cells": [
  {
   "cell_type": "code",
   "execution_count": null,
   "metadata": {},
   "outputs": [],
   "source": [
    "import numpy as np\n",
    "import os\n",
    "from matplotlib import pyplot as plt\n",
    "from matplotlib import gridspec"
   ]
  },
  {
   "cell_type": "markdown",
   "metadata": {},
   "source": [
    "### Load the dataset\n",
    "\n",
    "This dataset contains \"pvtu_step\", \"step\", \"time\", \"trench (rad)\", \"slab depth(m)\", \"100km dip (rad)\" as entries"
   ]
  },
  {
   "cell_type": "code",
   "execution_count": null,
   "metadata": {},
   "outputs": [],
   "source": [
    "Ro = 6371e3  # radius of Earth\n",
    "data_file = \"slab_morph.txt\"\n",
    "assert(os.path.isfile(data_file))\n",
    "data = np.loadtxt(data_file)\n",
    "ts = data[:, 2]\n",
    "trenches = data[:, 3]\n",
    "# print(ts) # debug"
   ]
  },
  {
   "cell_type": "markdown",
   "metadata": {},
   "source": [
    "### Plot the position of the trench"
   ]
  },
  {
   "cell_type": "code",
   "execution_count": null,
   "metadata": {},
   "outputs": [],
   "source": [
    "fig = plt.figure(tight_layout=True)\n",
    "gs = gridspec.GridSpec(2, 1)\n",
    "ax = fig.add_subplot(gs[0, 0])\n",
    "ax.plot(ts, trenches)\n",
    "ax.set_xlabel('Time (yr)')\n",
    "ax.set_ylabel('Trench (rad)')\n",
    "# derive the velocity and plot\n",
    "trench_velocities = np.gradient(trenches, ts) * Ro\n",
    "ax1 = fig.add_subplot(gs[1, 0])\n",
    "ax1.plot(ts, trench_velocities)\n",
    "ax1.set_xlabel('Time (yr)')\n",
    "ax1.set_ylabel('Trench motion (m/yr)')\n",
    "fig.show()\n"
   ]
  },
  {
   "cell_type": "markdown",
   "metadata": {},
   "source": [
    "### Resample to a uniform grid\n",
    "\n",
    "In the following example, I resample this time series to an 1e5-yr interval.\n",
    "In this way, I could perform fft transform of the series"
   ]
  },
  {
   "cell_type": "code",
   "execution_count": null,
   "metadata": {},
   "outputs": [],
   "source": [
    "tmax = np.max(ts)\n",
    "t_inter = 1e5  # resample interval\n",
    "ts_re = np.arange(0.0, tmax, t_inter)\n",
    "trenches_re = np.interp(ts_re, ts, trenches)\n",
    "fig = plt.figure(tight_layout=True)\n",
    "gs = gridspec.GridSpec(2, 1)\n",
    "ax = fig.add_subplot(gs[0, 0])\n",
    "ax.plot(ts_re, trenches_re)\n",
    "ax.set_xlabel('Time (yr)')\n",
    "ax.set_ylabel('Trench (rad)')\n",
    "# derive the velocity and plot\n",
    "trench_velocities_re = np.gradient(trenches_re, ts_re) * Ro\n",
    "ax1 = fig.add_subplot(gs[1, 0])\n",
    "ax1.plot(ts_re, trench_velocities_re)\n",
    "ax1.set_xlabel('Time (yr)')\n",
    "ax1.set_ylabel('Trench motion (m/yr)')\n",
    "print(\"The number of entries in array: \", ts_re.size)\n",
    "fig.show()"
   ]
  },
  {
   "cell_type": "markdown",
   "metadata": {},
   "source": [
    "### Define the filter\n",
    "\n",
    "a. FFT transform of a time series\n",
    "\n",
    "b. Remove high-frequency entries in the spectrum\n",
    "\n",
    "c. invert FFT to get the clean data"
   ]
  },
  {
   "cell_type": "code",
   "execution_count": null,
   "metadata": {},
   "outputs": [],
   "source": [
    "def fft_denoiser(x, n_components, to_real=True):\n",
    "    \"\"\"Fast fourier transform denoiser.\n",
    "    \n",
    "    Denoises data using the fast fourier transform.\n",
    "    \n",
    "    Parameters\n",
    "    ----------\n",
    "    x : numpy.array\n",
    "        The data to denoise.\n",
    "    n_components : int\n",
    "        The value above which the coefficients will be kept.\n",
    "    to_real : bool, optional, default: True\n",
    "        Whether to remove the complex part (True) or not (False)\n",
    "        \n",
    "    Returns\n",
    "    -------\n",
    "    clean_data : numpy.array\n",
    "        The denoised data.\n",
    "        \n",
    "    References\n",
    "    ----------\n",
    "    .. [1] Steve Brunton - Denoising Data with FFT[Python]\n",
    "       https://www.youtube.com/watch?v=s2K1JfNR7Sc&ab_channel=SteveBrunton\n",
    "    \n",
    "    \"\"\"\n",
    "    n = len(x)\n",
    "    \n",
    "    # compute the fft\n",
    "    fft = np.fft.fft(x, n)\n",
    "    \n",
    "    # compute power spectrum density\n",
    "    # squared magnitud of each fft coefficient\n",
    "    PSD = fft * np.conj(fft) / n\n",
    "    \n",
    "    # keep high frequencies\n",
    "    _mask = PSD > n_components\n",
    "    fft = _mask * fft\n",
    "    \n",
    "    # inverse fourier transform\n",
    "    clean_data = np.fft.ifft(fft)\n",
    "    \n",
    "    if to_real:\n",
    "        clean_data = clean_data.real\n",
    "    \n",
    "    return clean_data"
   ]
  },
  {
   "cell_type": "markdown",
   "metadata": {},
   "source": [
    "### Filter the data"
   ]
  },
  {
   "cell_type": "code",
   "execution_count": null,
   "metadata": {},
   "outputs": [],
   "source": [
    "trenches_filtered = fft_denoiser(trenches_re, 100)\n",
    "fig = plt.figure(tight_layout=True)\n",
    "gs = gridspec.GridSpec(2, 1)\n",
    "ax = fig.add_subplot(gs[0, 0])\n",
    "ax.plot(ts_re, trenches_filtered)\n",
    "ax.set_xlabel('Time (yr)')\n",
    "ax.set_ylabel('Trench (rad)')\n",
    "# derive the velocity and plot\n",
    "trench_velocities_filtered = np.gradient(trenches_filtered, ts_re) * Ro\n",
    "ax1 = fig.add_subplot(gs[1, 0])\n",
    "ax1.plot(ts_re, trench_velocities_filtered)\n",
    "ax1.set_xlabel('Time (yr)')\n",
    "ax1.set_ylabel('Trench motion (m/yr)')\n",
    "print(\"The number of entries in array: \", ts_re.size)\n",
    "fig.show()"
   ]
  }
 ],
 "metadata": {
  "interpreter": {
   "hash": "04f94a466fc6855f7f994dd3204adbc7760ad767ef3aef9ead569409decf9820"
  },
  "kernelspec": {
   "display_name": "Python 3.7.10 64-bit ('aspectLib': conda)",
   "language": "python",
   "name": "python3"
  },
  "language_info": {
   "codemirror_mode": {
    "name": "ipython",
    "version": 3
   },
   "file_extension": ".py",
   "mimetype": "text/x-python",
   "name": "python",
   "nbconvert_exporter": "python",
   "pygments_lexer": "ipython3",
   "version": "3.7.10"
  },
  "orig_nbformat": 4
 },
 "nbformat": 4,
 "nbformat_minor": 2
}
