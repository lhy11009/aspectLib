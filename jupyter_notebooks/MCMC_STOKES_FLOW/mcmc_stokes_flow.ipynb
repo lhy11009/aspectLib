{
 "cells": [
  {
   "cell_type": "markdown",
   "metadata": {},
   "source": [
    "## MCMC workflow with a stokes sinking\n",
    "\n",
    "In this notebook, I practice using the MCMC workflow to invert for the stokes sinking velocity.\n",
    "I adapted the prm file from an existing benchmark and analyze the stokes sinking velocity.\n",
    "Then MCMC is invoked to match an observed distribution of velocities."
   ]
  },
  {
   "cell_type": "code",
   "execution_count": 25,
   "metadata": {},
   "outputs": [],
   "source": [
    "import os, sys\n",
    "import re\n",
    "import subprocess\n",
    "import numpy as np\n",
    "import random\n",
    "from matplotlib import pyplot as plt\n",
    "import pandas as pd\n",
    "import pymc as pm\n",
    "import arviz as az\n",
    "from shutil import rmtree\n",
    "from IPython.core.pylabtools import figsize\n",
    "from scipy.stats.mstats import mquantiles\n",
    "\n",
    "# directory to the aspect Lab\n",
    "ASPECT_LAB_DIR = os.environ['ASPECT_LAB_DIR']\n",
    "RESULT_DIR = os.path.join(ASPECT_LAB_DIR, 'results')\n",
    "# directory to shilofue\n",
    "shilofue_DIR = os.path.join(ASPECT_LAB_DIR, 'shilofue')\n",
    "\n",
    "sys.path.append(ASPECT_LAB_DIR)\n",
    "from shilofue.VtkPp import VTKP\n",
    "from shilofue.ParsePrm import ParseFromDealiiInput, ParseToDealiiInput\n",
    "\n",
    "sys.path.append(os.path.join(ASPECT_LAB_DIR, 'utilities', \"python_scripts\"))\n",
    "import Utilities\n",
    "\n",
    "mcmc_dir = \"/mnt/lochy/ASPECT_DATA/MCMC_STOKES_FLOW\"\n",
    "assert(os.path.isdir(mcmc_dir))\n",
    "\n",
    "aspect_executable = \"/home/lochy/Softwares/aspect/build_main/aspect\""
   ]
  },
  {
   "cell_type": "markdown",
   "metadata": {},
   "source": [
    "### Running the inital setup \n",
    "\n",
    "The initial model setup is modified from a \"stokes.prm\" in the benckmark.\n",
    "The modification includes:\n",
    "*   adapt to 2d\n",
    "*  change the order of composition\n",
    "*  add isosurface refinement scheme"
   ]
  },
  {
   "cell_type": "code",
   "execution_count": 2,
   "metadata": {},
   "outputs": [],
   "source": [
    "case_dir = os.path.join(mcmc_dir, \"stokes_0\")\n",
    "assert(os.path.isdir(case_dir))\n",
    "\n",
    "prm_path = os.path.join(case_dir, \"stokes.prm\")\n",
    "assert(os.path.isfile(prm_path))\n",
    "\n",
    "# Assert both the final outputs and that nothing is troubleshot in the stderr\n",
    "# There is a line in the final outputs like:\n",
    "# -- Total wallclock time elapsed including restarts: 1s\n",
    "completed_process = subprocess.run([aspect_executable, prm_path], capture_output=True, text=True)\n",
    "stdout = completed_process.stdout\n",
    "stderr = completed_process.stderr\n",
    "assert(re.match(\".*Total wallclock\", stdout.split('\\n')[-6]))\n",
    "assert(stderr == \"\")"
   ]
  },
  {
   "cell_type": "markdown",
   "metadata": {},
   "source": [
    "Here is the result by running the initial model setup and save visualizations in Paraview\n",
    "\n",
    "![](./mcmc_img/stokes_combine_images_initial.jpg)"
   ]
  },
  {
   "cell_type": "markdown",
   "metadata": {},
   "source": [
    "Analyze the sinking velocity by interpolation from the pvtu outputs"
   ]
  },
  {
   "cell_type": "code",
   "execution_count": null,
   "metadata": {},
   "outputs": [],
   "source": [
    "fields = [\"T\", \"density\", \"viscosity\", \"C_1\", \"velocity\"]\n",
    "filein = os.path.join(case_dir, \"output-stokes\", \"solution\", \"solution-00000.pvtu\")\n",
    "\n",
    "VtkP = VTKP(geometry=\"box\")\n",
    "VtkP.ReadFile(filein, quiet=True)\n",
    "# construct poly data\n",
    "VtkP.ConstructPolyData(fields, quiet=True)\n",
    "\n",
    "# interpolate for the center point\n",
    "target_points_np = np.array([[1.445e6, 1.445e6, 0.0]])\n",
    "o_poly_data, points_found, interpolated_data, interpolated_vector = VtkP.InterpolateDomain(target_points_np, fields=fields, quiet=True)\n",
    "v_y = interpolated_vector[0][0][1]\n",
    "\n",
    "print(\"Sinking velocity = %.4e m/yr\" % (-v_y))"
   ]
  },
  {
   "cell_type": "markdown",
   "metadata": {},
   "source": [
    "### Invoke a workflow to modify the parameters and run the model\n",
    "\n",
    "The functionalities are wrapped into 3 modules:\n",
    "* Make a new prm file\n",
    "* Run the case\n",
    "* Analyze the sinking velocity Vy"
   ]
  },
  {
   "cell_type": "code",
   "execution_count": 4,
   "metadata": {},
   "outputs": [],
   "source": [
    "def MakeNewPrm(prm_path_ori, prm_path, sinker_viscosity, mantle_sinker_viscosity_ratio, mantle_sinker_density_difference, **kwargs):\n",
    "    '''\n",
    "    Make a new prm file\n",
    "    Inputs:\n",
    "        sinker_viscosity - the viscosity of the sinker\n",
    "        mantle_sinker_viscosity_ratio - ratio of mantle / sinker viscosity\n",
    "        mantle_sinker_density_difference - difference of (sinker - mantle) density\n",
    "        kwargs:\n",
    "    '''\n",
    "    assert(os.path.isfile(prm_path_ori))\n",
    "    assert(os.path.isdir(os.path.dirname(prm_path)))\n",
    "\n",
    "    output_directory = kwargs.get(\"output_directory\", \"output-stokes\")\n",
    "\n",
    "    # modify the input file\n",
    "    with open(prm_path_ori, 'r') as fin:\n",
    "        inputs = ParseFromDealiiInput(fin)\n",
    "\n",
    "    inputs[\"Output directory\"] = os.path.join(os.path.dirname(prm_path), output_directory)\n",
    "    inputs[\"Material model\"][\"Simple model\"][\"Viscosity\"] = \"%.4e\" % sinker_viscosity\n",
    "    inputs[\"Material model\"][\"Simple model\"][\"Composition viscosity prefactor\"] = \"%.4e\" % mantle_sinker_viscosity_ratio\n",
    "    inputs[\"Material model\"][\"Simple model\"][\"Density differential for compositional field 1\"] = \"%.4e\" % (-mantle_sinker_density_difference)\n",
    "\n",
    "    with open(prm_path, \"w\") as fout:\n",
    "        ParseToDealiiInput(fout, inputs)\n",
    "    \n",
    "    assert(os.path.isfile(prm_path))\n",
    "\n",
    "def RunMainASPECT(aspect_executable, prm_path):\n",
    "    '''\n",
    "    run the case\n",
    "    Inputs:\n",
    "        aspect_executable - the executable file of ASPECT\n",
    "        prm_path - a path to a prm file\n",
    "    '''\n",
    "    completed_process = subprocess.run([aspect_executable, prm_path], capture_output=True, text=True)\n",
    "    stdout = completed_process.stdout\n",
    "    stderr = completed_process.stderr\n",
    "    assert(re.match(\".*Total wallclock\", stdout.split('\\n')[-6]))\n",
    "    assert(stderr == \"\")\n",
    "    return completed_process\n",
    "\n",
    "def AnalyzeVy(case_dir):\n",
    "    '''\n",
    "    Analyze the sinking velocity Vy\n",
    "    Inputs:\n",
    "        case_dir - a case directory containing the outputs\n",
    "    '''\n",
    "    fields = [\"T\", \"density\", \"viscosity\", \"C_1\", \"velocity\"]\n",
    "    filein = os.path.join(case_dir, \"output-stokes\", \"solution\", \"solution-00000.pvtu\")\n",
    "    Utilities.my_assert(os.path.isfile(filein), FileExistsError, \"%s: %s doesn't exist\" % (Utilities.func_name(), filein))\n",
    "\n",
    "    VtkP = VTKP(geometry=\"box\")\n",
    "    VtkP.ReadFile(filein, quiet=True)\n",
    "    # construct poly data\n",
    "    VtkP.ConstructPolyData(fields, quiet=True)\n",
    "\n",
    "    # interpolate for the center point\n",
    "    target_points_np = np.array([[1.445e6, 1.445e6, 0.0]])\n",
    "    o_poly_data, points_found, interpolated_data, interpolated_vector = VtkP.InterpolateDomain(target_points_np, fields=fields, quiet=True)\n",
    "    v_y = -interpolated_vector[0][0][1] # take the positive value\n",
    "    return v_y\n",
    "\n",
    "\n",
    "def StokesSinkASPECT2d(parent_dir, prm_path_ori, drho, log_eta):\n",
    "    '''\n",
    "    Wrap the previous functions into a single one\n",
    "    Inputs:\n",
    "        drho: mantle - sinker density, a negative value\n",
    "        log_eta: mantle viscosity\n",
    "    '''\n",
    "    case_dir = os.path.join(parent_dir, \"stokes_mcmc_2d_drho_%.1f_eta_%.4f\" % (drho, log_eta))\n",
    "    if not os.path.isdir(case_dir):\n",
    "        os.mkdir(case_dir)\n",
    "    prm_path = os.path.join(case_dir, \"stokes.prm\")\n",
    "    \n",
    "    # make the parameter file\n",
    "    log_sinker_viscosity = 24.0\n",
    "    mantle_sinker_viscosity_ratio = 10**(log_eta - 24.0) # we assume the body to be 10^24\n",
    "    MakeNewPrm(prm_path_ori, prm_path, 10**log_sinker_viscosity, mantle_sinker_viscosity_ratio, drho)\n",
    "    # run the case\n",
    "    completed_process = RunMainASPECT(aspect_executable, prm_path)\n",
    "    # analysis\n",
    "    v_y = AnalyzeVy(case_dir)\n",
    "    return v_y\n",
    "\n",
    "\n",
    "def StokesSinkAnalytic2d(parent_dir, prm_path_ori, drho, log_eta):\n",
    "    year = 365 * 24 * 3600.0\n",
    "    g = 10.0\n",
    "    R = 200e3\n",
    "    eta = 10**log_eta\n",
    "    v_y = 2.0 / 9.0 * (drho * g * R**2.0) / eta * year\n",
    "    return v_y"
   ]
  },
  {
   "cell_type": "markdown",
   "metadata": {},
   "source": [
    "A test using these functionalities to modify the viscosity of the sinker to a higher value of ${10}^{24} Pa s $\n",
    "\n",
    "Note that a higher velocity actually decrease the sinking velocity of the sinker with other parameters remaining the same"
   ]
  },
  {
   "cell_type": "code",
   "execution_count": 5,
   "metadata": {},
   "outputs": [],
   "source": [
    "# prm_path_ori = os.path.join(mcmc_dir, \"stokes_0\", \"stokes.prm\")\n",
    "# assert(os.path.isfile(prm_path_ori))\n",
    "\n",
    "# case_dir = os.path.join(mcmc_dir, \"stokes_test_generation\")\n",
    "# if not os.path.isdir(case_dir):\n",
    "#     os.mkdir(case_dir)\n",
    "# prm_path = os.path.join(case_dir, \"stokes.prm\")\n",
    "\n",
    "# # modify the input file\n",
    "# MakeNewPrm(prm_path_ori, prm_path, 1e24, 0.01, 100.0)\n",
    "\n",
    "# # run the case\n",
    "# completed_process = RunMainASPECT(aspect_executable, prm_path)\n",
    "\n",
    "# # analysis\n",
    "# v_y = AnalyzeVy(case_dir)\n",
    "\n",
    "# print(\"Sinking velocity = %.4e m/yr\" % (v_y))"
   ]
  },
  {
   "cell_type": "markdown",
   "metadata": {},
   "source": [
    "### Now, generate a synthetic dataset with different density values"
   ]
  },
  {
   "cell_type": "code",
   "execution_count": 6,
   "metadata": {},
   "outputs": [],
   "source": [
    "# drhos = np.arange(50.0, 400.0, 10)\n",
    "\n",
    "# prm_path_ori = os.path.join(mcmc_dir, \"stokes_0\", \"stokes.prm\")\n",
    "# assert(os.path.isfile(prm_path_ori))\n",
    "\n",
    "# test_dir = os.path.join(mcmc_dir, \"stokes_test_v\")\n",
    "# if not os.path.isdir(test_dir):\n",
    "#     os.mkdir(test_dir)\n",
    "\n",
    "# # generate the original dataset\n",
    "# sinkVs_ori = np.zeros(drhos.shape)\n",
    "# for i in range(drhos.size):\n",
    "#     case_dir = os.path.join(test_dir, \"stokes_test_generation_%02d\" % i)\n",
    "#     if not os.path.isdir(case_dir):\n",
    "#         os.mkdir(case_dir)\n",
    "#     prm_path = os.path.join(case_dir, \"stokes.prm\")\n",
    "#     # modify the input file\n",
    "#     MakeNewPrm(prm_path_ori, prm_path, 1e24, 0.01, drhos[i])\n",
    "#     # run the case\n",
    "#     completed_process = RunMainASPECT(aspect_executable, prm_path)\n",
    "#     # analysis\n",
    "#     v_y = AnalyzeVy(case_dir)\n",
    "#     sinkVs_ori[i] = v_y\n",
    "\n",
    "# # add a perturbation\n",
    "# sinkVs = np.zeros(drhos.shape)\n",
    "# for i in range(drhos.size):\n",
    "#     sinkVs[i] = sinkVs_ori[i] + random.uniform(-0.02, 0.02)\n",
    "\n",
    "# # generate plot of the original and perturbed data\n",
    "# fig, ax = plt.subplots()\n",
    "# ax.plot(drhos, sinkVs_ori, label=\"original\")\n",
    "# ax.plot(drhos, sinkVs, label=\"perturbation\")\n",
    "# ax.set_xlabel(\"Density Difference (km/m^3)\")\n",
    "# ax.set_ylabel(\"Sinking Velocity (m/s)\")\n",
    "\n",
    "# # generate csv outputs\n",
    "# file_out = os.path.join(RESULT_DIR, \"sink_v_data.csv\")\n",
    "# sinkV_data = pd.DataFrame()\n",
    "# sinkV_data[\"density_difference\"] = drhos\n",
    "# sinkV_data[\"sinking_velocity\"] = sinkVs\n",
    "# sinkV_data.to_csv(file_out)\n",
    "# assert(os.path.isfile(file_out))\n",
    "# print(\"Generate file: %s\" % file_out)"
   ]
  },
  {
   "cell_type": "markdown",
   "metadata": {},
   "source": [
    "### Now, we solve the invert problem with PyMC\n",
    "\n",
    "We observed the velocity!!! (Actually we made this up in the previous step).\n",
    "\n",
    "Let's invert the viscosity."
   ]
  },
  {
   "cell_type": "markdown",
   "metadata": {},
   "source": [
    "#### Load from a previous csv file\n",
    "\n",
    "In this case, the data for the model is already generated through a previous code block."
   ]
  },
  {
   "cell_type": "code",
   "execution_count": null,
   "metadata": {},
   "outputs": [],
   "source": [
    "# load from a previous csv file\n",
    "file_in = os.path.join(RESULT_DIR, \"sink_v_data.csv\")\n",
    "assert(os.path.isfile(file_in))\n",
    "sinkV_data = pd.read_csv(file_in)\n",
    "drhos = sinkV_data[\"density_difference\"]\n",
    "sinkV = sinkV_data[\"sinking_velocity\"] # take positive values\n",
    "print(\"length of data:\", len(drhos))\n",
    "\n",
    "fig, ax = plt.subplots()\n",
    "ax.plot(drhos, sinkV, label=\"perturbation\")\n",
    "ax.plot(drhos, StokesSinkAnalytic2d(_, _, drhos, 22), label=\"analytical solution, 1e22\")\n",
    "ax.plot(drhos, StokesSinkAnalytic2d(_, _, drhos, 26), label=\"analytical solution, 1e26\")\n",
    "ax.set_xlabel(\"Density Difference (kg/m^3)\")\n",
    "ax.set_ylabel(\"Sinking Velocity (m/yr)\")"
   ]
  },
  {
   "cell_type": "markdown",
   "metadata": {},
   "source": [
    "#### Start the pymc model\n",
    "\n",
    "Here is the thoughts in building the model.\n",
    "* log value of eta is the first prior. It's a continous variable, and we expect it to center around some constant value in this case. Thus we model it using a Normal distribution.\n",
    "* we introduce a second prior, sigmaV, such that we allow our model to misfit the observation, with this value defines the standard error.\n",
    "* Then we should be able to derive the values of the sinking velocity. The observed value should follow a normal distribution, with $\\mu$ being the derived values and the standard error being the second prior, sigmaV.\n",
    "\n",
    "There some technical issue we need to overcome here.\n",
    "\n",
    "* Our function StokesSinkASPECT2d is basically a black box that runs the finite-element model beneath. So we need to make it compatible with PyMC syntax.\n",
    "* We need to run this, many many times\n",
    "\n",
    "To make things easier, I defined an analytical version in the previous section (StokesSinkAnalytic2d), we can switch to this easy options to debug our code."
   ]
  },
  {
   "cell_type": "code",
   "execution_count": 8,
   "metadata": {},
   "outputs": [],
   "source": [
    "year = 365 * 24 * 3600.0\n",
    "g = 10.0\n",
    "R = 200e3\n",
    "\n",
    "prm_path_ori = os.path.join(mcmc_dir, \"stokes_0\", \"stokes.prm\")\n",
    "assert(os.path.isfile(prm_path_ori))\n",
    "\n",
    "parent_dir = os.path.join(mcmc_dir, \"stokes_mcmc_2d\")\n",
    "if os.path.isdir(parent_dir):\n",
    "    rmtree(parent_dir)\n",
    "os.mkdir(parent_dir)\n",
    "\n",
    "\n",
    "with pm.Model() as aspect_model:\n",
    "    log_eta = pm.Normal(\"log_eta\", mu=21.0, sigma=3.0)  # Intercept prior\n",
    "    sigmaV = pm.HalfNormal(\"sigmaV\", sigma=0.01) # Standard deviation prior\n",
    "\n",
    "    # second approach: use deterministic\n",
    "    # we handle two tasks within:\n",
    "    #   1. we extract each of the drhos inputs and flatten the corresponding Tensor log_eta to pass only scalar values to\n",
    "    #   our StokesSinkASPECT2d function\n",
    "    #   2. We collect the outputs from this function, first into a list, and then stack it up to a Tensor for PyMC again.\n",
    "    # a. using a tester approach - analytical solution\n",
    "    # below is a stack of things that don't work ..., only the last, the complex syntax works ...\n",
    "    # sinkV_model = -2.0 / 9.0 * (drhos * g * R**2.0) / pm.math.exp(log_eta*pm.math.log(10)) * year\n",
    "    # sinkV_model = pm.Deterministic(\"sinkV_model\", StokesSinkAnalytic2d(_, _, drhos, log_eta))\n",
    "    sinkV_model = pm.Deterministic(\"sinkV_model\",\n",
    "         pm.math.stack([StokesSinkAnalytic2d(parent_dir, prm_path_ori, drhos[i], log_eta) for i in range(len(drhos))]))\n",
    "    # print the shape: this doesn't print the tuple as in numpy, because it hasn't been sampled yet.\n",
    "    # print(\"shape:\", sinkV_model.shape)\n",
    "    # b. call ASPECT in a black box\n",
    "    # sinkV_model = pm.Deterministic(\"sinkV_model\",\n",
    "         # pm.math.stack([StokesSinkASPECT2d(parent_dir, prm_path_ori, drhos[i], log_eta[i].eval()) for i in range(len(drhos))]))\n",
    "\n",
    "    # likelihood\n",
    "    sinkV_obs = pm.Normal(\"sinkV_obs\", mu=sinkV_model, sigma=sigmaV, observed=sinkV)"
   ]
  },
  {
   "cell_type": "code",
   "execution_count": null,
   "metadata": {},
   "outputs": [],
   "source": [
    "# debug\n",
    "\n",
    "print(\"sinkV\", sinkV)"
   ]
  },
  {
   "cell_type": "code",
   "execution_count": null,
   "metadata": {},
   "outputs": [],
   "source": [
    "with aspect_model:\n",
    "    # Perform MCMC sampling using the NUTS sampler\n",
    "    # the return_inferencedata=Fals3 is needed if we want to use trace as a dict\n",
    "    # but this doesn't work with the summary\n",
    "    trace = pm.sample(1000, return_inferencedata=True)"
   ]
  },
  {
   "cell_type": "code",
   "execution_count": null,
   "metadata": {},
   "outputs": [],
   "source": [
    "# Summarize the trace and posterior\n",
    "# the option return_inferencedata=False must be deleted\n",
    "az.summary(trace)"
   ]
  },
  {
   "cell_type": "code",
   "execution_count": null,
   "metadata": {},
   "outputs": [],
   "source": [
    "az.plot_posterior(trace)"
   ]
  },
  {
   "cell_type": "markdown",
   "metadata": {},
   "source": [
    "### Diagnostics"
   ]
  },
  {
   "cell_type": "markdown",
   "metadata": {},
   "source": [
    "#### Use az to plot the summary"
   ]
  },
  {
   "cell_type": "code",
   "execution_count": null,
   "metadata": {},
   "outputs": [],
   "source": [
    "az.plot_trace(data=trace, var_names=[\"log_eta\"], figsize=(16, 4))\n",
    "az.plot_posterior(data=trace, var_names=[\"log_eta\"], figsize=(16, 4))\n",
    "az.plot_autocorr(data=trace, var_names=[\"log_eta\"], figsize=(16, 4))"
   ]
  },
  {
   "cell_type": "markdown",
   "metadata": {},
   "source": [
    "#### Try using the az.plot_ppc"
   ]
  },
  {
   "cell_type": "code",
   "execution_count": null,
   "metadata": {},
   "outputs": [],
   "source": [
    "with aspect_model:\n",
    "    posterior_predictive = pm.sample_posterior_predictive(trace, var_names=[\"sinkV_obs\"], extend_inferencedata=True, return_inferencedata=True)\n",
    "\n",
    "# print(posterior_predictive[\"posterior_predictive\"].sinkV_obs)\n",
    "\n",
    "az.plot_ppc(posterior_predictive)"
   ]
  },
  {
   "cell_type": "markdown",
   "metadata": {},
   "source": [
    "#### Proceed by first extracting the sample of the posteriors"
   ]
  },
  {
   "cell_type": "code",
   "execution_count": 26,
   "metadata": {},
   "outputs": [],
   "source": [
    "log_eta_samples = np.concatenate(trace.posterior.log_eta.data[:,800:])[:, None]\n",
    "sigmaV_samples = np.concatenate(trace.posterior.sigmaV.data[:,800:])[:, None]\n",
    "drho_t = np.arange(drhos.min()-5.0, drhos.max()+5.0, 1.0)[:, None]\n",
    "sinkV_t = StokesSinkAnalytic2d(_, _, drho_t.T, log_eta_samples)\n",
    "\n",
    "mean_sinkV_t = sinkV_t.mean(axis=0)"
   ]
  },
  {
   "cell_type": "code",
   "execution_count": null,
   "metadata": {},
   "outputs": [],
   "source": [
    "figsize(12.5, 4)\n",
    "qs = mquantiles(sinkV_t, [0.025, 0.975], axis=0)\n",
    "plt.plot(drhos, sinkV, label=\"synthetic data\")\n",
    "plt.fill_between(drho_t[:, 0], *qs, alpha=0.7, color=\"#7A68A6\")\n",
    "plt.plot(drho_t, mean_sinkV_t, lw=1, ls=\"--\", color='k', label=\"average posterior \\nsinking \\\n",
    "velocity\")"
   ]
  }
 ],
 "metadata": {
  "kernelspec": {
   "display_name": "aspectLib",
   "language": "python",
   "name": "python3"
  },
  "language_info": {
   "codemirror_mode": {
    "name": "ipython",
    "version": 3
   },
   "file_extension": ".py",
   "mimetype": "text/x-python",
   "name": "python",
   "nbconvert_exporter": "python",
   "pygments_lexer": "ipython3",
   "version": "3.9.19"
  }
 },
 "nbformat": 4,
 "nbformat_minor": 2
}
