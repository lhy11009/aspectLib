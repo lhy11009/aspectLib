{
 "cells": [
  {
   "cell_type": "markdown",
   "metadata": {},
   "source": [
    "### Plot run time information"
   ]
  },
  {
   "cell_type": "code",
   "execution_count": null,
   "metadata": {},
   "outputs": [],
   "source": [
    "import os, sys\n",
    "import numpy as np\n",
    "from shutil import rmtree, copy\n",
    "from matplotlib import pyplot as plt\n",
    "from matplotlib import gridspec, cm\n",
    "\n",
    "# directory to the aspect Lab\n",
    "ASPECT_LAB_DIR = os.environ['ASPECT_LAB_DIR']\n",
    "RESULT_DIR = os.path.join(ASPECT_LAB_DIR, 'results')\n",
    "\n",
    "sys.path.append(os.path.join(ASPECT_LAB_DIR))\n",
    "\n",
    "import shilofue.PlotRunTime as PlotRunTime"
   ]
  },
  {
   "cell_type": "markdown",
   "metadata": {},
   "source": [
    "#### Assign case name and path"
   ]
  },
  {
   "cell_type": "code",
   "execution_count": null,
   "metadata": {},
   "outputs": [],
   "source": [
    "local_project_dir = os.environ[\"EntropySub_DIR\"]\n",
    "# local_project_dir = os.environ[\"TwoDSubduction_DIR\"]\n",
    "# local_project_dir = os.environ[\"ThDSubduction_DIR\"]\n",
    "\n",
    "assert(os.path.isdir(local_project_dir))\n",
    "\n",
    "case_name = \"ES_2/entropy_subduction_s7\"\n",
    "local_dir = os.path.join(local_project_dir, case_name)\n",
    "\n",
    "assert(os.path.isdir(local_dir))"
   ]
  },
  {
   "cell_type": "markdown",
   "metadata": {},
   "source": [
    "Plot non-linear solver history by step"
   ]
  },
  {
   "cell_type": "code",
   "execution_count": null,
   "metadata": {},
   "outputs": [],
   "source": [
    "# plot newton solver output\n",
    "\n",
    "step = 0\n",
    "\n",
    "log_file = os.path.join(local_dir, 'output', 'log.txt')\n",
    "assert(os.path.isfile(log_file))\n",
    "\n",
    "img_dir = os.path.join(local_dir, 'img')\n",
    "if not os.path.isdir(img_dir):\n",
    "    os.mkdir(img_dir)\n",
    "\n",
    "fig_path = os.path.join(img_dir, 'run_time', 'newton_solver.png')\n",
    "if not os.path.isdir(os.path.dirname(fig_path)):\n",
    "    os.mkdir(os.path.dirname(fig_path))\n",
    "o_path = PlotRunTime.PlotNewtonSolver(log_file, fig_path, step=step)"
   ]
  },
  {
   "cell_type": "markdown",
   "metadata": {},
   "source": [
    "### Plot non-linear solver history (by a step range)\n",
    "\n",
    "step_range is an array to assign.\n",
    "The default is None and every step will be plotted\n",
    "\n",
    "query_iterations are additional information of the residuals at specific iterations.\n",
    "The default is None and no additional information will be plotted"
   ]
  },
  {
   "cell_type": "code",
   "execution_count": null,
   "metadata": {},
   "outputs": [],
   "source": [
    "step_range = None # [5, 10]\n",
    "query_iterations = None # [10, 20]\n",
    "\n",
    "log_file = os.path.join(local_dir, 'output', 'log.txt')\n",
    "assert(os.path.isfile(log_file))\n",
    "\n",
    "img_dir = os.path.join(local_dir, 'img')\n",
    "if not os.path.isdir(img_dir):\n",
    "    os.mkdir(img_dir)\n",
    "\n",
    "fig_path = os.path.join(img_dir, 'run_time', 'newton_solver_history.png')\n",
    "if not os.path.isdir(os.path.dirname(fig_path)):\n",
    "    os.mkdir(os.path.dirname(fig_path))\n",
    "\n",
    "PlotRunTime.PlotNewtonSolverHistory(log_file, fig_path, step_range=step_range, query_iterations=query_iterations)"
   ]
  }
 ],
 "metadata": {
  "kernelspec": {
   "display_name": "Python (aspectLib)",
   "language": "python",
   "name": "aspectlib"
  },
  "language_info": {
   "codemirror_mode": {
    "name": "ipython",
    "version": 3
   },
   "file_extension": ".py",
   "mimetype": "text/x-python",
   "name": "python",
   "nbconvert_exporter": "python",
   "pygments_lexer": "ipython3",
   "version": "3.7.13"
  },
  "orig_nbformat": 4
 },
 "nbformat": 4,
 "nbformat_minor": 2
}
