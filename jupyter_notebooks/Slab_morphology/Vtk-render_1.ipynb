{
 "cells": [
  {
   "cell_type": "markdown",
   "metadata": {},
   "source": [
    "#### Read in vtu files, with the connectivities\n",
    "\n",
    "1. Read in vtu File\n",
    "2. Manage the connectivities\n",
    "3. Interpolate to a unit grid\n",
    "4. output"
   ]
  },
  {
   "cell_type": "code",
   "execution_count": 1,
   "metadata": {},
   "outputs": [],
   "source": [
    "import vtk\n",
    "import os\n",
    "import numpy as np\n",
    "from matplotlib import pyplot as plt\n",
    "from vtk.util.numpy_support import vtk_to_numpy"
   ]
  },
  {
   "cell_type": "markdown",
   "metadata": {},
   "source": [
    "#### Read in vtu file\n",
    "\n",
    "Here we read in the pvtu file directly, this file contains the link to the vtu files, so that we import the whole domain with this step."
   ]
  },
  {
   "cell_type": "code",
   "execution_count": 2,
   "metadata": {},
   "outputs": [],
   "source": [
    "filein = \"./solution/solution-00002.pvtu\"\n",
    "assert(os.path.isfile(filein))\n",
    "reader = vtk.vtkXMLPUnstructuredGridReader()\n",
    "reader.SetFileName(filein)\n",
    "reader.Update()\n",
    "grid = reader.GetOutput()\n",
    "data_set = reader.GetOutputAsDataSet()\n",
    "# reader.GetOutputDataObject()"
   ]
  },
  {
   "cell_type": "markdown",
   "metadata": {},
   "source": [
    "The \"grid\" object from the previous block contains the mesh information, which we can print out"
   ]
  },
  {
   "cell_type": "code",
   "execution_count": 3,
   "metadata": {},
   "outputs": [],
   "source": [
    "# print(grid)"
   ]
  },
  {
   "cell_type": "markdown",
   "metadata": {},
   "source": [
    "#### Manage the data\n",
    "\n",
    "##### Data concepts\n",
    "\n",
    "Within the structure of vtk, there are grid, dataset, polydata."
   ]
  },
  {
   "cell_type": "code",
   "execution_count": 4,
   "metadata": {},
   "outputs": [],
   "source": [
    "points = grid.GetPoints()\n",
    "cells = grid.GetCells()\n",
    "point_data = data_set.GetPointData()"
   ]
  },
  {
   "cell_type": "markdown",
   "metadata": {},
   "source": [
    "#### Get a specific array from the point data\n",
    "\n",
    "There is a convertion utility (imported above) to convert a vtkDataArray to a numpy array.\n",
    "In this case, we can see the array have the same number of field entries as the number of points."
   ]
  },
  {
   "cell_type": "code",
   "execution_count": 5,
   "metadata": {},
   "outputs": [
    {
     "name": "stdout",
     "output_type": "stream",
     "text": [
      "Field: T\n",
      "Shape of the array:  (32256,)\n",
      "[3500.      3192.051   3154.4424  ... 1156.9015   758.71094  273.     ]\n"
     ]
    }
   ],
   "source": [
    "data_array = vtk_to_numpy(point_data.GetArray('T'))\n",
    "print(\"Field: T\")\n",
    "print(\"Shape of the array: \", data_array.shape)\n",
    "print(data_array)"
   ]
  },
  {
   "cell_type": "markdown",
   "metadata": {},
   "source": [
    "#### construct a polydata\n",
    "\n",
    "In this section, a polydata object is constructed. In the second block down below, the interfaces of this object is tried. And in the third block, it is exported to a vtp file with one of vtp's standard writer. \n",
    "\n",
    "To start with, We need to set the ponts and data separately. These information comes from the \"points\" and \"point_data\" output we initiated from last block. \n",
    "The tricky part is we need to add the field arrays one by one. For now, I have found how to import all the fields from the file.\n",
    "There are a few points to pay attention:\n",
    "* to set the first field, one need to call \"SetScalars\", while the \"AddArray\" method should be called instead for fields after that.\n",
    "* One may also be confused about the \"SetPolys\" method. It turns out this set the cell information in the polydata. The reason for this is better visualized than explained in that one could comment out this line and visualized the two vtp file we output here and see the differences. Without the cell information, only points will be shown and the interpolation we are going to perform won't know what to do. The first file will be filled with points in that way and the second points will contain zeros in the temperature field.\n",
    "* It's sort of intuitive to print out what is in the cell array. It turns out those are in the \"connectivity\" part of the file imported (while, as far as I understand), and they are indexes of points that make up cells.\n",
    "* There is another thing called \"SetVerts\", which looks similar to the \"SetPolys\", in that they all requires the cell information. At this point, I am not sure what the differences are. Only thing I know is \"SetVerts\" doesn't work but \"SetPolys\" works.\n",
    "\n",
    "Here is the visualized result:\n",
    "\n",
    "![](./combined0.jpg)"
   ]
  },
  {
   "cell_type": "code",
   "execution_count": 6,
   "metadata": {},
   "outputs": [
    {
     "data": {
      "text/plain": [
       "1"
      ]
     },
     "execution_count": 6,
     "metadata": {},
     "output_type": "execute_result"
    }
   ],
   "source": [
    "i_poly_data = vtk.vtkPolyData()\n",
    "i_poly_data.SetPoints(points)\n",
    "# i_poly_data.SetVerts(cells)  # don't know what this actually does\n",
    "i_poly_data.SetPolys(cells)\n",
    "i_poly_data.GetPointData().SetScalars(point_data.GetArray('T'))  # put T into cell data\n",
    "i_poly_data.GetPointData().AddArray(point_data.GetArray('density'))  # put T into cell data\n",
    "# print(i_poly_data)  # more information"
   ]
  },
  {
   "cell_type": "code",
   "execution_count": 7,
   "metadata": {},
   "outputs": [
    {
     "name": "stdout",
     "output_type": "stream",
     "text": [
      "Points from the polydata: \n",
      "shape:  (32256, 3)\n",
      "Data:\n",
      "[[3481000.        0.        0. ]\n",
      " [3526156.2       0.        0. ]\n",
      " [3571312.5       0.        0. ]\n",
      " ...\n",
      " [3066830.  5532707.5       0. ]\n",
      " [3077776.  5552455.        0. ]\n",
      " [3088722.  5572202.        0. ]]\n",
      "T from the poly data\n",
      "shape:  (32256,)\n",
      "Data\n",
      "[3500.      3192.051   3154.4424  ... 1156.9015   758.71094  273.     ]\n"
     ]
    }
   ],
   "source": [
    "# check the interfaces of vtkPolyData\n",
    "# Here we check that the same interfaces we used for the \"unstructured grid\" would also work for the vtkPolyData\n",
    "#\tget coordinates\n",
    "#\tget point data\n",
    "temp_points = i_poly_data.GetPoints()\n",
    "temp_array = vtk_to_numpy(temp_points.GetData())\n",
    "print(\"Points from the polydata: \")\n",
    "print(\"shape: \", temp_array.shape)\n",
    "print(\"Data:\")\n",
    "print(temp_array)\n",
    "temp_Ts = i_poly_data.GetPointData().GetArray('T')\n",
    "temp_T_array = vtk_to_numpy(temp_Ts)\n",
    "print(\"T from the poly data\")\n",
    "print(\"shape: \", temp_T_array.shape)\n",
    "print(\"Data\")\n",
    "print(temp_T_array)"
   ]
  },
  {
   "cell_type": "code",
   "execution_count": 8,
   "metadata": {},
   "outputs": [
    {
     "data": {
      "text/plain": [
       "1"
      ]
     },
     "execution_count": 8,
     "metadata": {},
     "output_type": "execute_result"
    }
   ],
   "source": [
    "# test output directly from what's read in\n",
    "fileout = \"test_output.vtp\"\n",
    "# output\n",
    "writer = vtk.vtkXMLPolyDataWriter()\n",
    "writer.SetFileName(fileout)\n",
    "writer.SetInputData(i_poly_data)\n",
    "# writer.SetFileTypeToBinary()  # try this later to see if this works\n",
    "writer.Update()\n",
    "writer.Write()"
   ]
  },
  {
   "cell_type": "markdown",
   "metadata": {},
   "source": [
    "#### Interpolate to a uniform grid\n",
    "\n",
    "To demonstrate some usage of the vtk package, the subduction fields we imported are interpolated to a uniform field in this section using vtk's built-in interpolation method.\n",
    "\n",
    "What we need to do is to first construct a uniform mesh, then pass the mesh to a \"vtkProbeFilter\" object, and connect it to the polydata we constructed in the last step. Last, tell it to \"Update()\". This way, the interpolation will be performed. \n",
    "Another convenient feature is we could pass any object to a writer. In this case, we would export the ProbeFilter dataset directly to a vtp file.\n",
    "\n",
    "Here is the visualized results:\n",
    "\n",
    "There are a few things to notice.\n",
    "* First, as we didn't provide any information of the cells, there are only points in the outputs.\n",
    "* Second, we have entered some points that locate outside of the domain we provided (small radius). Thus, they are assigned zero values.\n",
    "* Third, there is some incontinuity on the boundary of the lower mantle. For this, I am not sure what to do.\n",
    "\n",
    "\n",
    "![](combine1.jpg)"
   ]
  },
  {
   "cell_type": "code",
   "execution_count": 9,
   "metadata": {},
   "outputs": [],
   "source": [
    "rSize = 100\n",
    "phiSize = 200\n",
    "rMax = 6370e3\n",
    "rMin = 2980e3\n",
    "rIntr = (rMax - rMin) / rSize\n",
    "phiMax = 1.064\n",
    "phiMin = 0.0\n",
    "phiIntr = (phiMax - phiMin) / phiSize\n",
    "gridPoints = vtk.vtkPoints()\n",
    "for i in range(rSize):\n",
    "    for j in range(phiSize):\n",
    "        val_r = rMin + i*rIntr\n",
    "        val_phi = phiMin + j*phiIntr\n",
    "        val_x = val_r * np.cos(val_phi)\n",
    "        val_y = val_r * np.sin(val_phi)\n",
    "        gridPoints.InsertNextPoint(val_x, val_y, 0)\n",
    "\n",
    "# Create a dataset from the grid points\n",
    "gridPolyData = vtk.vtkPolyData()\n",
    "gridPolyData.SetPoints(gridPoints)"
   ]
  },
  {
   "cell_type": "code",
   "execution_count": 10,
   "metadata": {},
   "outputs": [
    {
     "name": "stdout",
     "output_type": "stream",
     "text": [
      "Perform interpolation onto the new grid\n"
     ]
    },
    {
     "data": {
      "text/plain": [
       "1"
      ]
     },
     "execution_count": 10,
     "metadata": {},
     "output_type": "execute_result"
    }
   ],
   "source": [
    "fileout = \"uniform_grid_r%d_phi%d.vtp\" % (rSize, phiSize)\n",
    "\n",
    "# Perform the interpolation\n",
    "print(\"Perform interpolation onto the new grid\")\n",
    "probeFilter = vtk.vtkProbeFilter()\n",
    "probeFilter.SetSourceData(i_poly_data)  # use the polydata\n",
    "probeFilter.SetInputData(gridPolyData) # Interpolate 'Source' at these points\n",
    "probeFilter.Update()\n",
    "\n",
    "# output\n",
    "writer = vtk.vtkXMLPolyDataWriter()\n",
    "writer.SetFileName(fileout)\n",
    "writer.SetInputConnection(probeFilter.GetOutputPort())\n",
    "writer.Update()\n",
    "writer.Write()"
   ]
  },
  {
   "cell_type": "markdown",
   "metadata": {},
   "source": [
    "#### Extract a temperature contour of 1200 C\n",
    "\n",
    "Note the geometry is spherical, and the contour follows the surface of that sphere while the dip in the middle matches the slab."
   ]
  },
  {
   "cell_type": "code",
   "execution_count": 11,
   "metadata": {},
   "outputs": [
    {
     "name": "stdout",
     "output_type": "stream",
     "text": [
      "Filter contour\n"
     ]
    },
    {
     "data": {
      "text/plain": [
       "<matplotlib.legend.Legend at 0x7efe66447250>"
      ]
     },
     "execution_count": 11,
     "metadata": {},
     "output_type": "execute_result"
    },
    {
     "data": {
      "image/png": "[encoded data removed]",
      "text/plain": [
       "<Figure size 432x288 with 1 Axes>"
      ]
     },
     "metadata": {
      "needs_background": "light"
     },
     "output_type": "display_data"
    }
   ],
   "source": [
    "print(\"Filter contour\")\n",
    "contour_value = 1473.0 # 1200 C\n",
    "contour_filter = vtk.vtkContourFilter()\n",
    "# prepare poly data for contour, we only include field 'T' in this one\n",
    "# there might be better way to do this, but this is what I could do the\n",
    "# contour filter: to only import one data field.\n",
    "c_poly_data = vtk.vtkPolyData()\n",
    "c_vtk_point_data = i_poly_data.GetPointData()  # vtkPointData\n",
    "c_poly_data.SetPoints(i_poly_data.GetPoints())  # import points and polys\n",
    "c_poly_data.SetPolys(i_poly_data.GetPolys())\n",
    "vtk_data_array = c_vtk_point_data.GetArray('T')\n",
    "assert(vtk_data_array != None)\n",
    "c_poly_data.GetPointData().SetScalars(vtk_data_array)\n",
    "# draw contour \n",
    "contour_filter.SetInputData(c_poly_data)\n",
    "contour_filter.Update()\n",
    "contour_filter.GenerateValues(1, contour_value, contour_value)  # Extract just one contour\n",
    "contour_filter.Update()\n",
    "points = vtk_to_numpy(contour_filter.GetOutput().GetPoints().GetData())  # yes, we need to call 3 functions ...\n",
    "# plot the contour\n",
    "fig, ax = plt.subplots()\n",
    "ax.plot(points[:, 0], points[:, 1], 'b.', label=\"T contour (1200 K)\")\n",
    "ax.axis('equal')\n",
    "ax.set_xlabel('X (m)')\n",
    "ax.set_ylabel('Y (m)')\n",
    "ax.legend()"
   ]
  },
  {
   "cell_type": "code",
   "execution_count": null,
   "metadata": {},
   "outputs": [
    {
     "ename": "",
     "evalue": "",
     "output_type": "error",
     "traceback": [
      "\u001b[1;31mCanceled future for execute_request message before replies were done"
     ]
    },
    {
     "ename": "",
     "evalue": "",
     "output_type": "error",
     "traceback": [
      "\u001b[1;31mThe Kernel crashed while executing code in the the current cell or a previous cell. Please review the code in the cell(s) to identify a possible cause of the failure. Click <a href='https://aka.ms/vscodeJupyterKernelCrash'>here</a> for more info. View Jupyter <a href='command:jupyter.viewOutput'>log</a> for further details."
     ]
    }
   ],
   "source": [
    "colors = vtk.vtkNamedColors()\n",
    "surfaceColor = colors.GetColor3d('Peacock')\n",
    "backgroundColor = colors.GetColor3d('Silver')\n",
    "\n",
    "# set an actor\n",
    "# i_poly_data\n",
    "surfaceMapper = vtk.vtkDataSetMapper()\n",
    "surfaceMapper.SetInputData(i_poly_data)\n",
    "surfaceMapper.ScalarVisibilityOff()\n",
    "\n",
    "surfaceActor = vtk.vtkActor()\n",
    "surfaceActor.SetMapper(surfaceMapper)\n",
    "surfaceActor.GetProperty().SetDiffuseColor(surfaceColor)\n",
    "surfaceActor.GetProperty().SetOpacity(.1)\n",
    "\n",
    "renderer = vtk.vtkRenderer()\n",
    "renderWindow = vtk.vtkRenderWindow()\n",
    "renderWindow.AddRenderer(renderer)\n",
    "renderWindow.SetSize(640, 480)\n",
    "\n",
    "renderWindowInteractor = vtk.vtkRenderWindowInteractor()\n",
    "renderWindowInteractor.SetRenderWindow(renderWindow)\n",
    "renderer.SetBackground(backgroundColor)\n",
    "renderer.UseHiddenLineRemovalOn()\n",
    "renderer.AddActor(surfaceActor)\n",
    "\n",
    "renderWindow.SetWindowName('TestRendering')\n",
    "renderWindow.Render()\n",
    "renderer.GetActiveCamera().Azimuth(30)\n",
    "renderer.GetActiveCamera().Elevation(30)\n",
    "renderer.GetActiveCamera().Dolly(1.25)\n",
    "renderWindow.Render()\n",
    "\n",
    "renderWindowInteractor.Start()"
   ]
  }
 ],
 "metadata": {
  "interpreter": {
   "hash": "04f94a466fc6855f7f994dd3204adbc7760ad767ef3aef9ead569409decf9820"
  },
  "kernelspec": {
   "display_name": "Python (aspectLib)",
   "language": "python",
   "name": "myenv"
  },
  "language_info": {
   "codemirror_mode": {
    "name": "ipython",
    "version": 3
   },
   "file_extension": ".py",
   "mimetype": "text/x-python",
   "name": "python",
   "nbconvert_exporter": "python",
   "pygments_lexer": "ipython3",
   "version": "3.7.13"
  },
  "orig_nbformat": 4
 },
 "nbformat": 4,
 "nbformat_minor": 2
}
