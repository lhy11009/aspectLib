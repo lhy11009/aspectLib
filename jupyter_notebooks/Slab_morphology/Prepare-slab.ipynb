{
 "cells": [
  {
   "cell_type": "markdown",
   "metadata": {},
   "source": [
    "### Prepare the slab by picking up internal points of the slab"
   ]
  },
  {
   "cell_type": "code",
   "execution_count": 6,
   "metadata": {},
   "outputs": [],
   "source": [
    "import sys\n",
    "sys.path.append('../python_scripts/')\n",
    "from VtkPp import VTKP\n",
    "import os"
   ]
  },
  {
   "cell_type": "markdown",
   "metadata": {},
   "source": [
    "#### load the data"
   ]
  },
  {
   "cell_type": "code",
   "execution_count": 9,
   "metadata": {},
   "outputs": [],
   "source": [
    "filein = os.path.join(\"solution\", \"solution-00002.pvtu\")\n",
    "assert(os.path.isfile(filein))\n",
    "VtkP = VTKP()\n",
    "VtkP.ReadFile(filein)\n",
    "field_names = ['T', 'density', 'spcrust', 'spharz']\n",
    "VtkP.ConstructPolyData(field_names)\n",
    "# VtkP.PrepareSlab(['spcrust', 'spharz'])"
   ]
  },
  {
   "cell_type": "markdown",
   "metadata": {},
   "source": [
    "#### Prepare slab\n",
    "\n"
   ]
  }
 ],
 "metadata": {
  "interpreter": {
   "hash": "04f94a466fc6855f7f994dd3204adbc7760ad767ef3aef9ead569409decf9820"
  },
  "kernelspec": {
   "display_name": "Python 3.7.10 ('aspectLib')",
   "language": "python",
   "name": "python3"
  },
  "language_info": {
   "codemirror_mode": {
    "name": "ipython",
    "version": 3
   },
   "file_extension": ".py",
   "mimetype": "text/x-python",
   "name": "python",
   "nbconvert_exporter": "python",
   "pygments_lexer": "ipython3",
   "version": "3.7.10"
  },
  "orig_nbformat": 4
 },
 "nbformat": 4,
 "nbformat_minor": 2
}
