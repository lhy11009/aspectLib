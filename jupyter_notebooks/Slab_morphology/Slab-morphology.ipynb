{
 "cells": [
  {
   "cell_type": "markdown",
   "metadata": {},
   "source": [
    "#### Read in vtu files, with the connectivities\n",
    "\n",
    "1. Read in vtu File\n",
    "2. Manage the connectivities\n",
    "3. Interpolate to a unit grid\n",
    "4. output"
   ]
  },
  {
   "cell_type": "code",
   "execution_count": null,
   "metadata": {},
   "outputs": [],
   "source": [
    "import vtk\n",
    "import os\n",
    "import numpy as np\n",
    "from vtk.util.numpy_support import vtk_to_numpy"
   ]
  },
  {
   "cell_type": "markdown",
   "metadata": {},
   "source": [
    "#### Read in vtu file\n",
    "\n",
    "Here we read in the pvtu file directly, this file contains the link to the vtu files, so that we import the whole domain with this step."
   ]
  },
  {
   "cell_type": "code",
   "execution_count": null,
   "metadata": {},
   "outputs": [],
   "source": [
    "filein = \"./solution/solution-00002.pvtu\"\n",
    "assert(os.path.isfile(filein))\n",
    "reader = vtk.vtkXMLPUnstructuredGridReader()\n",
    "reader.SetFileName(filein)\n",
    "reader.Update()\n",
    "grid = reader.GetOutput()\n",
    "data_set = reader.GetOutputAsDataSet()\n",
    "# reader.GetOutputDataObject()"
   ]
  },
  {
   "cell_type": "markdown",
   "metadata": {},
   "source": [
    "The \"grid\" object from the previous block contains the mesh information, which we can print out"
   ]
  },
  {
   "cell_type": "code",
   "execution_count": null,
   "metadata": {},
   "outputs": [],
   "source": [
    "# print(grid)"
   ]
  },
  {
   "cell_type": "markdown",
   "metadata": {},
   "source": [
    "#### Manage the data\n",
    "\n",
    "##### Data concepts\n",
    "\n",
    "Within the structure of vtk, there are grid, dataset, polydata."
   ]
  },
  {
   "cell_type": "code",
   "execution_count": null,
   "metadata": {},
   "outputs": [],
   "source": [
    "points = grid.GetPoints()\n",
    "cells = grid.GetCells()\n",
    "point_data = data_set.GetPointData()"
   ]
  },
  {
   "cell_type": "markdown",
   "metadata": {},
   "source": [
    "#### Get a specific array from the point data\n",
    "\n",
    "There is a convertion utility (imported above) to convert a vtkDataArray to a numpy array.\n",
    "In this case, we can see the array have the same number of field entries as the number of points."
   ]
  },
  {
   "cell_type": "code",
   "execution_count": null,
   "metadata": {},
   "outputs": [],
   "source": [
    "data_array = vtk_to_numpy(point_data.GetArray('T'))\n",
    "print(\"Field: T\")\n",
    "print(\"Shape of the array: \", data_array.shape)\n",
    "print(data_array)"
   ]
  },
  {
   "cell_type": "markdown",
   "metadata": {},
   "source": [
    "#### construct a polydata\n",
    "\n",
    "In this section, a polydata object is constructed. In the second block down below, the interfaces of this object is tried. And in the third block, it is exported to a vtp file with one of vtp's standard writer. \n",
    "\n",
    "To start with, We need to set the ponts and data separately. These information comes from the \"points\" and \"point_data\" output we initiated from last block. \n",
    "The tricky part is we need to add the field arrays one by one. For now, I have found how to import all the fields from the file.\n",
    "There are a few points to pay attention:\n",
    "* to set the first field, one need to call \"SetScalars\", while the \"AddArray\" method should be called instead for fields after that.\n",
    "* One may also be confused about the \"SetPolys\" method. It turns out this set the cell information in the polydata. The reason for this is better visualized than explained in that one could comment out this line and visualized the two vtp file we output here and see the differences. Without the cell information, only points will be shown and the interpolation we are going to perform won't know what to do. The first file will be filled with points in that way and the second points will contain zeros in the temperature field.\n",
    "* It's sort of intuitive to print out what is in the cell array. It turns out those are in the \"connectivity\" part of the file imported (while, as far as I understand), and they are indexes of points that make up cells.\n",
    "* There is another thing called \"SetVerts\", which looks similar to the \"SetPolys\", in that they all requires the cell information. At this point, I am not sure what the differences are. Only thing I know is \"SetVerts\" doesn't work but \"SetPolys\" works.\n",
    "\n",
    "Here is the visualized result:\n",
    "\n",
    "![](./combined0.jpg)"
   ]
  },
  {
   "cell_type": "code",
   "execution_count": null,
   "metadata": {},
   "outputs": [],
   "source": [
    "i_poly_data = vtk.vtkPolyData()\n",
    "i_poly_data.SetPoints(points)\n",
    "# i_poly_data.SetVerts(cells)  # don't know what this actually does\n",
    "i_poly_data.SetPolys(cells)\n",
    "i_poly_data.GetPointData().SetScalars(point_data.GetArray('T'))  # put T into cell data\n",
    "i_poly_data.GetPointData().AddArray(point_data.GetArray('density'))  # put T into cell data\n",
    "# print(i_poly_data)  # more information"
   ]
  },
  {
   "cell_type": "code",
   "execution_count": null,
   "metadata": {},
   "outputs": [],
   "source": [
    "# check the interfaces of vtkPolyData\n",
    "# Here we check that the same interfaces we used for the \"unstructured grid\" would also work for the vtkPolyData\n",
    "#\tget coordinates\n",
    "#\tget point data\n",
    "temp_points = i_poly_data.GetPoints()\n",
    "temp_array = vtk_to_numpy(temp_points.GetData())\n",
    "print(\"Points from the polydata: \")\n",
    "print(\"shape: \", temp_array.shape)\n",
    "print(\"Data:\")\n",
    "print(temp_array)\n",
    "temp_Ts = i_poly_data.GetPointData().GetArray('T')\n",
    "temp_T_array = vtk_to_numpy(temp_Ts)\n",
    "print(\"T from the poly data\")\n",
    "print(\"shape: \", temp_T_array.shape)\n",
    "print(\"Data\")\n",
    "print(temp_T_array)"
   ]
  },
  {
   "cell_type": "code",
   "execution_count": null,
   "metadata": {},
   "outputs": [],
   "source": [
    "# test output directly from what's read in\n",
    "fileout = \"test_output.vtp\"\n",
    "# output\n",
    "writer = vtk.vtkXMLPolyDataWriter()\n",
    "writer.SetFileName(fileout)\n",
    "writer.SetInputData(i_poly_data)\n",
    "# writer.SetFileTypeToBinary()  # try this later to see if this works\n",
    "writer.Update()\n",
    "writer.Write()"
   ]
  },
  {
   "cell_type": "markdown",
   "metadata": {},
   "source": [
    "#### Interpolate to a uniform grid\n",
    "\n",
    "To demonstrate some usage of the vtk package, the subduction fields we imported are interpolated to a uniform field in this section using vtk's built-in interpolation method.\n",
    "\n",
    "What we need to do is to first construct a uniform mesh, then pass the mesh to a \"vtkProbeFilter\" object, and connect it to the polydata we constructed in the last step. Last, tell it to \"Update()\". This way, the interpolation will be performed. \n",
    "Another convenient feature is we could pass any object to a writer. In this case, we would export the ProbeFilter dataset directly to a vtp file.\n",
    "\n",
    "Here is the visualized results:\n",
    "\n",
    "There are a few things to notice.\n",
    "* First, as we didn't provide any information of the cells, there are only points in the outputs.\n",
    "* Second, we have entered some points that locate outside of the domain we provided (small radius). Thus, they are assigned zero values.\n",
    "* Third, there is some incontinuity on the boundary of the lower mantle. For this, I am not sure what to do.\n",
    "\n",
    "\n",
    "![](combine1.jpg)"
   ]
  },
  {
   "cell_type": "code",
   "execution_count": null,
   "metadata": {},
   "outputs": [],
   "source": [
    "rSize = 100\n",
    "phiSize = 200\n",
    "rMax = 6370e3\n",
    "rMin = 2980e3\n",
    "rIntr = (rMax - rMin) / rSize\n",
    "phiMax = 1.064\n",
    "phiMin = 0.0\n",
    "phiIntr = (phiMax - phiMin) / phiSize\n",
    "gridPoints = vtk.vtkPoints()\n",
    "for i in range(rSize):\n",
    "    for j in range(phiSize):\n",
    "        val_r = rMin + i*rIntr\n",
    "        val_phi = phiMin + j*phiIntr\n",
    "        val_x = val_r * np.cos(val_phi)\n",
    "        val_y = val_r * np.sin(val_phi)\n",
    "        gridPoints.InsertNextPoint(val_x, val_y, 0)\n",
    "\n",
    "# Create a dataset from the grid points\n",
    "gridPolyData = vtk.vtkPolyData()\n",
    "gridPolyData.SetPoints(gridPoints)"
   ]
  },
  {
   "cell_type": "code",
   "execution_count": null,
   "metadata": {},
   "outputs": [],
   "source": [
    "fileout = \"uniform_grid_r%d_phi%d.vtp\" % (rSize, phiSize)\n",
    "\n",
    "# Perform the interpolation\n",
    "print(\"Perform interpolation onto the new grid\")\n",
    "probeFilter = vtk.vtkProbeFilter()\n",
    "probeFilter.SetSourceData(i_poly_data)  # use the polydata\n",
    "probeFilter.SetInputData(gridPolyData) # Interpolate 'Source' at these points\n",
    "probeFilter.Update()\n",
    "\n",
    "# output\n",
    "writer = vtk.vtkXMLPolyDataWriter()\n",
    "writer.SetFileName(fileout)\n",
    "writer.SetInputConnection(probeFilter.GetOutputPort())\n",
    "writer.Update()\n",
    "writer.Write()"
   ]
  }
 ],
 "metadata": {
  "interpreter": {
   "hash": "04f94a466fc6855f7f994dd3204adbc7760ad767ef3aef9ead569409decf9820"
  },
  "kernelspec": {
   "display_name": "Python 3.7.10 ('aspectLib')",
   "language": "python",
   "name": "python3"
  },
  "language_info": {
   "codemirror_mode": {
    "name": "ipython",
    "version": 3
   },
   "file_extension": ".py",
   "mimetype": "text/x-python",
   "name": "python",
   "nbconvert_exporter": "python",
   "pygments_lexer": "ipython3",
   "version": "3.7.10"
  },
  "orig_nbformat": 4
 },
 "nbformat": 4,
 "nbformat_minor": 2
}
